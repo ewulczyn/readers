{
 "cells": [
  {
   "cell_type": "code",
   "execution_count": 83,
   "metadata": {
    "collapsed": false
   },
   "outputs": [
    {
     "name": "stdout",
     "output_type": "stream",
     "text": [
      "The autoreload extension is already loaded. To reload it, use:\n",
      "  %reload_ext autoreload\n"
     ]
    }
   ],
   "source": [
    "%load_ext autoreload\n",
    "%autoreload 2\n",
    "%matplotlib inline\n",
    "import warnings\n",
    "warnings.filterwarnings('ignore')\n",
    "import pandas as pd\n",
    "from db_utils import *\n",
    "\n",
    "def query_db(host,query, params):\n",
    "    conn = pymysql.connect(host =host, read_default_file=\"/etc/mysql/conf.d/analytics-research-client.cnf\")\n",
    "    cursor = conn.cursor(pymysql.cursors.DictCursor)\n",
    "    cursor.execute(query, params)\n",
    "    rows = cursor.fetchall()\n",
    "    conn.close()\n",
    "    return mysql_to_pandas(rows)"
   ]
  },
  {
   "cell_type": "markdown",
   "metadata": {},
   "source": [
    "- [QuickSurveysResponses_15266417](https://meta.wikimedia.org/wiki/Schema:QuickSurveysResponses)\n",
    "- [QuickSurveyInitiation_15278946](https://meta.wikimedia.org/wiki/Schema:QuickSurveyInitiation)\n",
    "- [Survey](https://docs.google.com/spreadsheets/d/1JD8-knLmnFXVwXxJYx6w9RRmxZWasSLaSKvj85SgrzE/edit?ts=56c3ccd2#gid=1291145097)"
   ]
  },
  {
   "cell_type": "code",
   "execution_count": 84,
   "metadata": {
    "collapsed": true
   },
   "outputs": [],
   "source": [
    "response_table = 'log.QuickSurveysResponses_15266417'\n",
    "impression_table = 'log.QuickSurveyInitiation_15278946'\n",
    "host = 'analytics-store.eqiad.wmnet'"
   ]
  },
  {
   "cell_type": "markdown",
   "metadata": {},
   "source": [
    "### EL Summary Stats"
   ]
  },
  {
   "cell_type": "code",
   "execution_count": 99,
   "metadata": {
    "collapsed": false
   },
   "outputs": [
    {
     "name": "stdout",
     "output_type": "stream",
     "text": [
      "Eligible Pageviews:  15574\n",
      "Widget Impressions:  12424\n",
      "Clicks:  149\n",
      "Yeses:  37\n",
      "Nos:  112\n"
     ]
    }
   ],
   "source": [
    "query = \"\"\"\n",
    "SELECT\n",
    "    COUNT(*) as n\n",
    "FROM log.QuickSurveyInitiation_15278946\n",
    "WHERE\n",
    "    event_eventName ='eligible'\n",
    "\"\"\"\n",
    "\n",
    "n_eligible = query_db(host, query, {}).iloc[0]['n']\n",
    "\n",
    "query = \"\"\"\n",
    "SELECT\n",
    "    COUNT(*) as n\n",
    "FROM log.QuickSurveyInitiation_15278946\n",
    "WHERE\n",
    "    event_eventName ='impression'\n",
    "\"\"\"\n",
    "\n",
    "n_impressions = query_db(host, query, {}).iloc[0]['n']\n",
    "\n",
    "query = \"\"\"\n",
    "SELECT\n",
    "    COUNT(*) as n\n",
    "FROM log.QuickSurveysResponses_15266417\n",
    "\"\"\"\n",
    "n_responses = query_db(host, query, {}).iloc[0]['n']\n",
    "\n",
    "query = \"\"\"\n",
    "SELECT\n",
    "    COUNT(*) as n\n",
    "FROM log.QuickSurveysResponses_15266417\n",
    "WHERE\n",
    "    event_surveyResponseValue ='ext-quicksurveys-external-survey-yes-button'\n",
    "\"\"\"\n",
    "n_yes = query_db(host, query, {}).iloc[0]['n']\n",
    "\n",
    "query = \"\"\"\n",
    "SELECT\n",
    "    COUNT(*) as n\n",
    "FROM log.QuickSurveysResponses_15266417\n",
    "WHERE\n",
    "    event_surveyResponseValue ='ext-quicksurveys-external-survey-no-button'\n",
    "\"\"\"\n",
    "n_no = query_db(host, query, {}).iloc[0]['n']\n",
    "\n",
    "\n",
    "\n",
    "print('Eligible Pageviews: ', n_eligible)\n",
    "print('Widget Impressions: ', n_impressions)\n",
    "print('Clicks: ', n_responses)\n",
    "print('Yeses: ', n_yes)\n",
    "print('Nos: ', n_no)"
   ]
  },
  {
   "cell_type": "markdown",
   "metadata": {},
   "source": [
    "### Does each eligible pageview have a unique survey token?"
   ]
  },
  {
   "cell_type": "code",
   "execution_count": 100,
   "metadata": {
    "collapsed": false
   },
   "outputs": [
    {
     "name": "stdout",
     "output_type": "stream",
     "text": [
      "15572\n"
     ]
    }
   ],
   "source": [
    "query = \"\"\"\n",
    "SELECT COUNT(DISTINCT(event_surveyInstanceToken)) as n\n",
    "FROM log.QuickSurveyInitiation_15278946\n",
    "WHERE event_eventName ='eligible'\n",
    "\"\"\"\n",
    "print(query_db(host,query, {}).iloc[0]['n'])"
   ]
  },
  {
   "cell_type": "markdown",
   "metadata": {},
   "source": [
    "Pretty Close"
   ]
  },
  {
   "cell_type": "markdown",
   "metadata": {},
   "source": [
    "### Does each widget impression have a unique survey token?"
   ]
  },
  {
   "cell_type": "code",
   "execution_count": 101,
   "metadata": {
    "collapsed": false
   },
   "outputs": [
    {
     "name": "stdout",
     "output_type": "stream",
     "text": [
      "12421\n"
     ]
    }
   ],
   "source": [
    "query = \"\"\"\n",
    "SELECT COUNT(DISTINCT(event_surveyInstanceToken)) as n\n",
    "FROM log.QuickSurveyInitiation_15278946\n",
    "WHERE event_eventName ='impression'\n",
    "\"\"\"\n",
    "print(query_db(host,query, {}).iloc[0]['n'])"
   ]
  },
  {
   "cell_type": "markdown",
   "metadata": {},
   "source": [
    "Pretty Close."
   ]
  },
  {
   "cell_type": "markdown",
   "metadata": {},
   "source": [
    "### Does each Widget Impression have a matching Pageview?"
   ]
  },
  {
   "cell_type": "code",
   "execution_count": 103,
   "metadata": {
    "collapsed": false
   },
   "outputs": [
    {
     "name": "stdout",
     "output_type": "stream",
     "text": [
      "12405\n"
     ]
    }
   ],
   "source": [
    "query = \"\"\"\n",
    "SELECT\n",
    "    COUNT(DISTINCT(i.event_surveyInstanceToken)) as n\n",
    "FROM\n",
    "    (SELECT event_surveyInstanceToken\n",
    "    FROM log.QuickSurveyInitiation_15278946\n",
    "    WHERE\n",
    "    event_eventName ='impression') i\n",
    "JOIN\n",
    "    (SELECT event_surveyInstanceToken\n",
    "    FROM log.QuickSurveyInitiation_15278946\n",
    "    WHERE\n",
    "    event_eventName ='eligible') e\n",
    "ON\n",
    "    (i.event_surveyInstanceToken = e.event_surveyInstanceToken)\n",
    "\"\"\"\n",
    "\n",
    "df = query_db(host,query, {})\n",
    "print(df.iloc[0]['n'])"
   ]
  },
  {
   "cell_type": "markdown",
   "metadata": {},
   "source": [
    "Close. It seems there are a small number of impressions without a matching pageview."
   ]
  },
  {
   "cell_type": "markdown",
   "metadata": {},
   "source": [
    "### Does each click have a matching Widget Impression?"
   ]
  },
  {
   "cell_type": "code",
   "execution_count": 104,
   "metadata": {
    "collapsed": false
   },
   "outputs": [
    {
     "name": "stdout",
     "output_type": "stream",
     "text": [
      "148 148\n"
     ]
    }
   ],
   "source": [
    "query = \"\"\"\n",
    "SELECT *\n",
    "FROM\n",
    "    log.QuickSurveysResponses_15266417 r,\n",
    "    log.QuickSurveyInitiation_15278946 i\n",
    "WHERE\n",
    "    r.event_surveyInstanceToken = i.event_surveyInstanceToken\n",
    "    AND i.event_eventName ='impression'\n",
    "\"\"\" \n",
    "\n",
    "d_click = query_db(host, query, {})\n",
    "print(d_click.shape[0], len(set(d_click['event_surveyInstanceToken'])))"
   ]
  },
  {
   "cell_type": "markdown",
   "metadata": {
    "collapsed": true
   },
   "source": [
    "Each click has exactly one widget impression. One click without a matching rendered widget"
   ]
  },
  {
   "cell_type": "markdown",
   "metadata": {},
   "source": [
    "### Does each Google Survey Response have a registered click"
   ]
  },
  {
   "cell_type": "code",
   "execution_count": 105,
   "metadata": {
    "collapsed": false
   },
   "outputs": [],
   "source": [
    "d_survey = pd.read_csv('responses.tsv', sep = '\\t')\n",
    "st = 'This is you survey ID. Please do not modify.'\n",
    "ct = 'event_surveyInstanceToken'\n",
    "df_survey_click = d_survey.merge(d_click, how = 'inner', right_on = ct, left_on = st)"
   ]
  },
  {
   "cell_type": "code",
   "execution_count": 106,
   "metadata": {
    "collapsed": false
   },
   "outputs": [
    {
     "name": "stdout",
     "output_type": "stream",
     "text": [
      "23\n"
     ]
    }
   ],
   "source": [
    "print(df_survey_click.shape[0])"
   ]
  },
  {
   "cell_type": "markdown",
   "metadata": {},
   "source": [
    "Only 23 out of 33 survey responses have a matching click."
   ]
  },
  {
   "cell_type": "markdown",
   "metadata": {},
   "source": [
    "### Does each Google Survey Response have a registered impression?"
   ]
  },
  {
   "cell_type": "code",
   "execution_count": 108,
   "metadata": {
    "collapsed": false
   },
   "outputs": [],
   "source": [
    "query = \"\"\"\n",
    "SELECT\n",
    "    event_surveyInstanceToken\n",
    "FROM log.QuickSurveyInitiation_15278946\n",
    "WHERE\n",
    "    event_eventName ='impression'\n",
    "\"\"\"\n",
    "\n",
    "d_impression = query_db(host,query, {})\n",
    "df_survey_impression = d_survey.merge(d_impression, how = 'inner', right_on = 'event_surveyInstanceToken', left_on = st)"
   ]
  },
  {
   "cell_type": "code",
   "execution_count": 109,
   "metadata": {
    "collapsed": false
   },
   "outputs": [
    {
     "name": "stdout",
     "output_type": "stream",
     "text": [
      "24\n"
     ]
    }
   ],
   "source": [
    "print(df_survey_impression.shape[0])"
   ]
  },
  {
   "cell_type": "markdown",
   "metadata": {},
   "source": [
    "Only 24 out of 33 survey responses have a matching click."
   ]
  },
  {
   "cell_type": "markdown",
   "metadata": {},
   "source": [
    "### Summary"
   ]
  },
  {
   "cell_type": "code",
   "execution_count": 110,
   "metadata": {
    "collapsed": false
   },
   "outputs": [
    {
     "name": "stdout",
     "output_type": "stream",
     "text": [
      "Eligible Pageviews:  15574\n",
      "Widget Impressions:  12424\n",
      "Clicks:  149\n",
      "Yeses:  37\n",
      "Google Responses tracked in EL 23\n",
      "Google Responses 33\n"
     ]
    }
   ],
   "source": [
    "print('Eligible Pageviews: ', n_eligible)\n",
    "print('Widget Impressions: ', n_impressions)\n",
    "print('Clicks: ', n_responses)\n",
    "print('Yeses: ', n_yes)\n",
    "print('Google Responses tracked in EL', df_survey_click.shape[0])\n",
    "print('Google Responses', d_survey.shape[0])"
   ]
  },
  {
   "cell_type": "markdown",
   "metadata": {},
   "source": [
    "- Don't know how many users where in the sample\n",
    "- One in 300 pageviews results in a 'Yes'\n",
    "- 62% of 'Yes' events lead to a survery response\n",
    "- only 60% of survey responses are trackable in EL"
   ]
  },
  {
   "cell_type": "code",
   "execution_count": null,
   "metadata": {
    "collapsed": true
   },
   "outputs": [],
   "source": []
  }
 ],
 "metadata": {
  "kernelspec": {
   "display_name": "Python 3",
   "language": "python",
   "name": "python3"
  },
  "language_info": {
   "codemirror_mode": {
    "name": "ipython",
    "version": 3
   },
   "file_extension": ".py",
   "mimetype": "text/x-python",
   "name": "python",
   "nbconvert_exporter": "python",
   "pygments_lexer": "ipython3",
   "version": "3.4.3"
  }
 },
 "nbformat": 4,
 "nbformat_minor": 0
}
