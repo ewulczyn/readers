{
 "cells": [
  {
   "cell_type": "code",
   "execution_count": 83,
   "metadata": {
    "collapsed": false
   },
   "outputs": [
    {
     "name": "stdout",
     "output_type": "stream",
     "text": [
      "The autoreload extension is already loaded. To reload it, use:\n",
      "  %reload_ext autoreload\n"
     ]
    }
   ],
   "source": [
    "%load_ext autoreload\n",
    "%autoreload 2\n",
    "%matplotlib inline\n",
    "import warnings\n",
    "warnings.filterwarnings('ignore')\n",
    "import pandas as pd\n",
    "from db_utils import *\n",
    "\n",
    "def query_db(host,query, params):\n",
    "    conn = pymysql.connect(host =host, read_default_file=\"/etc/mysql/conf.d/analytics-research-client.cnf\")\n",
    "    cursor = conn.cursor(pymysql.cursors.DictCursor)\n",
    "    cursor.execute(query, params)\n",
    "    rows = cursor.fetchall()\n",
    "    conn.close()\n",
    "    return mysql_to_pandas(rows)"
   ]
  },
  {
   "cell_type": "markdown",
   "metadata": {},
   "source": [
    "- [QuickSurveysResponses_15266417](https://meta.wikimedia.org/wiki/Schema:QuickSurveysResponses)\n",
    "- [QuickSurveyInitiation_15278946](https://meta.wikimedia.org/wiki/Schema:QuickSurveyInitiation)\n",
    "- [Survey](https://docs.google.com/spreadsheets/d/1JD8-knLmnFXVwXxJYx6w9RRmxZWasSLaSKvj85SgrzE/edit?ts=56c3ccd2#gid=1291145097)"
   ]
  },
  {
   "cell_type": "code",
   "execution_count": 84,
   "metadata": {
    "collapsed": true
   },
   "outputs": [],
   "source": [
    "response_table = 'log.QuickSurveysResponses_15266417'\n",
    "impression_table = 'log.QuickSurveyInitiation_15278946'\n",
    "host = 'analytics-store.eqiad.wmnet'"
   ]
  },
  {
   "cell_type": "markdown",
   "metadata": {},
   "source": [
    "### EL Summary Stats"
   ]
  },
  {
   "cell_type": "code",
   "execution_count": 99,
   "metadata": {
    "collapsed": false
   },
   "outputs": [
    {
     "name": "stdout",
     "output_type": "stream",
     "text": [
      "Eligible Pageviews:  15574\n",
      "Widget Impressions:  12424\n",
      "Clicks:  149\n",
      "Yeses:  37\n",
      "Nos:  112\n"
     ]
    }
   ],
   "source": [
    "query = \"\"\"\n",
    "SELECT\n",
    "    COUNT(*) as n\n",
    "FROM log.QuickSurveyInitiation_15278946\n",
    "WHERE\n",
    "    event_eventName ='eligible'\n",
    "\"\"\"\n",
    "\n",
    "n_eligible = query_db(host, query, {}).iloc[0]['n']\n",
    "\n",
    "query = \"\"\"\n",
    "SELECT\n",
    "    COUNT(*) as n\n",
    "FROM log.QuickSurveyInitiation_15278946\n",
    "WHERE\n",
    "    event_eventName ='impression'\n",
    "\"\"\"\n",
    "\n",
    "n_impressions = query_db(host, query, {}).iloc[0]['n']\n",
    "\n",
    "query = \"\"\"\n",
    "SELECT\n",
    "    COUNT(*) as n\n",
    "FROM log.QuickSurveysResponses_15266417\n",
    "\"\"\"\n",
    "n_responses = query_db(host, query, {}).iloc[0]['n']\n",
    "\n",
    "query = \"\"\"\n",
    "SELECT\n",
    "    COUNT(*) as n\n",
    "FROM log.QuickSurveysResponses_15266417\n",
    "WHERE\n",
    "    event_surveyResponseValue ='ext-quicksurveys-external-survey-yes-button'\n",
    "\"\"\"\n",
    "n_yes = query_db(host, query, {}).iloc[0]['n']\n",
    "\n",
    "query = \"\"\"\n",
    "SELECT\n",
    "    COUNT(*) as n\n",
    "FROM log.QuickSurveysResponses_15266417\n",
    "WHERE\n",
    "    event_surveyResponseValue ='ext-quicksurveys-external-survey-no-button'\n",
    "\"\"\"\n",
    "n_no = query_db(host, query, {}).iloc[0]['n']\n",
    "\n",
    "\n",
    "\n",
    "print('Eligible Pageviews: ', n_eligible)\n",
    "print('Widget Impressions: ', n_impressions)\n",
    "print('Clicks: ', n_responses)\n",
    "print('Yeses: ', n_yes)\n",
    "print('Nos: ', n_no)"
   ]
  },
  {
   "cell_type": "markdown",
   "metadata": {},
   "source": [
    "### Does each eligible pageview have a unique survey token?"
   ]
  },
  {
   "cell_type": "code",
   "execution_count": 100,
   "metadata": {
    "collapsed": false
   },
   "outputs": [
    {
     "name": "stdout",
     "output_type": "stream",
     "text": [
      "15572\n"
     ]
    }
   ],
   "source": [
    "query = \"\"\"\n",
    "SELECT COUNT(DISTINCT(event_surveyInstanceToken)) as n\n",
    "FROM log.QuickSurveyInitiation_15278946\n",
    "WHERE event_eventName ='eligible'\n",
    "\"\"\"\n",
    "print(query_db(host,query, {}).iloc[0]['n'])"
   ]
  },
  {
   "cell_type": "markdown",
   "metadata": {},
   "source": [
    "Pretty Close"
   ]
  },
  {
   "cell_type": "markdown",
   "metadata": {},
   "source": [
    "### Does each widget impression have a unique survey token?"
   ]
  },
  {
   "cell_type": "code",
   "execution_count": 101,
   "metadata": {
    "collapsed": false
   },
   "outputs": [
    {
     "name": "stdout",
     "output_type": "stream",
     "text": [
      "12421\n"
     ]
    }
   ],
   "source": [
    "query = \"\"\"\n",
    "SELECT COUNT(DISTINCT(event_surveyInstanceToken)) as n\n",
    "FROM log.QuickSurveyInitiation_15278946\n",
    "WHERE event_eventName ='impression'\n",
    "\"\"\"\n",
    "print(query_db(host,query, {}).iloc[0]['n'])"
   ]
  },
  {
   "cell_type": "markdown",
   "metadata": {},
   "source": [
    "Pretty Close."
   ]
  },
  {
   "cell_type": "markdown",
   "metadata": {},
   "source": [
    "### Does each Widget Impression have a matching Pageview?"
   ]
  },
  {
   "cell_type": "code",
   "execution_count": 103,
   "metadata": {
    "collapsed": false
   },
   "outputs": [
    {
     "name": "stdout",
     "output_type": "stream",
     "text": [
      "12405\n"
     ]
    }
   ],
   "source": [
    "query = \"\"\"\n",
    "SELECT\n",
    "    COUNT(DISTINCT(i.event_surveyInstanceToken)) as n\n",
    "FROM\n",
    "    (SELECT event_surveyInstanceToken\n",
    "    FROM log.QuickSurveyInitiation_15278946\n",
    "    WHERE\n",
    "    event_eventName ='impression') i\n",
    "JOIN\n",
    "    (SELECT event_surveyInstanceToken\n",
    "    FROM log.QuickSurveyInitiation_15278946\n",
    "    WHERE\n",
    "    event_eventName ='eligible') e\n",
    "ON\n",
    "    (i.event_surveyInstanceToken = e.event_surveyInstanceToken)\n",
    "\"\"\"\n",
    "\n",
    "df = query_db(host,query, {})\n",
    "print(df.iloc[0]['n'])"
   ]
  },
  {
   "cell_type": "markdown",
   "metadata": {},
   "source": [
    "Close. It seems there are a small number of impressions without a matching pageview."
   ]
  },
  {
   "cell_type": "markdown",
   "metadata": {},
   "source": [
    "### Does each click have a matching Widget Impression?"
   ]
  },
  {
   "cell_type": "code",
   "execution_count": 104,
   "metadata": {
    "collapsed": false
   },
   "outputs": [
    {
     "name": "stdout",
     "output_type": "stream",
     "text": [
      "148 148\n"
     ]
    }
   ],
   "source": [
    "query = \"\"\"\n",
    "SELECT *\n",
    "FROM\n",
    "    log.QuickSurveysResponses_15266417 r,\n",
    "    log.QuickSurveyInitiation_15278946 i\n",
    "WHERE\n",
    "    r.event_surveyInstanceToken = i.event_surveyInstanceToken\n",
    "    AND i.event_eventName ='impression'\n",
    "\"\"\" \n",
    "\n",
    "d_click = query_db(host, query, {})\n",
    "print(d_click.shape[0], len(set(d_click['event_surveyInstanceToken'])))"
   ]
  },
  {
   "cell_type": "markdown",
   "metadata": {
    "collapsed": true
   },
   "source": [
    "Each click has exactly one widget impression. One click without a matching rendered widget"
   ]
  },
  {
   "cell_type": "markdown",
   "metadata": {},
   "source": [
    "### Does each Google Survey Response have a registered click"
   ]
  },
  {
   "cell_type": "code",
   "execution_count": 105,
   "metadata": {
    "collapsed": false
   },
   "outputs": [],
   "source": [
    "d_survey = pd.read_csv('responses.tsv', sep = '\\t')\n",
    "st = 'This is you survey ID. Please do not modify.'\n",
    "ct = 'event_surveyInstanceToken'\n",
    "df_survey_click = d_survey.merge(d_click, how = 'inner', right_on = ct, left_on = st)"
   ]
  },
  {
   "cell_type": "code",
   "execution_count": 106,
   "metadata": {
    "collapsed": false
   },
   "outputs": [
    {
     "name": "stdout",
     "output_type": "stream",
     "text": [
      "23\n"
     ]
    }
   ],
   "source": [
    "print(df_survey_click.shape[0])"
   ]
  },
  {
   "cell_type": "markdown",
   "metadata": {},
   "source": [
    "Only 23 out of 33 survey responses have a matching click."
   ]
  },
  {
   "cell_type": "markdown",
   "metadata": {},
   "source": [
    "### Does each Google Survey Response have a registered impression?"
   ]
  },
  {
   "cell_type": "code",
   "execution_count": 108,
   "metadata": {
    "collapsed": false
   },
   "outputs": [],
   "source": [
    "query = \"\"\"\n",
    "SELECT\n",
    "    event_surveyInstanceToken\n",
    "FROM log.QuickSurveyInitiation_15278946\n",
    "WHERE\n",
    "    event_eventName ='impression'\n",
    "\"\"\"\n",
    "\n",
    "d_impression = query_db(host,query, {})\n",
    "df_survey_impression = d_survey.merge(d_impression, how = 'inner', right_on = 'event_surveyInstanceToken', left_on = st)"
   ]
  },
  {
   "cell_type": "code",
   "execution_count": 109,
   "metadata": {
    "collapsed": false
   },
   "outputs": [
    {
     "name": "stdout",
     "output_type": "stream",
     "text": [
      "24\n"
     ]
    }
   ],
   "source": [
    "print(df_survey_impression.shape[0])"
   ]
  },
  {
   "cell_type": "markdown",
   "metadata": {},
   "source": [
    "Only 24 out of 33 survey responses have a matching click."
   ]
  },
  {
   "cell_type": "markdown",
   "metadata": {},
   "source": [
    "### Summary"
   ]
  },
  {
   "cell_type": "code",
   "execution_count": 110,
   "metadata": {
    "collapsed": false
   },
   "outputs": [
    {
     "name": "stdout",
     "output_type": "stream",
     "text": [
      "Eligible Pageviews:  15574\n",
      "Widget Impressions:  12424\n",
      "Clicks:  149\n",
      "Yeses:  37\n",
      "Google Responses tracked in EL 23\n",
      "Google Responses 33\n"
     ]
    }
   ],
   "source": [
    "print('Eligible Pageviews: ', n_eligible)\n",
    "print('Widget Impressions: ', n_impressions)\n",
    "print('Clicks: ', n_responses)\n",
    "print('Yeses: ', n_yes)\n",
    "print('Google Responses tracked in EL', df_survey_click.shape[0])\n",
    "print('Google Responses', d_survey.shape[0])"
   ]
  },
  {
   "cell_type": "markdown",
   "metadata": {},
   "source": [
    "- Don't know how many users where in the sample\n",
    "- One in 300 pageviews results in a 'Yes'\n",
    "- 62% of 'Yes' events lead to a survery response\n",
    "- only 60% of survey responses are trackable in EL"
   ]
  },
  {
   "cell_type": "markdown",
   "metadata": {},
   "source": [
    "### Digging Into Missing Data"
   ]
  },
  {
   "cell_type": "code",
   "execution_count": 111,
   "metadata": {
    "collapsed": true
   },
   "outputs": [],
   "source": [
    "df_survey_click2 = d_survey.merge(d_click, how = 'left', right_on = ct, left_on = st)"
   ]
  },
  {
   "cell_type": "code",
   "execution_count": 117,
   "metadata": {
    "collapsed": false
   },
   "outputs": [
    {
     "data": {
      "text/plain": [
       "Index(['Timestamp', 'I am reading this article to',\n",
       "       'Prior to visiting this article', 'I am reading this article because',\n",
       "       'This is you survey ID. Please do not modify.'],\n",
       "      dtype='object')"
      ]
     },
     "execution_count": 117,
     "metadata": {},
     "output_type": "execute_result"
    }
   ],
   "source": [
    "d_survey.columns"
   ]
  },
  {
   "cell_type": "code",
   "execution_count": 120,
   "metadata": {
    "collapsed": false
   },
   "outputs": [
    {
     "data": {
      "text/html": [
       "<div>\n",
       "<table border=\"1\" class=\"dataframe\">\n",
       "  <thead>\n",
       "    <tr style=\"text-align: right;\">\n",
       "      <th></th>\n",
       "      <th>Google Token</th>\n",
       "      <th>Google Timestamp</th>\n",
       "      <th>EL Token</th>\n",
       "      <th>EL Timestamp</th>\n",
       "    </tr>\n",
       "  </thead>\n",
       "  <tbody>\n",
       "    <tr>\n",
       "      <th>0</th>\n",
       "      <td>80c690e7c9f8b978</td>\n",
       "      <td>2/16/2016 16:18:23</td>\n",
       "      <td>80c690e7c9f8b978</td>\n",
       "      <td>20160217001810</td>\n",
       "    </tr>\n",
       "    <tr>\n",
       "      <th>1</th>\n",
       "      <td>bde401cf1103db40</td>\n",
       "      <td>2/16/2016 17:38:51</td>\n",
       "      <td>bde401cf1103db40</td>\n",
       "      <td>20160217013758</td>\n",
       "    </tr>\n",
       "    <tr>\n",
       "      <th>2</th>\n",
       "      <td>afa0344c0ede6223</td>\n",
       "      <td>2/16/2016 18:36:57</td>\n",
       "      <td>NaN</td>\n",
       "      <td>NaN</td>\n",
       "    </tr>\n",
       "    <tr>\n",
       "      <th>3</th>\n",
       "      <td>9da0dde789db8849</td>\n",
       "      <td>2/16/2016 18:48:20</td>\n",
       "      <td>NaN</td>\n",
       "      <td>NaN</td>\n",
       "    </tr>\n",
       "    <tr>\n",
       "      <th>4</th>\n",
       "      <td>da4e80310a906a6b</td>\n",
       "      <td>2/16/2016 19:18:12</td>\n",
       "      <td>da4e80310a906a6b</td>\n",
       "      <td>20160217031757</td>\n",
       "    </tr>\n",
       "    <tr>\n",
       "      <th>5</th>\n",
       "      <td>9b28ed09b46edefd</td>\n",
       "      <td>2/16/2016 19:36:57</td>\n",
       "      <td>NaN</td>\n",
       "      <td>NaN</td>\n",
       "    </tr>\n",
       "    <tr>\n",
       "      <th>6</th>\n",
       "      <td>6a1a72ec4545391c</td>\n",
       "      <td>2/16/2016 20:45:31</td>\n",
       "      <td>NaN</td>\n",
       "      <td>NaN</td>\n",
       "    </tr>\n",
       "    <tr>\n",
       "      <th>7</th>\n",
       "      <td>d46936d2a424b39c</td>\n",
       "      <td>2/16/2016 21:38:41</td>\n",
       "      <td>NaN</td>\n",
       "      <td>NaN</td>\n",
       "    </tr>\n",
       "    <tr>\n",
       "      <th>8</th>\n",
       "      <td>f9c14b602f76c17c</td>\n",
       "      <td>2/16/2016 21:38:43</td>\n",
       "      <td>f9c14b602f76c17c</td>\n",
       "      <td>20160217053758</td>\n",
       "    </tr>\n",
       "    <tr>\n",
       "      <th>9</th>\n",
       "      <td>943a5aa00b6cc088</td>\n",
       "      <td>2/17/2016 0:23:09</td>\n",
       "      <td>943a5aa00b6cc088</td>\n",
       "      <td>20160217082213</td>\n",
       "    </tr>\n",
       "    <tr>\n",
       "      <th>15</th>\n",
       "      <td>63ed96796e2e689f</td>\n",
       "      <td>2/17/2016 10:14:17</td>\n",
       "      <td>63ed96796e2e689f</td>\n",
       "      <td>20160217181236</td>\n",
       "    </tr>\n",
       "    <tr>\n",
       "      <th>16</th>\n",
       "      <td>f0860b9c35fb3f83</td>\n",
       "      <td>2/17/2016 10:20:48</td>\n",
       "      <td>f0860b9c35fb3f83</td>\n",
       "      <td>20160217181751</td>\n",
       "    </tr>\n",
       "    <tr>\n",
       "      <th>17</th>\n",
       "      <td>5255e1e00e553454</td>\n",
       "      <td>2/17/2016 12:42:01</td>\n",
       "      <td>5255e1e00e553454</td>\n",
       "      <td>20160217204138</td>\n",
       "    </tr>\n",
       "    <tr>\n",
       "      <th>18</th>\n",
       "      <td>76864cd343363d18</td>\n",
       "      <td>2/17/2016 14:02:09</td>\n",
       "      <td>NaN</td>\n",
       "      <td>NaN</td>\n",
       "    </tr>\n",
       "    <tr>\n",
       "      <th>19</th>\n",
       "      <td>61ec276ec64d8650</td>\n",
       "      <td>2/17/2016 14:21:10</td>\n",
       "      <td>61ec276ec64d8650</td>\n",
       "      <td>20160217222026</td>\n",
       "    </tr>\n",
       "    <tr>\n",
       "      <th>20</th>\n",
       "      <td>afc2559d1fc7e9b3</td>\n",
       "      <td>2/17/2016 16:16:33</td>\n",
       "      <td>afc2559d1fc7e9b3</td>\n",
       "      <td>20160218001532</td>\n",
       "    </tr>\n",
       "    <tr>\n",
       "      <th>21</th>\n",
       "      <td>33880eba62945cbf</td>\n",
       "      <td>2/17/2016 16:22:06</td>\n",
       "      <td>33880eba62945cbf</td>\n",
       "      <td>20160218002034</td>\n",
       "    </tr>\n",
       "    <tr>\n",
       "      <th>22</th>\n",
       "      <td>378694425b3baa43</td>\n",
       "      <td>2/17/2016 16:46:54</td>\n",
       "      <td>NaN</td>\n",
       "      <td>NaN</td>\n",
       "    </tr>\n",
       "    <tr>\n",
       "      <th>23</th>\n",
       "      <td>8449b3492977ebcc</td>\n",
       "      <td>2/17/2016 17:08:56</td>\n",
       "      <td>NaN</td>\n",
       "      <td>NaN</td>\n",
       "    </tr>\n",
       "    <tr>\n",
       "      <th>24</th>\n",
       "      <td>9b9e7c6fcbbdcf3f</td>\n",
       "      <td>2/17/2016 17:30:04</td>\n",
       "      <td>9b9e7c6fcbbdcf3f</td>\n",
       "      <td>20160218012831</td>\n",
       "    </tr>\n",
       "    <tr>\n",
       "      <th>10</th>\n",
       "      <td>d2ffd71c2cc1ccba</td>\n",
       "      <td>2/17/2016 1:16:55</td>\n",
       "      <td>d2ffd71c2cc1ccba</td>\n",
       "      <td>20160217091629</td>\n",
       "    </tr>\n",
       "    <tr>\n",
       "      <th>11</th>\n",
       "      <td>ce8a289a4abfd6b7</td>\n",
       "      <td>2/17/2016 5:02:05</td>\n",
       "      <td>NaN</td>\n",
       "      <td>NaN</td>\n",
       "    </tr>\n",
       "    <tr>\n",
       "      <th>12</th>\n",
       "      <td>375d8bfd8a1d5077</td>\n",
       "      <td>2/17/2016 7:27:37</td>\n",
       "      <td>375d8bfd8a1d5077</td>\n",
       "      <td>20160217152654</td>\n",
       "    </tr>\n",
       "    <tr>\n",
       "      <th>13</th>\n",
       "      <td>05303cf06903e7eb</td>\n",
       "      <td>2/17/2016 7:45:56</td>\n",
       "      <td>05303cf06903e7eb</td>\n",
       "      <td>20160217154123</td>\n",
       "    </tr>\n",
       "    <tr>\n",
       "      <th>14</th>\n",
       "      <td>70c3fe770257ddbc</td>\n",
       "      <td>2/17/2016 9:11:32</td>\n",
       "      <td>70c3fe770257ddbc</td>\n",
       "      <td>20160217171025</td>\n",
       "    </tr>\n",
       "    <tr>\n",
       "      <th>25</th>\n",
       "      <td>b5217d360d9fbee0</td>\n",
       "      <td>2/18/2016 0:01:08</td>\n",
       "      <td>b5217d360d9fbee0</td>\n",
       "      <td>20160218080018</td>\n",
       "    </tr>\n",
       "    <tr>\n",
       "      <th>32</th>\n",
       "      <td>2f6f368624c3c5b2</td>\n",
       "      <td>2/18/2016 12:14:54</td>\n",
       "      <td>2f6f368624c3c5b2</td>\n",
       "      <td>20160218201432</td>\n",
       "    </tr>\n",
       "    <tr>\n",
       "      <th>26</th>\n",
       "      <td>43a23f0784d1d05f</td>\n",
       "      <td>2/18/2016 1:27:15</td>\n",
       "      <td>43a23f0784d1d05f</td>\n",
       "      <td>20160218092650</td>\n",
       "    </tr>\n",
       "    <tr>\n",
       "      <th>27</th>\n",
       "      <td>f0be8ad05732e611</td>\n",
       "      <td>2/18/2016 3:48:36</td>\n",
       "      <td>f0be8ad05732e611</td>\n",
       "      <td>20160218114426</td>\n",
       "    </tr>\n",
       "    <tr>\n",
       "      <th>28</th>\n",
       "      <td>e50a2f9eccb9b3af</td>\n",
       "      <td>2/18/2016 4:32:40</td>\n",
       "      <td>NaN</td>\n",
       "      <td>NaN</td>\n",
       "    </tr>\n",
       "    <tr>\n",
       "      <th>29</th>\n",
       "      <td>99fc5187f97c7d10</td>\n",
       "      <td>2/18/2016 6:33:21</td>\n",
       "      <td>99fc5187f97c7d10</td>\n",
       "      <td>20160218143250</td>\n",
       "    </tr>\n",
       "    <tr>\n",
       "      <th>30</th>\n",
       "      <td>17654901fa783b10</td>\n",
       "      <td>2/18/2016 7:14:27</td>\n",
       "      <td>17654901fa783b10</td>\n",
       "      <td>20160218151352</td>\n",
       "    </tr>\n",
       "    <tr>\n",
       "      <th>31</th>\n",
       "      <td>6943900f00a7d5e0</td>\n",
       "      <td>2/18/2016 9:08:55</td>\n",
       "      <td>6943900f00a7d5e0</td>\n",
       "      <td>20160218170755</td>\n",
       "    </tr>\n",
       "  </tbody>\n",
       "</table>\n",
       "</div>"
      ],
      "text/plain": [
       "        Google Token    Google Timestamp          EL Token    EL Timestamp\n",
       "0   80c690e7c9f8b978  2/16/2016 16:18:23  80c690e7c9f8b978  20160217001810\n",
       "1   bde401cf1103db40  2/16/2016 17:38:51  bde401cf1103db40  20160217013758\n",
       "2   afa0344c0ede6223  2/16/2016 18:36:57               NaN             NaN\n",
       "3   9da0dde789db8849  2/16/2016 18:48:20               NaN             NaN\n",
       "4   da4e80310a906a6b  2/16/2016 19:18:12  da4e80310a906a6b  20160217031757\n",
       "5   9b28ed09b46edefd  2/16/2016 19:36:57               NaN             NaN\n",
       "6   6a1a72ec4545391c  2/16/2016 20:45:31               NaN             NaN\n",
       "7   d46936d2a424b39c  2/16/2016 21:38:41               NaN             NaN\n",
       "8   f9c14b602f76c17c  2/16/2016 21:38:43  f9c14b602f76c17c  20160217053758\n",
       "9   943a5aa00b6cc088   2/17/2016 0:23:09  943a5aa00b6cc088  20160217082213\n",
       "15  63ed96796e2e689f  2/17/2016 10:14:17  63ed96796e2e689f  20160217181236\n",
       "16  f0860b9c35fb3f83  2/17/2016 10:20:48  f0860b9c35fb3f83  20160217181751\n",
       "17  5255e1e00e553454  2/17/2016 12:42:01  5255e1e00e553454  20160217204138\n",
       "18  76864cd343363d18  2/17/2016 14:02:09               NaN             NaN\n",
       "19  61ec276ec64d8650  2/17/2016 14:21:10  61ec276ec64d8650  20160217222026\n",
       "20  afc2559d1fc7e9b3  2/17/2016 16:16:33  afc2559d1fc7e9b3  20160218001532\n",
       "21  33880eba62945cbf  2/17/2016 16:22:06  33880eba62945cbf  20160218002034\n",
       "22  378694425b3baa43  2/17/2016 16:46:54               NaN             NaN\n",
       "23  8449b3492977ebcc  2/17/2016 17:08:56               NaN             NaN\n",
       "24  9b9e7c6fcbbdcf3f  2/17/2016 17:30:04  9b9e7c6fcbbdcf3f  20160218012831\n",
       "10  d2ffd71c2cc1ccba   2/17/2016 1:16:55  d2ffd71c2cc1ccba  20160217091629\n",
       "11  ce8a289a4abfd6b7   2/17/2016 5:02:05               NaN             NaN\n",
       "12  375d8bfd8a1d5077   2/17/2016 7:27:37  375d8bfd8a1d5077  20160217152654\n",
       "13  05303cf06903e7eb   2/17/2016 7:45:56  05303cf06903e7eb  20160217154123\n",
       "14  70c3fe770257ddbc   2/17/2016 9:11:32  70c3fe770257ddbc  20160217171025\n",
       "25  b5217d360d9fbee0   2/18/2016 0:01:08  b5217d360d9fbee0  20160218080018\n",
       "32  2f6f368624c3c5b2  2/18/2016 12:14:54  2f6f368624c3c5b2  20160218201432\n",
       "26  43a23f0784d1d05f   2/18/2016 1:27:15  43a23f0784d1d05f  20160218092650\n",
       "27  f0be8ad05732e611   2/18/2016 3:48:36  f0be8ad05732e611  20160218114426\n",
       "28  e50a2f9eccb9b3af   2/18/2016 4:32:40               NaN             NaN\n",
       "29  99fc5187f97c7d10   2/18/2016 6:33:21  99fc5187f97c7d10  20160218143250\n",
       "30  17654901fa783b10   2/18/2016 7:14:27  17654901fa783b10  20160218151352\n",
       "31  6943900f00a7d5e0   2/18/2016 9:08:55  6943900f00a7d5e0  20160218170755"
      ]
     },
     "execution_count": 120,
     "metadata": {},
     "output_type": "execute_result"
    }
   ],
   "source": [
    "df_survey_click2 = df_survey_click2[[st,'Timestamp', ct, 'timestamp']].sort('Timestamp')\n",
    "df_survey_click2.columns = ['Google Token', 'Google Timestamp', 'EL Token', 'EL Timestamp']\n",
    "df_survey_click2"
   ]
  },
  {
   "cell_type": "code",
   "execution_count": 122,
   "metadata": {
    "collapsed": false
   },
   "outputs": [
    {
     "data": {
      "text/plain": [
       "0     16\n",
       "1     16\n",
       "2     16\n",
       "3     16\n",
       "4     16\n",
       "5     16\n",
       "6     16\n",
       "7     16\n",
       "8     16\n",
       "9     16\n",
       "15    16\n",
       "16    16\n",
       "17    16\n",
       "18    16\n",
       "19    16\n",
       "20    16\n",
       "21    16\n",
       "22    16\n",
       "23    16\n",
       "24    16\n",
       "10    16\n",
       "11    16\n",
       "12    16\n",
       "13    16\n",
       "14    16\n",
       "25    16\n",
       "32    16\n",
       "26    16\n",
       "27    16\n",
       "28    16\n",
       "29    16\n",
       "30    16\n",
       "31    16\n",
       "Name: Google Token, dtype: int64"
      ]
     },
     "execution_count": 122,
     "metadata": {},
     "output_type": "execute_result"
    }
   ],
   "source": [
    "df_survey_click2['Google Token'].apply(len)"
   ]
  },
  {
   "cell_type": "markdown",
   "metadata": {},
   "source": [
    "No obvious pattern..."
   ]
  },
  {
   "cell_type": "markdown",
   "metadata": {},
   "source": [
    "### Are surveySessionToken tokens unique per IP"
   ]
  },
  {
   "cell_type": "code",
   "execution_count": 124,
   "metadata": {
    "collapsed": false
   },
   "outputs": [
    {
     "name": "stdout",
     "output_type": "stream",
     "text": [
      "5753\n"
     ]
    }
   ],
   "source": [
    "query = \"\"\"\n",
    "SELECT\n",
    "    COUNT(DISTINCT(clientIP)) as n\n",
    "FROM log.QuickSurveyInitiation_15278946\n",
    "\"\"\"\n",
    "nIPs = query_db(host, query, {}).iloc[0]['n']\n",
    "print(nIPs)"
   ]
  },
  {
   "cell_type": "code",
   "execution_count": 134,
   "metadata": {
    "collapsed": false
   },
   "outputs": [
    {
     "name": "stdout",
     "output_type": "stream",
     "text": [
      "5776\n"
     ]
    }
   ],
   "source": [
    "query = \"\"\"\n",
    "SELECT\n",
    "    COUNT(DISTINCT(CONCAT(clientIP, userAgent))) as n\n",
    "FROM log.QuickSurveyInitiation_15278946\n",
    "\"\"\"\n",
    "nIPUAs = query_db(host, query, {}).iloc[0]['n']\n",
    "print(nIPUAs)"
   ]
  },
  {
   "cell_type": "code",
   "execution_count": 136,
   "metadata": {
    "collapsed": false
   },
   "outputs": [
    {
     "name": "stdout",
     "output_type": "stream",
     "text": [
      "6319\n"
     ]
    }
   ],
   "source": [
    "query = \"\"\"\n",
    "SELECT\n",
    "    COUNT(DISTINCT(event_surveySessionToken)) as n\n",
    "FROM log.QuickSurveyInitiation_15278946\n",
    "\"\"\"\n",
    "sessiontokens = query_db(host, query, {}).iloc[0]['n']\n",
    "print(sessiontokens)"
   ]
  },
  {
   "cell_type": "code",
   "execution_count": null,
   "metadata": {
    "collapsed": true
   },
   "outputs": [],
   "source": []
  }
 ],
 "metadata": {
  "kernelspec": {
   "display_name": "Python 3",
   "language": "python",
   "name": "python3"
  },
  "language_info": {
   "codemirror_mode": {
    "name": "ipython",
    "version": 3
   },
   "file_extension": ".py",
   "mimetype": "text/x-python",
   "name": "python",
   "nbconvert_exporter": "python",
   "pygments_lexer": "ipython3",
   "version": "3.4.3"
  }
 },
 "nbformat": 4,
 "nbformat_minor": 0
}
