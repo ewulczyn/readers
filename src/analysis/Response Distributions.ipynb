{
 "cells": [
  {
   "cell_type": "markdown",
   "metadata": {},
   "source": [
    "# Response Distributions\n",
    "\n",
    "Lets look at the answer distributions for each of the 3 questions in out survey."
   ]
  },
  {
   "cell_type": "code",
   "execution_count": 1,
   "metadata": {
    "collapsed": false
   },
   "outputs": [
    {
     "name": "stderr",
     "output_type": "stream",
     "text": [
      "/Users/ellerywulczyn/miniconda3/lib/python3.5/site-packages/matplotlib/__init__.py:872: UserWarning: axes.color_cycle is deprecated and replaced with axes.prop_cycle; please use the latter.\n",
      "  warnings.warn(self.msg_depr % (key, alt_key))\n"
     ]
    }
   ],
   "source": [
    "%load_ext autoreload\n",
    "%autoreload 2\n",
    "%matplotlib inline\n",
    "\n",
    "from response_distributions_util import *"
   ]
  },
  {
   "cell_type": "markdown",
   "metadata": {},
   "source": [
    "## Load and Prep Data"
   ]
  },
  {
   "cell_type": "code",
   "execution_count": 2,
   "metadata": {
    "collapsed": false
   },
   "outputs": [
    {
     "ename": "NameError",
     "evalue": "name 'load_survey_dfs' is not defined",
     "output_type": "error",
     "traceback": [
      "\u001b[0;31m---------------------------------------------------------------------------\u001b[0m",
      "\u001b[0;31mNameError\u001b[0m                                 Traceback (most recent call last)",
      "\u001b[0;32m<ipython-input-2-e20c0e33c85b>\u001b[0m in \u001b[0;36m<module>\u001b[0;34m()\u001b[0m\n\u001b[0;32m----> 1\u001b[0;31m \u001b[0md_survey\u001b[0m\u001b[0;34m,\u001b[0m \u001b[0md_joined\u001b[0m \u001b[0;34m=\u001b[0m \u001b[0mload_survey_dfs\u001b[0m\u001b[0;34m(\u001b[0m\u001b[0;34m)\u001b[0m\u001b[0;34m\u001b[0m\u001b[0m\n\u001b[0m\u001b[1;32m      2\u001b[0m \u001b[0md_desktop\u001b[0m \u001b[0;34m=\u001b[0m \u001b[0md_joined\u001b[0m\u001b[0;34m[\u001b[0m\u001b[0md_joined\u001b[0m\u001b[0;34m[\u001b[0m\u001b[0;34m'host'\u001b[0m\u001b[0;34m]\u001b[0m \u001b[0;34m==\u001b[0m \u001b[0;34m'mobile'\u001b[0m\u001b[0;34m]\u001b[0m\u001b[0;34m\u001b[0m\u001b[0m\n\u001b[1;32m      3\u001b[0m \u001b[0md_mobile\u001b[0m \u001b[0;34m=\u001b[0m \u001b[0md_joined\u001b[0m\u001b[0;34m[\u001b[0m\u001b[0md_joined\u001b[0m\u001b[0;34m[\u001b[0m\u001b[0;34m'host'\u001b[0m\u001b[0;34m]\u001b[0m \u001b[0;34m==\u001b[0m \u001b[0;34m'desktop'\u001b[0m\u001b[0;34m]\u001b[0m\u001b[0;34m\u001b[0m\u001b[0m\n\u001b[1;32m      4\u001b[0m \u001b[0md_single_motivation\u001b[0m \u001b[0;34m=\u001b[0m \u001b[0md_joined\u001b[0m\u001b[0;34m[\u001b[0m\u001b[0md_joined\u001b[0m\u001b[0;34m[\u001b[0m\u001b[0;34m'motivation'\u001b[0m\u001b[0;34m]\u001b[0m\u001b[0;34m.\u001b[0m\u001b[0mapply\u001b[0m\u001b[0;34m(\u001b[0m\u001b[0;32mlambda\u001b[0m \u001b[0mx\u001b[0m\u001b[0;34m:\u001b[0m \u001b[0mlen\u001b[0m\u001b[0;34m(\u001b[0m\u001b[0mx\u001b[0m\u001b[0;34m.\u001b[0m\u001b[0msplit\u001b[0m\u001b[0;34m(\u001b[0m\u001b[0;34m'|'\u001b[0m\u001b[0;34m)\u001b[0m\u001b[0;34m)\u001b[0m \u001b[0;34m==\u001b[0m \u001b[0;36m1\u001b[0m\u001b[0;34m)\u001b[0m\u001b[0;34m]\u001b[0m\u001b[0;34m\u001b[0m\u001b[0m\n\u001b[1;32m      5\u001b[0m \u001b[0;34m\u001b[0m\u001b[0m\n",
      "\u001b[0;31mNameError\u001b[0m: name 'load_survey_dfs' is not defined"
     ]
    }
   ],
   "source": [
    "d_survey, d_joined = load_survey_dfs()\n",
    "d_desktop = d_joined[d_joined['host'] == 'mobile']\n",
    "d_mobile = d_joined[d_joined['host'] == 'desktop']\n",
    "d_single_motivation = d_joined[d_joined['motivation'].apply(lambda x: len(x.split('|')) == 1)]\n",
    "\n",
    "print('Num Responses: ', d_survey.shape[0])\n",
    "print('Num in EL: ', d_joined.shape[0])\n",
    "print('Num Mobile Responses in EL: ', d_desktop.shape[0])\n",
    "print('Num Desktop Responses in EL: ', d_mobile.shape[0])"
   ]
  },
  {
   "cell_type": "markdown",
   "metadata": {},
   "source": [
    "## Q1 Information Depth\n",
    "\n",
    "I am reading this article to ... [Information Depth]\n",
    "* look up a specific fact or to get a quick answer. [fact]\n",
    "* get an overview of the topic. [overview]\n",
    "* get an in-depth understanding of the topic. [in-depth]"
   ]
  },
  {
   "cell_type": "markdown",
   "metadata": {},
   "source": [
    "### Information Depth Histogram (Dektop vs Mobile)"
   ]
  },
  {
   "cell_type": "code",
   "execution_count": null,
   "metadata": {
    "collapsed": false
   },
   "outputs": [],
   "source": [
    "x = 'information depth'\n",
    "hue = 'host'\n",
    "title = 'Mobile vs Desktop Information Depth Distribution'\n",
    "xorder  = ['in-depth', 'overview', 'fact']\n",
    "plot_proportion(d_joined, x, hue, title,  xorder = xorder)"
   ]
  },
  {
   "cell_type": "markdown",
   "metadata": {},
   "source": [
    "The distribututions are relatively similar across mobile and desktop. The most common use case is to get an overview, then look up a fact, then get an in depth understanding."
   ]
  },
  {
   "cell_type": "markdown",
   "metadata": {},
   "source": [
    "## Q2 Familiarity\n",
    "\n",
    "Prior to visiting this article ... [Prior Knowledge]\n",
    "* I was already familiar with the topic. [familiar]\n",
    "* I was not familiar with the topic and I am learning about it for the first time. [unfamiliar]"
   ]
  },
  {
   "cell_type": "markdown",
   "metadata": {},
   "source": [
    "### Prior Knowledge Histogram (Dektop vs Mobile)"
   ]
  },
  {
   "cell_type": "code",
   "execution_count": null,
   "metadata": {
    "collapsed": false
   },
   "outputs": [],
   "source": [
    "x = 'prior knowledge'\n",
    "hue = 'host'\n",
    "title = 'Mobile vs Desktop'\n",
    "plot_proportion(d_joined, x, hue, title)"
   ]
  },
  {
   "cell_type": "markdown",
   "metadata": {},
   "source": [
    "Desktop and mobile are basically identical. People are slightly more likely to be familiar with the topic they are reading about."
   ]
  },
  {
   "cell_type": "markdown",
   "metadata": {},
   "source": [
    "## Q3 Motivation\n",
    "\n",
    "I am reading this article because ... [Motivation]\n",
    "* I have a work or school-related assignment. [work/school]\n",
    "* I need to make a personal decision based on this topic (e.g., to buy a  book or game, to choose a travel destination). [personal-decision]\n",
    "* I want to know more about a current event (e.g. Black Friday, a soccer game, a recent earthquake, somebody's death). [current event]\n",
    "* the topic was referenced in a piece of media (e.g. TV, radio, article, film, book). [media]\n",
    "* the topic came up in a conversation. [conversation]\n",
    "* I am bored or randomly exploring Wikipedia for fun. [bored/random]\n",
    "* this topic is important to me and I want to learn more about it. (e.g., to learn about a culture). [intrinsic_learning]"
   ]
  },
  {
   "cell_type": "markdown",
   "metadata": {},
   "source": [
    "### Number of Motivations Distribution\n",
    "\n",
    "Subjects were allowed to select multiple reasons. How many motivations do people select?"
   ]
  },
  {
   "cell_type": "code",
   "execution_count": null,
   "metadata": {
    "collapsed": false
   },
   "outputs": [],
   "source": [
    "d_in = pd.DataFrame()\n",
    "d_in['counts'] = d_joined['motivation'].apply(lambda x: len(x.split('|'))).value_counts()\n",
    "d_in['proportion'] = d_in['counts'] / d_in['counts'].sum()\n",
    "\n",
    "d_in['# Motivations'] = d_in.index\n",
    "#order = ['familiar', 'unfamiliar']\n",
    "#d_in = d_in.loc[order]\n",
    "\n",
    "fig = sns.barplot(y=\"proportion\",\n",
    "            x = '# Motivations',\n",
    "            data=d_in,\n",
    "            color = (0.54308344686732579, 0.73391773700714114, 0.85931565621319939)\n",
    "            )\n",
    "plt.ylabel('Proportion')\n",
    "plt.xlabel('# of Reasons Given')"
   ]
  },
  {
   "cell_type": "markdown",
   "metadata": {},
   "source": [
    "30% of respondents listed more than one motivation."
   ]
  },
  {
   "cell_type": "markdown",
   "metadata": {},
   "source": [
    "### Single Motivation Histogram"
   ]
  },
  {
   "cell_type": "markdown",
   "metadata": {},
   "source": [
    "For responses with only a single motivation, what is the distribution over motivations."
   ]
  },
  {
   "cell_type": "code",
   "execution_count": null,
   "metadata": {
    "collapsed": false
   },
   "outputs": [],
   "source": [
    "d_in = pd.DataFrame()\n",
    "d_in['counts'] = d_single_motivation['motivation'].value_counts()\n",
    "d_in['proportion'] = d_in['counts'] / d_in['counts'].sum()\n",
    "d_in['motivation'] = d_in.index\n",
    "d_in['err'] = d_in['counts'].apply(lambda x: get_std_err(x, d_in['counts'].sum()))\n",
    "\n",
    "fig = sns.barplot(y=\"proportion\",\n",
    "            x = 'motivation',\n",
    "            data=d_in,\n",
    "            yerr = d_in['err'],\n",
    "            color = (0.54308344686732579, 0.73391773700714114, 0.85931565621319939),\n",
    "            )\n",
    "plt.ylabel('Proportion')\n",
    "plt.xlabel('Motivation')\n",
    "\n",
    "for item in fig.get_xticklabels():\n",
    "    item.set_rotation(45)\n"
   ]
  },
  {
   "cell_type": "markdown",
   "metadata": {},
   "source": [
    "Media and work/school are the most popular "
   ]
  },
  {
   "cell_type": "markdown",
   "metadata": {},
   "source": [
    "### Single Motivation Histogram (Dektop vs Mobile)"
   ]
  },
  {
   "cell_type": "code",
   "execution_count": null,
   "metadata": {
    "collapsed": false
   },
   "outputs": [],
   "source": [
    "x = 'motivation'\n",
    "hue = 'host'\n",
    "title = 'Mobile vs Desktop'\n",
    "order = ['media', 'work/school','intrinsic learning', 'bored/random', 'conversation', 'other','current event', 'personal decision', ]\n",
    "plot_proportion(d_single_motivation, x, hue, title, xorder = order, rotate=True)"
   ]
  },
  {
   "cell_type": "markdown",
   "metadata": {},
   "source": [
    "For Desktop, the most common motivation is work/school. For Mobile, it is media. Also, for mobile users, conversation is more likely compared to desktop. "
   ]
  },
  {
   "cell_type": "markdown",
   "metadata": {},
   "source": [
    "### Motivation Histogram"
   ]
  },
  {
   "cell_type": "markdown",
   "metadata": {},
   "source": [
    "For each motivation lets count how often it was chosen as at least on of the motivations."
   ]
  },
  {
   "cell_type": "code",
   "execution_count": null,
   "metadata": {
    "collapsed": false
   },
   "outputs": [],
   "source": [
    "d_in = pd.DataFrame(columns = ['motivation', 'counts'])\n",
    "ms = [\n",
    "        'work/school',\n",
    "        'personal decision',\n",
    "        'current event',\n",
    "        'media',\"conversation\",\n",
    "        'bored/random',\n",
    "        'no response',\n",
    "        'intrinsic learning',\n",
    "        'other'\n",
    "    ]\n",
    "\n",
    "for i, m in enumerate(ms):\n",
    "     d_in.loc[i] = [m, d_joined['motivation'].apply(lambda x: m in x).sum()]\n",
    "\n",
    "\n",
    "\n",
    "\n",
    "d_in['proportion'] = d_in['counts'] / d_in['counts'].sum()\n",
    "d_in['err'] = d_in['counts'].apply(lambda x: get_std_err(x, d_in['counts'].sum()))\n",
    "d_in.sort_values(by = 'counts', inplace = True, ascending = False)\n",
    "fig = sns.barplot(y=\"proportion\",\n",
    "            x = 'motivation',\n",
    "            data=d_in,\n",
    "            yerr = d_in['err'],\n",
    "            color = (0.54308344686732579, 0.73391773700714114, 0.85931565621319939),\n",
    "            )\n",
    "plt.ylabel('Proportion')\n",
    "plt.xlabel('Motivation')\n",
    "\n",
    "for item in fig.get_xticklabels():\n",
    "    item.set_rotation(45)"
   ]
  },
  {
   "cell_type": "markdown",
   "metadata": {},
   "source": [
    "Suddenly intrinsic learning features much more prominently. It must be a common occurence in multi-choice answers."
   ]
  },
  {
   "cell_type": "markdown",
   "metadata": {},
   "source": [
    "### Double Motivation Co-occurrence Heatmaps"
   ]
  },
  {
   "cell_type": "markdown",
   "metadata": {},
   "source": [
    "For users who chose 2 motivations, which motivations co-occur?"
   ]
  },
  {
   "cell_type": "code",
   "execution_count": null,
   "metadata": {
    "collapsed": false
   },
   "outputs": [],
   "source": [
    "df = copy.deepcopy(d_joined[d_joined['motivation'].apply(lambda x: len(x.split('|')) == 2)])\n",
    "df['pm'] = df['motivation'].apply(lambda x: '|'.join(sorted(x.split('|'))))\n",
    "df_joint = pd.DataFrame()\n",
    "df_joint['count'] = df['pm'].value_counts()\n",
    "df_joint['pm'] = df_joint.index\n",
    "df_joint.index = range(0, df_joint.shape[0])\n",
    "df_joint['m1'] = df_joint['pm'].apply(lambda x: x.split('|')[0])\n",
    "df_joint['m2'] = df_joint['pm'].apply(lambda x: x.split('|')[1])\n",
    "df_joint['count'] = df_joint['count'].apply(int)"
   ]
  },
  {
   "cell_type": "code",
   "execution_count": null,
   "metadata": {
    "collapsed": false
   },
   "outputs": [],
   "source": [
    "df_joint2 = copy.deepcopy(df_joint)\n",
    "df_joint2['pm'] = df_joint2['pm'].apply(lambda x: '|'.join(sorted(x.split('|'), reverse = True)))\n",
    "df_joint2['m1'] = df_joint2['pm'].apply(lambda x: x.split('|')[0])\n",
    "df_joint2['m2'] = df_joint2['pm'].apply(lambda x: x.split('|')[1])\n",
    "df_joint2.index = range(df_joint.shape[0], 2 * df_joint.shape[0])"
   ]
  },
  {
   "cell_type": "code",
   "execution_count": null,
   "metadata": {
    "collapsed": false
   },
   "outputs": [],
   "source": [
    "df_joint12 = pd.concat([df_joint, df_joint2]).pivot(\"m1\", \"m2\", \"count\")\n",
    "#ax = sns.heatmap(df_joint12, annot=True, fmt=\"0.0f\")\n",
    "#plt.ylabel('Motivation 1')\n",
    "#plt.xlabel('Motivation 2')\n",
    "#plt.title('Raw Co-occurence counts')"
   ]
  },
  {
   "cell_type": "markdown",
   "metadata": {},
   "source": [
    "The since some motivations are more popular than others, the color coding can be misleading. Let's look at the conditional distributions instead."
   ]
  },
  {
   "cell_type": "code",
   "execution_count": null,
   "metadata": {
    "collapsed": false
   },
   "outputs": [],
   "source": [
    "df_joint12_norm = df_joint12.div(df_joint12.sum(axis=1), axis=0)\n",
    "ax = sns.heatmap(df_joint12_norm, annot=True, fmt=\"0.2f\")\n",
    "plt.ylabel('Motivation 1')\n",
    "plt.xlabel('P(Motivation 2 | Motivation 1)')\n",
    "plt.title('Conditional Distributions')"
   ]
  },
  {
   "cell_type": "markdown",
   "metadata": {},
   "source": [
    " - Given that work/school is a motivation, the most common other motivation is intrinsic_learning by a long shot. seems like people in our survey who choose 2 motivations like their job/studies\n",
    " - the pattern is similar for personal decisiions\n",
    " - Given that people are bored/randomly exploring, their most likely other motivations is media. the next most likely is intrinsic_learning\n",
    " - the pattern is similar for current events"
   ]
  },
  {
   "cell_type": "markdown",
   "metadata": {},
   "source": [
    "# Response Co-occurence"
   ]
  },
  {
   "cell_type": "markdown",
   "metadata": {},
   "source": [
    "## Information Depth  and  Prior Knowledge"
   ]
  },
  {
   "cell_type": "code",
   "execution_count": null,
   "metadata": {
    "collapsed": false
   },
   "outputs": [],
   "source": [
    "x = 'information depth'\n",
    "hue = 'prior knowledge'\n",
    "title = 'P(Prior Knowledge | Information Depth = x) '\n",
    "xorder = order = ['in-depth', 'overview', 'fact']\n",
    "plot_proportion(d_joined, x, hue, title,  xorder = xorder, normx=False)"
   ]
  },
  {
   "cell_type": "markdown",
   "metadata": {},
   "source": [
    "When seeking in-depth information or looking up a fact, readers are more likely to be familiar with the topic. When they are seeking an overview, the are more likely to be unfamiliar."
   ]
  },
  {
   "cell_type": "code",
   "execution_count": null,
   "metadata": {
    "collapsed": false
   },
   "outputs": [],
   "source": [
    "hue = 'information depth'\n",
    "x = 'prior knowledge'\n",
    "title = 'P(Information Depth | Prior Knowledge = x)'\n",
    "xorder = order = ['familiar', 'unfamiliar']\n",
    "plot_proportion(d_joined, x, hue, title,  xorder = xorder, normx=False)"
   ]
  },
  {
   "cell_type": "markdown",
   "metadata": {},
   "source": [
    "Readers famailiar with the topic are most likely to be looking up a fact. Unfamiliar users are the most likely to be getting an overview."
   ]
  },
  {
   "cell_type": "markdown",
   "metadata": {},
   "source": [
    "## Prior Knowledge and Motivation"
   ]
  },
  {
   "cell_type": "code",
   "execution_count": null,
   "metadata": {
    "collapsed": false
   },
   "outputs": [],
   "source": [
    "hue = 'prior knowledge'\n",
    "x = 'motivation'\n",
    "title = 'P(Prior Knowledge | Motivation = x)'\n",
    "plot_proportion(d_single_motivation, x, hue, title, rotate=True, normx=False)"
   ]
  },
  {
   "cell_type": "markdown",
   "metadata": {},
   "source": [
    "When people come for intrinsic learning, they tend to be familair with the topic already. When people come because of a reference in the media, they tend to be unfamialiar with the topic."
   ]
  },
  {
   "cell_type": "code",
   "execution_count": null,
   "metadata": {
    "collapsed": false
   },
   "outputs": [],
   "source": [
    "x = 'prior knowledge'\n",
    "hue = 'motivation'\n",
    "title = 'P(Motivation | Prior Knowledge = x)'\n",
    "plot_proportion(d_single_motivation, x, hue, title, rotate=True, normx=False)"
   ]
  },
  {
   "cell_type": "markdown",
   "metadata": {},
   "source": [
    "Bad Visualization"
   ]
  },
  {
   "cell_type": "markdown",
   "metadata": {},
   "source": [
    "## Information Depth and Motivation"
   ]
  },
  {
   "cell_type": "code",
   "execution_count": null,
   "metadata": {
    "collapsed": false
   },
   "outputs": [],
   "source": [
    "hue = 'information depth'\n",
    "x = 'motivation'\n",
    "title = 'P(Information Depth | Motivation = x)'\n",
    "plot_proportion(d_single_motivation, x, hue, title, rotate=True, normx=False)"
   ]
  },
  {
   "cell_type": "markdown",
   "metadata": {},
   "source": [
    "bored/random users are interested in getting an overview. Users in a conversation are loking up a fact..."
   ]
  },
  {
   "cell_type": "code",
   "execution_count": null,
   "metadata": {
    "collapsed": false
   },
   "outputs": [],
   "source": [
    "x = 'information depth'\n",
    "hue = 'motivation'\n",
    "title = 'P(Motivation | Information Depth  = x)'\n",
    "plot_proportion(d_single_motivation, x, hue, title, rotate=True, normx=False)"
   ]
  },
  {
   "cell_type": "code",
   "execution_count": null,
   "metadata": {
    "collapsed": true
   },
   "outputs": [],
   "source": [
    "Bad Visualization"
   ]
  }
 ],
 "metadata": {
  "kernelspec": {
   "display_name": "Python 3",
   "language": "python",
   "name": "python3"
  },
  "language_info": {
   "codemirror_mode": {
    "name": "ipython",
    "version": 3
   },
   "file_extension": ".py",
   "mimetype": "text/x-python",
   "name": "python",
   "nbconvert_exporter": "python",
   "pygments_lexer": "ipython3",
   "version": "3.5.1"
  }
 },
 "nbformat": 4,
 "nbformat_minor": 0
}
