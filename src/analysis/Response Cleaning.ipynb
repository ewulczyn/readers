{
 "cells": [
  {
   "cell_type": "code",
   "execution_count": 51,
   "metadata": {
    "collapsed": false
   },
   "outputs": [
    {
     "name": "stdout",
     "output_type": "stream",
     "text": [
      "The autoreload extension is already loaded. To reload it, use:\n",
      "  %reload_ext autoreload\n"
     ]
    }
   ],
   "source": [
    "%load_ext autoreload\n",
    "%autoreload 2\n",
    "%matplotlib inline\n",
    "\n",
    "import copy\n",
    "import pandas as pd\n",
    "import numpy as np\n",
    "import datetime"
   ]
  },
  {
   "cell_type": "code",
   "execution_count": 52,
   "metadata": {
    "collapsed": false
   },
   "outputs": [],
   "source": [
    "d = pd.read_csv('../../data/responses.tsv', sep = '\\t')"
   ]
  },
  {
   "cell_type": "code",
   "execution_count": 53,
   "metadata": {
    "collapsed": false
   },
   "outputs": [],
   "source": [
    "d = d[d['Timestamp'] > '2/29/2016 16:17:00']"
   ]
  },
  {
   "cell_type": "code",
   "execution_count": 54,
   "metadata": {
    "collapsed": false
   },
   "outputs": [
    {
     "data": {
      "text/html": [
       "<div>\n",
       "<table border=\"1\" class=\"dataframe\">\n",
       "  <thead>\n",
       "    <tr style=\"text-align: right;\">\n",
       "      <th></th>\n",
       "      <th>Timestamp</th>\n",
       "      <th>I am reading this article to</th>\n",
       "      <th>Prior to visiting this article</th>\n",
       "      <th>I am reading this article because</th>\n",
       "      <th>This is you survey ID. Please do not modify.</th>\n",
       "    </tr>\n",
       "  </thead>\n",
       "  <tbody>\n",
       "    <tr>\n",
       "      <th>206</th>\n",
       "      <td>2/29/2016 16:17:07</td>\n",
       "      <td>look up a specific fact or to get a quick answer.</td>\n",
       "      <td>I was already familiar with the topic.</td>\n",
       "      <td>the topic came up in a conversation.</td>\n",
       "      <td>0707bbe2a7e3ecbb</td>\n",
       "    </tr>\n",
       "    <tr>\n",
       "      <th>207</th>\n",
       "      <td>2/29/2016 16:17:46</td>\n",
       "      <td>look up a specific fact or to get a quick answer.</td>\n",
       "      <td>I was not familiar with the topic and I am lea...</td>\n",
       "      <td>Writing story and need a specific fact</td>\n",
       "      <td>c662db883c7d389c</td>\n",
       "    </tr>\n",
       "    <tr>\n",
       "      <th>208</th>\n",
       "      <td>2/29/2016 16:17:48</td>\n",
       "      <td>get an overview of the topic.</td>\n",
       "      <td>I was already familiar with the topic.</td>\n",
       "      <td>I am bored or randomly exploring Wikipedia for...</td>\n",
       "      <td>0e7f539e27dcf10f</td>\n",
       "    </tr>\n",
       "    <tr>\n",
       "      <th>209</th>\n",
       "      <td>2/29/2016 16:17:58</td>\n",
       "      <td>look up a specific fact or to get a quick answer.</td>\n",
       "      <td>I was not familiar with the topic and I am lea...</td>\n",
       "      <td>I am bored or randomly exploring Wikipedia for...</td>\n",
       "      <td>8cb0d465ee08e2c6</td>\n",
       "    </tr>\n",
       "    <tr>\n",
       "      <th>210</th>\n",
       "      <td>2/29/2016 16:18:04</td>\n",
       "      <td>get an in-depth understanding of the topic.</td>\n",
       "      <td>I was already familiar with the topic.</td>\n",
       "      <td>I want to know more about a current event (e.g...</td>\n",
       "      <td>42be8c727b522606</td>\n",
       "    </tr>\n",
       "  </tbody>\n",
       "</table>\n",
       "</div>"
      ],
      "text/plain": [
       "              Timestamp                       I am reading this article to  \\\n",
       "206  2/29/2016 16:17:07  look up a specific fact or to get a quick answer.   \n",
       "207  2/29/2016 16:17:46  look up a specific fact or to get a quick answer.   \n",
       "208  2/29/2016 16:17:48                      get an overview of the topic.   \n",
       "209  2/29/2016 16:17:58  look up a specific fact or to get a quick answer.   \n",
       "210  2/29/2016 16:18:04        get an in-depth understanding of the topic.   \n",
       "\n",
       "                        Prior to visiting this article  \\\n",
       "206             I was already familiar with the topic.   \n",
       "207  I was not familiar with the topic and I am lea...   \n",
       "208             I was already familiar with the topic.   \n",
       "209  I was not familiar with the topic and I am lea...   \n",
       "210             I was already familiar with the topic.   \n",
       "\n",
       "                     I am reading this article because  \\\n",
       "206               the topic came up in a conversation.   \n",
       "207             Writing story and need a specific fact   \n",
       "208  I am bored or randomly exploring Wikipedia for...   \n",
       "209  I am bored or randomly exploring Wikipedia for...   \n",
       "210  I want to know more about a current event (e.g...   \n",
       "\n",
       "    This is you survey ID. Please do not modify.  \n",
       "206                             0707bbe2a7e3ecbb  \n",
       "207                             c662db883c7d389c  \n",
       "208                             0e7f539e27dcf10f  \n",
       "209                             8cb0d465ee08e2c6  \n",
       "210                             42be8c727b522606  "
      ]
     },
     "execution_count": 54,
     "metadata": {},
     "output_type": "execute_result"
    }
   ],
   "source": [
    "d.head()"
   ]
  },
  {
   "cell_type": "code",
   "execution_count": 55,
   "metadata": {
    "collapsed": false
   },
   "outputs": [],
   "source": [
    "d = d.fillna('no_response')"
   ]
  },
  {
   "cell_type": "code",
   "execution_count": 56,
   "metadata": {
    "collapsed": true
   },
   "outputs": [],
   "source": [
    "d_q = {'Timestamp': 'submit_timestamp',\n",
    "       'I am reading this article to': 'raw_information_depth',\n",
    "       'Prior to visiting this article':'raw_prior_knowledge',\n",
    "       'I am reading this article because' :  'raw_motivation',\n",
    "       'This is you survey ID. Please do not modify.' : 'token'\n",
    "             }\n",
    "\n",
    "\n",
    "d_a1 = {'look up a specific fact or to get a quick answer.': 'fact',\n",
    "       'get an overview of the topic.': 'overview',\n",
    "       'get an in-depth understanding of the topic.': 'in-depth',\n",
    "       'no_response': 'no response'}\n",
    "\n",
    "d_a2 = {'I was already familiar with the topic.': 'familiar',\n",
    "       'I was not familiar with the topic and I am learning about it for the first time.': 'unfamiliar',\n",
    "        'no_response': 'no response'}\n",
    "\n",
    "d_a3 = {'I have a work or school-related assignment.' : 'work/school',\n",
    "       'I need to make a personal decision based on this topic (e.g. to buy a  book, choose a travel destination).': 'personal decision',\n",
    "       \"I want to know more about a current event (e.g. a soccer game, a recent earthquake, somebody's death).\": 'current event',\n",
    "       \"the topic was referenced in a piece of media (e.g. TV, radio, article, film, book).\": 'media',\n",
    "       \"the topic came up in a conversation.\": \"conversation\",\n",
    "       \"I am bored or randomly exploring Wikipedia for fun.\": 'bored/random',\n",
    "        'no_response': 'no response',\n",
    "        \"this topic is important to me and I want to learn more about it. (e.g., to learn about a culture).\": 'intrinsic learning'\n",
    "       }\n",
    "d_a = {'raw_information_depth': d_a1, 'raw_prior_knowledge': d_a2,'raw_motivation': d_a3 }"
   ]
  },
  {
   "cell_type": "code",
   "execution_count": 59,
   "metadata": {
    "collapsed": false
   },
   "outputs": [],
   "source": [
    "def reformat_dt(s):\n",
    "    from_pattern = \"%m/%d/%Y %H:%M:%S\"  \n",
    "    to_pattern = \"%Y-%m-%d %H:%M:%S\"\n",
    "    from_dt = datetime.datetime.strptime (s, from_pattern)\n",
    "    return from_dt.strftime(to_pattern)\n",
    "     \n",
    "\n",
    "def recode_motivation(x):\n",
    "        x = str(x)\n",
    "        for k, v in d_a3.items():\n",
    "            x = x.replace(k,v) \n",
    "        reasons = [e if e in d_a3.values() else 'other' for e in x.split(', ')]\n",
    "        return '|'.join(set(reasons))\n",
    "    \n",
    "def recode_df(d):\n",
    "    d = copy.deepcopy(d)\n",
    "    \n",
    "    d.columns = [d_q[c] for c in d.columns]\n",
    "    \n",
    "    d['submit_timestamp'] = d['submit_timestamp'].apply(reformat_dt)\n",
    "    \n",
    "    d['information depth'] = d['raw_information_depth'].apply(lambda x: d_a['raw_information_depth'].get(x, 'other'))\n",
    "    d['prior knowledge'] = d['raw_prior_knowledge'].apply(lambda x: d_a['raw_prior_knowledge'].get(x, 'other'))\n",
    "    \n",
    "    \n",
    "    d['motivation'] = d['raw_motivation'].apply(recode_motivation)\n",
    "\n",
    "    return d"
   ]
  },
  {
   "cell_type": "code",
   "execution_count": 60,
   "metadata": {
    "collapsed": false
   },
   "outputs": [],
   "source": [
    "dr = recode_df(d)"
   ]
  },
  {
   "cell_type": "code",
   "execution_count": 61,
   "metadata": {
    "collapsed": false
   },
   "outputs": [
    {
     "data": {
      "text/plain": [
       "familiar       18520\n",
       "unfamiliar     17210\n",
       "no response      963\n",
       "Name: prior knowledge, dtype: int64"
      ]
     },
     "execution_count": 61,
     "metadata": {},
     "output_type": "execute_result"
    }
   ],
   "source": [
    "dr['prior knowledge'].value_counts()"
   ]
  },
  {
   "cell_type": "code",
   "execution_count": 62,
   "metadata": {
    "collapsed": false
   },
   "outputs": [
    {
     "data": {
      "text/plain": [
       "overview       14748\n",
       "fact           12472\n",
       "in-depth        8573\n",
       "no response      900\n",
       "Name: information depth, dtype: int64"
      ]
     },
     "execution_count": 62,
     "metadata": {},
     "output_type": "execute_result"
    }
   ],
   "source": [
    "dr['information depth'].value_counts()"
   ]
  },
  {
   "cell_type": "code",
   "execution_count": 63,
   "metadata": {
    "collapsed": false
   },
   "outputs": [
    {
     "name": "stdout",
     "output_type": "stream",
     "text": [
      "Writing story and need a specific fact\n",
      "I read Wikipedia all the time. It doesn't really feel like self-improvement, but it's a lot healthier than playing video games or going to the bar.\n",
      "General education\n",
      "DINDU NUFFINS WE WUZ KANGS AND SHIIEEETTTT\n",
      "I saw the name in a compilation in my music collection and thought 'whatever happened to...?'\n",
      "it is in my intrest\n",
      "the topic randomly popped into my head \n",
      "attending an event featuring the subject of the article.\n",
      "LOL XD JIM CARREY\n",
      "I have created it\n"
     ]
    }
   ],
   "source": [
    "for i, r in dr[dr['motivation'] == 'other'][:10].iterrows():\n",
    "    print (r['raw_motivation'])\n"
   ]
  },
  {
   "cell_type": "code",
   "execution_count": 64,
   "metadata": {
    "collapsed": false
   },
   "outputs": [
    {
     "data": {
      "text/plain": [
       "media                                                                                             5594\n",
       "work/school                                                                                       4679\n",
       "intrinsic learning                                                                                4119\n",
       "bored/random                                                                                      3755\n",
       "conversation                                                                                      2966\n",
       "other                                                                                             1709\n",
       "current event                                                                                     1511\n",
       "personal decision                                                                                 1039\n",
       "no response                                                                                        760\n",
       "bored/random|media                                                                                 721\n",
       "intrinsic learning|work/school                                                                     610\n",
       "intrinsic learning|media                                                                           562\n",
       "intrinsic learning|bored/random                                                                    514\n",
       "conversation|media                                                                                 374\n",
       "conversation|bored/random                                                                          338\n",
       "conversation|intrinsic learning                                                                    334\n",
       "intrinsic learning|personal decision                                                               333\n",
       "current event|media                                                                                309\n",
       "current event|intrinsic learning                                                                   262\n",
       "bored/random|intrinsic learning|media                                                              239\n",
       "conversation|bored/random|media                                                                    205\n",
       "current event|intrinsic learning|media                                                             199\n",
       "personal decision|current event|conversation|intrinsic learning|media|bored/random|work/school     197\n",
       "conversation|intrinsic learning|bored/random                                                       146\n",
       "current event|bored/random|media                                                                   146\n",
       "current event|bored/random                                                                         144\n",
       "conversation|intrinsic learning|media                                                              137\n",
       "other|intrinsic learning                                                                           133\n",
       "bored/random|work/school                                                                           118\n",
       "current event|intrinsic learning|bored/random                                                      117\n",
       "                                                                                                  ... \n",
       "other|conversation|intrinsic learning|media|work/school                                              2\n",
       "personal decision|other|bored/random|work/school                                                     1\n",
       "personal decision|current event|bored/random|media|work/school                                       1\n",
       "other|current event|bored/random|personal decision                                                   1\n",
       "personal decision|conversation|other|media|work/school                                               1\n",
       "personal decision|other|current event|conversation|work/school                                       1\n",
       "personal decision|conversation|other|work/school                                                     1\n",
       "other|conversation|bored/random|intrinsic learning|media                                             1\n",
       "other|conversation|bored/random|media|personal decision                                              1\n",
       "personal decision|current event|other|work/school                                                    1\n",
       "other|current event|conversation                                                                     1\n",
       "other|current event|bored/random|intrinsic learning|media                                            1\n",
       "personal decision|conversation|other|intrinsic learning|work/school                                  1\n",
       "personal decision|current event|other|intrinsic learning|work/school                                 1\n",
       "personal decision|other|current event|conversation|intrinsic learning|bored/random|work/school       1\n",
       "other|current event|conversation|intrinsic learning|media|bored/random|work/school                   1\n",
       "other|conversation|intrinsic learning|media|bored/random|work/school                                 1\n",
       "personal decision|other|current event|intrinsic learning|media|bored/random                          1\n",
       "personal decision|other|current event|conversation|intrinsic learning|work/school                    1\n",
       "other|current event|personal decision                                                                1\n",
       "other|bored/random|intrinsic learning|media|personal decision                                        1\n",
       "other|current event|bored/random|work/school                                                         1\n",
       "personal decision|other|intrinsic learning|bored/random|work/school                                  1\n",
       "personal decision|other|current event|conversation|intrinsic learning|media                          1\n",
       "personal decision|other|current event|intrinsic learning|bored/random|work/school                    1\n",
       "personal decision|current event|conversation|bored/random|work/school                                1\n",
       "personal decision|other|conversation|intrinsic learning|media|bored/random                           1\n",
       "personal decision|other|conversation|intrinsic learning|bored/random|work/school                     1\n",
       "other|current event|conversation|personal decision                                                   1\n",
       "other|conversation|personal decision                                                                 1\n",
       "Name: motivation, dtype: int64"
      ]
     },
     "execution_count": 64,
     "metadata": {},
     "output_type": "execute_result"
    }
   ],
   "source": [
    "dr['motivation'].value_counts()"
   ]
  },
  {
   "cell_type": "code",
   "execution_count": 65,
   "metadata": {
    "collapsed": true
   },
   "outputs": [],
   "source": [
    "dr = dr.drop_duplicates('token')"
   ]
  },
  {
   "cell_type": "code",
   "execution_count": 66,
   "metadata": {
    "collapsed": true
   },
   "outputs": [],
   "source": [
    "dr.to_csv('../../data/clean_responses.tsv', sep = '\\t', index = False)"
   ]
  },
  {
   "cell_type": "code",
   "execution_count": null,
   "metadata": {
    "collapsed": true
   },
   "outputs": [],
   "source": []
  }
 ],
 "metadata": {
  "kernelspec": {
   "display_name": "Python 2",
   "language": "python",
   "name": "python2"
  },
  "language_info": {
   "codemirror_mode": {
    "name": "ipython",
    "version": 2
   },
   "file_extension": ".py",
   "mimetype": "text/x-python",
   "name": "python",
   "nbconvert_exporter": "python",
   "pygments_lexer": "ipython2",
   "version": "2.7.11"
  }
 },
 "nbformat": 4,
 "nbformat_minor": 0
}
