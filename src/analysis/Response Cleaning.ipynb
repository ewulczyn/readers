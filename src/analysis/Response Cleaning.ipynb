{
 "cells": [
  {
   "cell_type": "code",
   "execution_count": 114,
   "metadata": {
    "collapsed": false
   },
   "outputs": [
    {
     "name": "stdout",
     "output_type": "stream",
     "text": [
      "The autoreload extension is already loaded. To reload it, use:\n",
      "  %reload_ext autoreload\n"
     ]
    }
   ],
   "source": [
    "%load_ext autoreload\n",
    "%autoreload 2\n",
    "%matplotlib inline\n",
    "\n",
    "import copy\n",
    "import pandas as pd\n",
    "import numpy as np"
   ]
  },
  {
   "cell_type": "code",
   "execution_count": 115,
   "metadata": {
    "collapsed": false
   },
   "outputs": [],
   "source": [
    "d = pd.read_csv('../../data/responses.tsv', sep = '\\t')"
   ]
  },
  {
   "cell_type": "code",
   "execution_count": 116,
   "metadata": {
    "collapsed": false
   },
   "outputs": [],
   "source": [
    "d = d[d['Timestamp'] > '2/29/2016 16:17:00']"
   ]
  },
  {
   "cell_type": "code",
   "execution_count": 117,
   "metadata": {
    "collapsed": false
   },
   "outputs": [
    {
     "data": {
      "text/html": [
       "<div>\n",
       "<table border=\"1\" class=\"dataframe\">\n",
       "  <thead>\n",
       "    <tr style=\"text-align: right;\">\n",
       "      <th></th>\n",
       "      <th>Timestamp</th>\n",
       "      <th>I am reading this article to</th>\n",
       "      <th>Prior to visiting this article</th>\n",
       "      <th>I am reading this article because</th>\n",
       "      <th>This is you survey ID. Please do not modify.</th>\n",
       "    </tr>\n",
       "  </thead>\n",
       "  <tbody>\n",
       "    <tr>\n",
       "      <th>206</th>\n",
       "      <td>2/29/2016 16:17:07</td>\n",
       "      <td>look up a specific fact or to get a quick answer.</td>\n",
       "      <td>I was already familiar with the topic.</td>\n",
       "      <td>the topic came up in a conversation.</td>\n",
       "      <td>0707bbe2a7e3ecbb</td>\n",
       "    </tr>\n",
       "    <tr>\n",
       "      <th>207</th>\n",
       "      <td>2/29/2016 16:17:46</td>\n",
       "      <td>look up a specific fact or to get a quick answer.</td>\n",
       "      <td>I was not familiar with the topic and I am lea...</td>\n",
       "      <td>Writing story and need a specific fact</td>\n",
       "      <td>c662db883c7d389c</td>\n",
       "    </tr>\n",
       "    <tr>\n",
       "      <th>208</th>\n",
       "      <td>2/29/2016 16:17:48</td>\n",
       "      <td>get an overview of the topic.</td>\n",
       "      <td>I was already familiar with the topic.</td>\n",
       "      <td>I am bored or randomly exploring Wikipedia for...</td>\n",
       "      <td>0e7f539e27dcf10f</td>\n",
       "    </tr>\n",
       "    <tr>\n",
       "      <th>209</th>\n",
       "      <td>2/29/2016 16:17:58</td>\n",
       "      <td>look up a specific fact or to get a quick answer.</td>\n",
       "      <td>I was not familiar with the topic and I am lea...</td>\n",
       "      <td>I am bored or randomly exploring Wikipedia for...</td>\n",
       "      <td>8cb0d465ee08e2c6</td>\n",
       "    </tr>\n",
       "    <tr>\n",
       "      <th>210</th>\n",
       "      <td>2/29/2016 16:18:04</td>\n",
       "      <td>get an in-depth understanding of the topic.</td>\n",
       "      <td>I was already familiar with the topic.</td>\n",
       "      <td>I want to know more about a current event (e.g...</td>\n",
       "      <td>42be8c727b522606</td>\n",
       "    </tr>\n",
       "  </tbody>\n",
       "</table>\n",
       "</div>"
      ],
      "text/plain": [
       "              Timestamp                       I am reading this article to  \\\n",
       "206  2/29/2016 16:17:07  look up a specific fact or to get a quick answer.   \n",
       "207  2/29/2016 16:17:46  look up a specific fact or to get a quick answer.   \n",
       "208  2/29/2016 16:17:48                      get an overview of the topic.   \n",
       "209  2/29/2016 16:17:58  look up a specific fact or to get a quick answer.   \n",
       "210  2/29/2016 16:18:04        get an in-depth understanding of the topic.   \n",
       "\n",
       "                        Prior to visiting this article  \\\n",
       "206             I was already familiar with the topic.   \n",
       "207  I was not familiar with the topic and I am lea...   \n",
       "208             I was already familiar with the topic.   \n",
       "209  I was not familiar with the topic and I am lea...   \n",
       "210             I was already familiar with the topic.   \n",
       "\n",
       "                     I am reading this article because  \\\n",
       "206               the topic came up in a conversation.   \n",
       "207             Writing story and need a specific fact   \n",
       "208  I am bored or randomly exploring Wikipedia for...   \n",
       "209  I am bored or randomly exploring Wikipedia for...   \n",
       "210  I want to know more about a current event (e.g...   \n",
       "\n",
       "    This is you survey ID. Please do not modify.  \n",
       "206                             0707bbe2a7e3ecbb  \n",
       "207                             c662db883c7d389c  \n",
       "208                             0e7f539e27dcf10f  \n",
       "209                             8cb0d465ee08e2c6  \n",
       "210                             42be8c727b522606  "
      ]
     },
     "execution_count": 117,
     "metadata": {},
     "output_type": "execute_result"
    }
   ],
   "source": [
    "d.head()"
   ]
  },
  {
   "cell_type": "code",
   "execution_count": 118,
   "metadata": {
    "collapsed": false
   },
   "outputs": [],
   "source": [
    "d = d.fillna('no_response')"
   ]
  },
  {
   "cell_type": "code",
   "execution_count": 119,
   "metadata": {
    "collapsed": true
   },
   "outputs": [],
   "source": [
    "d_q = {'Timestamp': 'timestamp',\n",
    "       'I am reading this article to': 'information_depth',\n",
    "       'Prior to visiting this article':'prior_knowledge',\n",
    "       'I am reading this article because' :  'motivation',\n",
    "       'This is you survey ID. Please do not modify.' : 'token'\n",
    "             }\n",
    "\n",
    "\n",
    "d_a1 = {'look up a specific fact or to get a quick answer.': 'fact',\n",
    "       'get an overview of the topic.': 'overview',\n",
    "       'get an in-depth understanding of the topic.': 'in-depth',\n",
    "       'no_response': 'no_response'}\n",
    "\n",
    "d_a2 = {'I was already familiar with the topic.': 'familiar',\n",
    "       'I was not familiar with the topic and I am learning about it for the first time.': 'unfamiliar',\n",
    "        'no_response': 'no_response'}\n",
    "\n",
    "d_a3 = {'I have a work or school-related assignment.' : 'work/school',\n",
    "       'I need to make a personal decision based on this topic (e.g. to buy a  book, choose a travel destination).': 'personal_decision',\n",
    "       \"I want to know more about a current event (e.g. a soccer game, a recent earthquake, somebody's death).\": 'current_event',\n",
    "       \"the topic was referenced in a piece of media (e.g. TV, radio, article, film, book).\": 'media',\n",
    "       \"the topic came up in a conversation.\": \"conversation\",\n",
    "       \"I am bored or randomly exploring Wikipedia for fun.\": 'bored/random',\n",
    "        'no_response': 'no_response',\n",
    "        \"this topic is important to me and I want to learn more about it. (e.g., to learn about a culture).\": 'intrinsic_learning'\n",
    "       }\n",
    "d_a = {'information_depth': d_a1, 'prior_knowledge': d_a2,'motivation': d_a3 }"
   ]
  },
  {
   "cell_type": "code",
   "execution_count": 120,
   "metadata": {
    "collapsed": false
   },
   "outputs": [],
   "source": [
    "def recode_motivation(x):\n",
    "        x = str(x)\n",
    "        for k, v in d_a3.items():\n",
    "            x = x.replace(k,v) \n",
    "        reasons = [e if e in d_a3.values() else 'other' for e in x.split(', ')]\n",
    "        return '|'.join(set(reasons))\n",
    "    \n",
    "def recode_df(d):\n",
    "    d = copy.deepcopy(d)\n",
    "    del d['Timestamp']\n",
    "    d.columns = [d_q[c] for c in d.columns]\n",
    "    \n",
    "    d['clean_information_depth'] = d['information_depth'].apply(lambda x: d_a['information_depth'].get(x, 'other'))\n",
    "    d['clean_prior_knowledge'] = d['prior_knowledge'].apply(lambda x: d_a['prior_knowledge'].get(x, 'other'))\n",
    "    \n",
    "    \n",
    "    d['clean_motivation'] = d['motivation'].apply(recode_motivation)\n",
    "\n",
    "    return d"
   ]
  },
  {
   "cell_type": "code",
   "execution_count": 121,
   "metadata": {
    "collapsed": true
   },
   "outputs": [],
   "source": [
    "dr = recode_df(d)"
   ]
  },
  {
   "cell_type": "code",
   "execution_count": 122,
   "metadata": {
    "collapsed": false
   },
   "outputs": [
    {
     "data": {
      "text/plain": [
       "familiar       16921\n",
       "unfamiliar     15707\n",
       "no_response      869\n",
       "Name: clean_prior_knowledge, dtype: int64"
      ]
     },
     "execution_count": 122,
     "metadata": {},
     "output_type": "execute_result"
    }
   ],
   "source": [
    "dr['clean_prior_knowledge'].value_counts()"
   ]
  },
  {
   "cell_type": "code",
   "execution_count": 123,
   "metadata": {
    "collapsed": false
   },
   "outputs": [
    {
     "data": {
      "text/plain": [
       "overview       13497\n",
       "fact           11388\n",
       "in-depth        7813\n",
       "no_response      799\n",
       "Name: clean_information_depth, dtype: int64"
      ]
     },
     "execution_count": 123,
     "metadata": {},
     "output_type": "execute_result"
    }
   ],
   "source": [
    "dr['clean_information_depth'].value_counts()"
   ]
  },
  {
   "cell_type": "code",
   "execution_count": 124,
   "metadata": {
    "collapsed": false
   },
   "outputs": [
    {
     "name": "stdout",
     "output_type": "stream",
     "text": [
      "Writing story and need a specific fact\n",
      "I read Wikipedia all the time. It doesn't really feel like self-improvement, but it's a lot healthier than playing video games or going to the bar.\n",
      "General education\n",
      "DINDU NUFFINS WE WUZ KANGS AND SHIIEEETTTT\n",
      "I saw the name in a compilation in my music collection and thought 'whatever happened to...?'\n",
      "it is in my intrest\n",
      "the topic randomly popped into my head \n",
      "attending an event featuring the subject of the article.\n",
      "LOL XD JIM CARREY\n",
      "I have created it\n"
     ]
    }
   ],
   "source": [
    "for i, r in dr[dr['clean_motivation'] == 'other'][:10].iterrows():\n",
    "    print (r['motivation'])\n"
   ]
  },
  {
   "cell_type": "code",
   "execution_count": 125,
   "metadata": {
    "collapsed": false
   },
   "outputs": [
    {
     "data": {
      "text/plain": [
       "media                                                                                             5177\n",
       "work/school                                                                                       4175\n",
       "intrinsic_learning                                                                                3741\n",
       "bored/random                                                                                      3454\n",
       "conversation                                                                                      2720\n",
       "other                                                                                             1564\n",
       "current_event                                                                                     1378\n",
       "personal_decision                                                                                  955\n",
       "no_response                                                                                        682\n",
       "bored/random|media                                                                                 661\n",
       "work/school|intrinsic_learning                                                                     550\n",
       "intrinsic_learning|media                                                                           511\n",
       "bored/random|intrinsic_learning                                                                    474\n",
       "conversation|media                                                                                 345\n",
       "conversation|bored/random                                                                          317\n",
       "intrinsic_learning|personal_decision                                                               306\n",
       "conversation|intrinsic_learning                                                                    305\n",
       "current_event|media                                                                                286\n",
       "intrinsic_learning|current_event                                                                   244\n",
       "bored/random|intrinsic_learning|media                                                              221\n",
       "conversation|bored/random|media                                                                    194\n",
       "intrinsic_learning|current_event|media                                                             186\n",
       "personal_decision|intrinsic_learning|conversation|media|work/school|bored/random|current_event     172\n",
       "conversation|bored/random|intrinsic_learning                                                       140\n",
       "bored/random|current_event|media                                                                   135\n",
       "bored/random|current_event                                                                         131\n",
       "conversation|intrinsic_learning|media                                                              120\n",
       "other|intrinsic_learning                                                                           119\n",
       "bored/random|current_event|intrinsic_learning                                                      108\n",
       "personal_decision|media                                                                            104\n",
       "                                                                                                  ... \n",
       "bored/random|other|media|work/school|intrinsic_learning|personal_decision                            2\n",
       "bored/random|other|media|work/school|intrinsic_learning|current_event                                2\n",
       "other|current_event|intrinsic_learning|personal_decision|media                                       2\n",
       "conversation|other|intrinsic_learning|current_event|media                                            2\n",
       "conversation|other|bored/random|current_event                                                        2\n",
       "personal_decision|intrinsic_learning|conversation|other|work/school|bored/random|current_event       1\n",
       "conversation|other|bored/random|personal_decision|media                                              1\n",
       "personal_decision|conversation|other|work/school|intrinsic_learning|current_event                    1\n",
       "intrinsic_learning|conversation|other|media|work/school|bored/random                                 1\n",
       "conversation|other|bored/random|intrinsic_learning|media                                             1\n",
       "other|current_event|bored/random|personal_decision                                                   1\n",
       "conversation|current_event|work/school|bored/random|personal_decision                                1\n",
       "intrinsic_learning|conversation|other|work/school|bored/random|personal_decision                     1\n",
       "personal_decision|intrinsic_learning|other|work/school|bored/random|current_event                    1\n",
       "intrinsic_learning|other|bored/random|current_event|media                                            1\n",
       "conversation|other|work/school|intrinsic_learning|personal_decision                                  1\n",
       "bored/random|personal_decision|other|media|intrinsic_learning|current_event                          1\n",
       "conversation|other|current_event                                                                     1\n",
       "conversation|work/school|other|personal_decision|media                                               1\n",
       "conversation|work/school|other|personal_decision                                                     1\n",
       "other|current_event|personal_decision                                                                1\n",
       "personal_decision|conversation|other|media|intrinsic_learning|current_event                          1\n",
       "intrinsic_learning|other|bored/random|personal_decision|media                                        1\n",
       "other|current_event|work/school|personal_decision                                                    1\n",
       "other|work/school|bored/random|personal_decision                                                     1\n",
       "other|work/school|bored/random|current_event                                                         1\n",
       "conversation|other|personal_decision                                                                 1\n",
       "other|work/school|bored/random|personal_decision|intrinsic_learning                                  1\n",
       "other|current_event|work/school|intrinsic_learning|personal_decision                                 1\n",
       "conversation|other|current_event|intrinsic_learning|personal_decision                                1\n",
       "Name: clean_motivation, dtype: int64"
      ]
     },
     "execution_count": 125,
     "metadata": {},
     "output_type": "execute_result"
    }
   ],
   "source": [
    "dr['clean_motivation'].value_counts()"
   ]
  },
  {
   "cell_type": "code",
   "execution_count": 126,
   "metadata": {
    "collapsed": true
   },
   "outputs": [],
   "source": [
    "dr.to_csv('../../data/clean_responses.tsv', sep = '\\t', index = False)"
   ]
  }
 ],
 "metadata": {
  "kernelspec": {
   "display_name": "Python 3",
   "language": "python",
   "name": "python3"
  },
  "language_info": {
   "codemirror_mode": {
    "name": "ipython",
    "version": 3
   },
   "file_extension": ".py",
   "mimetype": "text/x-python",
   "name": "python",
   "nbconvert_exporter": "python",
   "pygments_lexer": "ipython3",
   "version": "3.5.1"
  }
 },
 "nbformat": 4,
 "nbformat_minor": 0
}
