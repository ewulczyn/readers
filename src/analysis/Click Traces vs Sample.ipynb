{
 "cells": [
  {
   "cell_type": "code",
   "execution_count": 1,
   "metadata": {
    "collapsed": false
   },
   "outputs": [],
   "source": [
    "%load_ext autoreload\n",
    "%autoreload 2\n",
    "%matplotlib inline\n",
    "\n",
    "import warnings\n",
    "warnings.filterwarnings('ignore')\n",
    "\n",
    "    \n",
    "from misc_utils import load_raw_responses_with_traces,load_random_trace_sample\n",
    "from session_and_tree_utils import *  \n",
    "\n",
    "\n",
    "import pandas as pd\n",
    "import json\n",
    "import matplotlib.pyplot as plt\n",
    "import seaborn as sns\n",
    "import numpy as np  \n",
    "import random\n",
    "from ml_utils import *"
   ]
  },
  {
   "cell_type": "markdown",
   "metadata": {},
   "source": [
    "# ETL"
   ]
  },
  {
   "cell_type": "code",
   "execution_count": 2,
   "metadata": {
    "collapsed": false
   },
   "outputs": [],
   "source": [
    "df_r = load_random_trace_sample()\n",
    "df_r['sessions'] = df_r['trace_data'].apply(sessionize)\n",
    "df_r['click_session'] = df_r['sessions'].apply(lambda x: random.choice(x))\n",
    "df_r['click_forest'] = df_r['click_session'].apply(getMinimumSpanningForest)\n",
    "df_r['click_tree'] = df_r['click_forest'].apply(lambda x: random.choice(x))\n",
    "df_r['condition'] = 'sample'"
   ]
  },
  {
   "cell_type": "code",
   "execution_count": 3,
   "metadata": {
    "collapsed": false
   },
   "outputs": [],
   "source": [
    "df_c = load_raw_responses_with_traces()\n",
    "df_c = get_sessions_and_trees(df_c)\n",
    "df_c['condition'] = 'click'\n",
    "df_c = df_c[df_r.columns]"
   ]
  },
  {
   "cell_type": "code",
   "execution_count": 4,
   "metadata": {
    "collapsed": false
   },
   "outputs": [],
   "source": [
    "df = pd.concat([df_r, df_c])"
   ]
  },
  {
   "cell_type": "code",
   "execution_count": 5,
   "metadata": {
    "collapsed": false
   },
   "outputs": [],
   "source": [
    "def get_host(r):\n",
    "    try:\n",
    "        return r['access_method']\n",
    "    except:\n",
    "        return 'unknown'\n",
    "df['host'] = df['click_session'].apply(lambda x: get_host(x[0]))"
   ]
  },
  {
   "cell_type": "markdown",
   "metadata": {},
   "source": [
    "# Num Pageviews"
   ]
  },
  {
   "cell_type": "code",
   "execution_count": 6,
   "metadata": {
    "collapsed": false
   },
   "outputs": [
    {
     "data": {
      "text/plain": [
       "<matplotlib.axes._subplots.AxesSubplot at 0x104be99b0>"
      ]
     },
     "execution_count": 6,
     "metadata": {},
     "output_type": "execute_result"
    },
    {
     "data": {
      "image/png": "[encoded data removed]",
      "text/plain": [
       "<matplotlib.figure.Figure at 0x11c3e6ac8>"
      ]
     },
     "metadata": {},
     "output_type": "display_data"
    }
   ],
   "source": [
    "metric = 'num_pageviews'\n",
    "df[metric] = df['click_session'].apply(num_pageviews)\n",
    "df = df.query(\"host != 'unknown'\")\n",
    "\n",
    "sns.barplot(\n",
    "            y = metric,\n",
    "            x = 'host',\n",
    "            data=df,\n",
    "            hue = 'condition'\n",
    "            )"
   ]
  },
  {
   "cell_type": "markdown",
   "metadata": {},
   "source": [
    "# Session Length"
   ]
  },
  {
   "cell_type": "code",
   "execution_count": 7,
   "metadata": {
    "collapsed": false
   },
   "outputs": [
    {
     "data": {
      "text/plain": [
       "<matplotlib.axes._subplots.AxesSubplot at 0x1479536a0>"
      ]
     },
     "execution_count": 7,
     "metadata": {},
     "output_type": "execute_result"
    },
    {
     "data": {
      "image/png": "[encoded data removed]",
      "text/plain": [
       "<matplotlib.figure.Figure at 0x147953e48>"
      ]
     },
     "metadata": {},
     "output_type": "display_data"
    }
   ],
   "source": [
    "metric = 'session_length'\n",
    "df[metric] = df['click_session'].apply(get_session_length)\n",
    "\n",
    "sns.barplot(\n",
    "            y = metric,\n",
    "            x = 'host',\n",
    "            data=df,\n",
    "            hue = 'condition'\n",
    "            )"
   ]
  }
 ],
 "metadata": {
  "kernelspec": {
   "display_name": "Python 3",
   "language": "python",
   "name": "python3"
  },
  "language_info": {
   "codemirror_mode": {
    "name": "ipython",
    "version": 3
   },
   "file_extension": ".py",
   "mimetype": "text/x-python",
   "name": "python",
   "nbconvert_exporter": "python",
   "pygments_lexer": "ipython3",
   "version": "3.5.1"
  }
 },
 "nbformat": 4,
 "nbformat_minor": 0
}
