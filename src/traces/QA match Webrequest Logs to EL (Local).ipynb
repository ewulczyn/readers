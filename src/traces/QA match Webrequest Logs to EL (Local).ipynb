{
 "cells": [
  {
   "cell_type": "code",
   "execution_count": 1,
   "metadata": {
    "collapsed": false
   },
   "outputs": [],
   "source": [
    "%load_ext autoreload\n",
    "%autoreload 2\n",
    "%matplotlib inline\n",
    "import warnings\n",
    "warnings.filterwarnings('ignore')\n",
    "import pandas as pd\n",
    "from db_utils import query_analytics_store, query_hive_ssh,get_hive_timespan"
   ]
  },
  {
   "cell_type": "markdown",
   "metadata": {},
   "source": [
    "# Group Requests By (IP, UA, XFF) in Hive"
   ]
  },
  {
   "cell_type": "code",
   "execution_count": 2,
   "metadata": {
    "collapsed": false
   },
   "outputs": [],
   "source": [
    "query = \"\"\"\n",
    "DROP TABLE IF EXISTS ellery.survey_qa_%(ext)s;\n",
    "CREATE TABLE ellery.survey_qa_%(ext)s\n",
    "ROW FORMAT DELIMITED\n",
    "FIELDS TERMINATED BY '\\t'\n",
    "STORED AS TEXTFILE\n",
    "\n",
    "AS SELECT\n",
    "    client_ip,\n",
    "    user_agent,\n",
    "    x_forwarded_for,\n",
    "    CONCAT_WS('||', COLLECT_LIST(request)) as requests,\n",
    "    day_ts\n",
    "FROM\n",
    "    (SELECT\n",
    "        client_ip,\n",
    "        user_agent,\n",
    "        x_forwarded_for,\n",
    "        CONCAT(ts, '|', referer, '|', uri_path ) request,\n",
    "        CONCAT(year,'-',LPAD(month,2,'0'),'-',LPAD(day,2,'0')) as day_ts\n",
    "    FROM\n",
    "        wmf.webrequest\n",
    "    WHERE \n",
    "        is_pageview\n",
    "        AND agent_type = 'user'\n",
    "        AND %(time_conditions)s\n",
    "        AND uri_host in ('en.wikipedia.org', 'en.m.wikipedia.org')\n",
    "    ) a\n",
    "GROUP BY\n",
    "    client_ip,\n",
    "    user_agent,\n",
    "    x_forwarded_for,\n",
    "    day_ts\n",
    "\n",
    "\"\"\""
   ]
  },
  {
   "cell_type": "markdown",
   "metadata": {},
   "source": [
    "# Create One Hour Test Table"
   ]
  },
  {
   "cell_type": "code",
   "execution_count": 3,
   "metadata": {
    "collapsed": true
   },
   "outputs": [],
   "source": [
    "start = '2016-02-17 01:00:00'\n",
    "stop = '2016-02-17 01:59:00'\n",
    "params = {'time_conditions': get_hive_timespan(start, stop, hour = True),\n",
    "        'ext': 'hour'}\n",
    "#query_hive_ssh(query % params , 'qa', priority = True)"
   ]
  },
  {
   "cell_type": "markdown",
   "metadata": {},
   "source": [
    "# Create One Day Test Table"
   ]
  },
  {
   "cell_type": "code",
   "execution_count": 4,
   "metadata": {
    "collapsed": false
   },
   "outputs": [],
   "source": [
    "start = '2016-02-17'\n",
    "stop = '2016-02-17'\n",
    "params = {'time_conditions': get_hive_timespan(start, stop, hour = False),\n",
    "        'ext': 'day'}\n",
    "#query_hive_ssh(query % params , 'qa', priority = True)"
   ]
  }
 ],
 "metadata": {
  "kernelspec": {
   "display_name": "Python 3",
   "language": "python",
   "name": "python3"
  },
  "language_info": {
   "codemirror_mode": {
    "name": "ipython",
    "version": 3
   },
   "file_extension": ".py",
   "mimetype": "text/x-python",
   "name": "python",
   "nbconvert_exporter": "python",
   "pygments_lexer": "ipython3",
   "version": "3.5.1"
  }
 },
 "nbformat": 4,
 "nbformat_minor": 0
}
