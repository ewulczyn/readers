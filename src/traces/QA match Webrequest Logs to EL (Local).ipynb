{
 "cells": [
  {
   "cell_type": "code",
   "execution_count": 7,
   "metadata": {
    "collapsed": false
   },
   "outputs": [
    {
     "name": "stdout",
     "output_type": "stream",
     "text": [
      "The autoreload extension is already loaded. To reload it, use:\n",
      "  %reload_ext autoreload\n"
     ]
    }
   ],
   "source": [
    "%load_ext autoreload\n",
    "%autoreload 2\n",
    "%matplotlib inline\n",
    "import warnings\n",
    "warnings.filterwarnings('ignore')\n",
    "import pandas as pd\n",
    "from db_utils import query_analytics_store, query_hive_ssh,get_hive_timespan"
   ]
  },
  {
   "cell_type": "markdown",
   "metadata": {},
   "source": [
    "# Group Requests By (IP, UA, XFF) in Hive"
   ]
  },
  {
   "cell_type": "code",
   "execution_count": 55,
   "metadata": {
    "collapsed": false
   },
   "outputs": [],
   "source": [
    "query = \"\"\"\n",
    "DROP TABLE IF EXISTS ellery.survey_qa_%(ext)s;\n",
    "CREATE TABLE ellery.survey_qa_%(ext)s\n",
    "ROW FORMAT DELIMITED\n",
    "FIELDS TERMINATED BY '\\t'\n",
    "STORED AS TEXTFILE\n",
    "\n",
    "AS SELECT\n",
    "    client_ip,\n",
    "    user_agent,\n",
    "    x_forwarded_for,\n",
    "    CONCAT_WS('||', COLLECT_LIST(request)) as requests,\n",
    "    day_ts\n",
    "FROM\n",
    "    (SELECT\n",
    "        client_ip,\n",
    "        user_agent,\n",
    "        x_forwarded_for,\n",
    "        CONCAT(ts, '|', referer, '|', uri_path ) request,\n",
    "        CONCAT(year,'-',LPAD(month,2,'0'),'-',LPAD(day,2,'0')) as day_ts\n",
    "    FROM\n",
    "        wmf.webrequest\n",
    "    WHERE \n",
    "        is_pageview\n",
    "        AND agent_type = 'user'\n",
    "        AND %(time_conditions)s\n",
    "        AND uri_host in ('en.wikipedia.org', 'en.m.wikipedia.org')\n",
    "    ) a\n",
    "GROUP BY\n",
    "    client_ip,\n",
    "    user_agent,\n",
    "    x_forwarded_for,\n",
    "    day_ts\n",
    "\n",
    "\"\"\""
   ]
  },
  {
   "cell_type": "markdown",
   "metadata": {},
   "source": [
    "# Create One Hour Test Table"
   ]
  },
  {
   "cell_type": "code",
   "execution_count": null,
   "metadata": {
    "collapsed": true
   },
   "outputs": [],
   "source": [
    "start = '2016-02-17 01:00:00'\n",
    "stop = '2016-02-17 01:59:00'\n",
    "params = {'time_conditions': get_hive_timespan(start, stop, hour = True),\n",
    "        'ext': 'hour'}\n",
    "query_hive_ssh(query % params , 'qa', priority = True)"
   ]
  },
  {
   "cell_type": "markdown",
   "metadata": {},
   "source": [
    "# Create One Day Test Table"
   ]
  },
  {
   "cell_type": "code",
   "execution_count": 57,
   "metadata": {
    "collapsed": false
   },
   "outputs": [
    {
     "name": "stdout",
     "output_type": "stream",
     "text": [
      "\n",
      "DROP TABLE IF EXISTS ellery.survey_qa_day;\n",
      "CREATE TABLE ellery.survey_qa\n",
      "ROW FORMAT DELIMITED\n",
      "FIELDS TERMINATED BY '\t'\n",
      "STORED AS TEXTFILE\n",
      "\n",
      "AS SELECT\n",
      "    client_ip,\n",
      "    user_agent,\n",
      "    x_forwarded_for,\n",
      "    CONCAT_WS('||', COLLECT_LIST(request)) as requests,\n",
      "    day_ts\n",
      "FROM\n",
      "    (SELECT\n",
      "        client_ip,\n",
      "        user_agent,\n",
      "        x_forwarded_for,\n",
      "        CONCAT(ts, '|', referer, '|', uri_path ) request,\n",
      "        CONCAT(year,'-',LPAD(month,2,'0'),'-',LPAD(day,2,'0')) as day_ts\n",
      "    FROM\n",
      "        wmf.webrequest\n",
      "    WHERE \n",
      "        is_pageview\n",
      "        AND agent_type = 'user'\n",
      "        AND ((year=2016 AND month=2 AND day=17))\n",
      "        AND uri_host in ('en.wikipedia.org', 'en.m.wikipedia.org')\n",
      "    ) a\n",
      "GROUP BY\n",
      "    client_ip,\n",
      "    user_agent,\n",
      "    x_forwarded_for,\n",
      "    day_ts\n",
      "\n",
      "\n"
     ]
    },
    {
     "data": {
      "text/html": [
       "<div>\n",
       "<table border=\"1\" class=\"dataframe\">\n",
       "  <thead>\n",
       "    <tr style=\"text-align: right;\">\n",
       "      <th></th>\n",
       "      <th>client_ip</th>\n",
       "      <th>user_agent</th>\n",
       "      <th>x_forwarded_for</th>\n",
       "      <th>requests</th>\n",
       "      <th>day_ts</th>\n",
       "    </tr>\n",
       "  </thead>\n",
       "  <tbody>\n",
       "  </tbody>\n",
       "</table>\n",
       "</div>"
      ],
      "text/plain": [
       "Empty DataFrame\n",
       "Columns: [client_ip, user_agent, x_forwarded_for, requests, day_ts]\n",
       "Index: []"
      ]
     },
     "execution_count": 57,
     "metadata": {},
     "output_type": "execute_result"
    }
   ],
   "source": [
    "start = '2016-02-17'\n",
    "stop = '2016-02-17'\n",
    "params = {'time_conditions': get_hive_timespan(start, stop, hour = False),\n",
    "        'ext': 'day'}\n",
    "query_hive_ssh(query % params , 'qa', priority = True)"
   ]
  },
  {
   "cell_type": "code",
   "execution_count": null,
   "metadata": {
    "collapsed": true
   },
   "outputs": [],
   "source": []
  }
 ],
 "metadata": {
  "kernelspec": {
   "display_name": "Python 3",
   "language": "python",
   "name": "python3"
  },
  "language_info": {
   "codemirror_mode": {
    "name": "ipython",
    "version": 3
   },
   "file_extension": ".py",
   "mimetype": "text/x-python",
   "name": "python",
   "nbconvert_exporter": "python",
   "pygments_lexer": "ipython3",
   "version": "3.5.1"
  }
 },
 "nbformat": 4,
 "nbformat_minor": 0
}
