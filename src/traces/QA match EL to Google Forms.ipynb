{
 "cells": [
  {
   "cell_type": "code",
   "execution_count": 1,
   "metadata": {
    "collapsed": false
   },
   "outputs": [],
   "source": [
    "%load_ext autoreload\n",
    "%autoreload 2\n",
    "%matplotlib inline\n",
    "import warnings\n",
    "warnings.filterwarnings('ignore')\n",
    "import pandas as pd\n",
    "from db_utils import query_analytics_store\n"
   ]
  },
  {
   "cell_type": "markdown",
   "metadata": {},
   "source": [
    "- [QuickSurveysResponses_15266417](https://meta.wikimedia.org/wiki/Schema:QuickSurveysResponses)\n",
    "- [QuickSurveyInitiation_15278946](https://meta.wikimedia.org/wiki/Schema:QuickSurveyInitiation)\n",
    "- [Survey](https://docs.google.com/spreadsheets/d/1JD8-knLmnFXVwXxJYx6w9RRmxZWasSLaSKvj85SgrzE/edit?ts=56c3ccd2#gid=1291145097)"
   ]
  },
  {
   "cell_type": "code",
   "execution_count": 2,
   "metadata": {
    "collapsed": true
   },
   "outputs": [],
   "source": [
    "response_table = 'log.QuickSurveysResponses_15266417'\n",
    "impression_table = 'log.QuickSurveyInitiation_15278946'\n",
    "host = 'analytics-store.eqiad.wmnet'"
   ]
  },
  {
   "cell_type": "markdown",
   "metadata": {},
   "source": [
    "### EL Summary Stats"
   ]
  },
  {
   "cell_type": "code",
   "execution_count": 3,
   "metadata": {
    "collapsed": false
   },
   "outputs": [
    {
     "name": "stdout",
     "output_type": "stream",
     "text": [
      "Eligible Pageviews:  53600\n",
      "Widget Impressions:  42134\n",
      "Clicks:  469\n",
      "Yeses:  135\n",
      "Nos:  334\n"
     ]
    }
   ],
   "source": [
    "query = \"\"\"\n",
    "SELECT\n",
    "    COUNT(*) as n\n",
    "FROM log.QuickSurveyInitiation_15278946\n",
    "WHERE\n",
    "    event_eventName ='eligible'\n",
    "\"\"\"\n",
    "\n",
    "n_eligible = query_analytics_store(query, {}).iloc[0]['n']\n",
    "\n",
    "query = \"\"\"\n",
    "SELECT\n",
    "    COUNT(*) as n\n",
    "FROM log.QuickSurveyInitiation_15278946\n",
    "WHERE\n",
    "    event_eventName ='impression'\n",
    "\"\"\"\n",
    "\n",
    "n_impressions = query_analytics_store(query, {}).iloc[0]['n']\n",
    "\n",
    "query = \"\"\"\n",
    "SELECT\n",
    "    COUNT(*) as n\n",
    "FROM log.QuickSurveysResponses_15266417\n",
    "\"\"\"\n",
    "n_responses = query_analytics_store(query, {}).iloc[0]['n']\n",
    "\n",
    "query = \"\"\"\n",
    "SELECT\n",
    "    COUNT(*) as n\n",
    "FROM log.QuickSurveysResponses_15266417\n",
    "WHERE\n",
    "    event_surveyResponseValue ='ext-quicksurveys-external-survey-yes-button'\n",
    "\"\"\"\n",
    "n_yes = query_analytics_store( query, {}).iloc[0]['n']\n",
    "\n",
    "query = \"\"\"\n",
    "SELECT\n",
    "    COUNT(*) as n\n",
    "FROM log.QuickSurveysResponses_15266417\n",
    "WHERE\n",
    "    event_surveyResponseValue ='ext-quicksurveys-external-survey-no-button'\n",
    "\"\"\"\n",
    "n_no = query_analytics_store( query, {}).iloc[0]['n']\n",
    "\n",
    "\n",
    "\n",
    "print('Eligible Pageviews: ', n_eligible)\n",
    "print('Widget Impressions: ', n_impressions)\n",
    "print('Clicks: ', n_responses)\n",
    "print('Yeses: ', n_yes)\n",
    "print('Nos: ', n_no)"
   ]
  },
  {
   "cell_type": "markdown",
   "metadata": {},
   "source": [
    "### Does each eligible pageview have a unique survey token?"
   ]
  },
  {
   "cell_type": "code",
   "execution_count": 4,
   "metadata": {
    "collapsed": false
   },
   "outputs": [
    {
     "name": "stdout",
     "output_type": "stream",
     "text": [
      "53593\n"
     ]
    }
   ],
   "source": [
    "query = \"\"\"\n",
    "SELECT COUNT(DISTINCT(event_surveyInstanceToken)) as n\n",
    "FROM log.QuickSurveyInitiation_15278946\n",
    "WHERE event_eventName ='eligible'\n",
    "\"\"\"\n",
    "print(query_analytics_store(query, {}).iloc[0]['n'])"
   ]
  },
  {
   "cell_type": "markdown",
   "metadata": {},
   "source": [
    "Pretty Close"
   ]
  },
  {
   "cell_type": "markdown",
   "metadata": {},
   "source": [
    "### Does each widget impression have a unique survey token?"
   ]
  },
  {
   "cell_type": "code",
   "execution_count": 13,
   "metadata": {
    "collapsed": false
   },
   "outputs": [
    {
     "name": "stdout",
     "output_type": "stream",
     "text": [
      "41943\n"
     ]
    }
   ],
   "source": [
    "query = \"\"\"\n",
    "SELECT COUNT(DISTINCT(event_surveyInstanceToken)) as n\n",
    "FROM log.QuickSurveyInitiation_15278946\n",
    "WHERE event_eventName ='impression'\n",
    "\"\"\"\n",
    "print(query_analytics_store(query, {}).iloc[0]['n'])"
   ]
  },
  {
   "cell_type": "markdown",
   "metadata": {},
   "source": [
    "Pretty Close."
   ]
  },
  {
   "cell_type": "markdown",
   "metadata": {},
   "source": [
    "### Does each Widget Impression have a matching Pageview?"
   ]
  },
  {
   "cell_type": "code",
   "execution_count": 14,
   "metadata": {
    "collapsed": false
   },
   "outputs": [
    {
     "name": "stdout",
     "output_type": "stream",
     "text": [
      "41872\n"
     ]
    }
   ],
   "source": [
    "query = \"\"\"\n",
    "SELECT\n",
    "    COUNT(DISTINCT(i.event_surveyInstanceToken)) as n\n",
    "FROM\n",
    "    (SELECT event_surveyInstanceToken\n",
    "    FROM log.QuickSurveyInitiation_15278946\n",
    "    WHERE\n",
    "    event_eventName ='impression') i\n",
    "JOIN\n",
    "    (SELECT event_surveyInstanceToken\n",
    "    FROM log.QuickSurveyInitiation_15278946\n",
    "    WHERE\n",
    "    event_eventName ='eligible') e\n",
    "ON\n",
    "    (i.event_surveyInstanceToken = e.event_surveyInstanceToken)\n",
    "\"\"\"\n",
    "\n",
    "df = query_analytics_store(query, {})\n",
    "print(df.iloc[0]['n'])"
   ]
  },
  {
   "cell_type": "markdown",
   "metadata": {},
   "source": [
    "Close. It seems there are a small number of impressions without a matching pageview."
   ]
  },
  {
   "cell_type": "markdown",
   "metadata": {},
   "source": [
    "### Does each click have a matching Widget Impression?"
   ]
  },
  {
   "cell_type": "code",
   "execution_count": 15,
   "metadata": {
    "collapsed": false
   },
   "outputs": [
    {
     "name": "stdout",
     "output_type": "stream",
     "text": [
      "459 459\n"
     ]
    }
   ],
   "source": [
    "query = \"\"\"\n",
    "SELECT *\n",
    "FROM\n",
    "    log.QuickSurveysResponses_15266417 r,\n",
    "    log.QuickSurveyInitiation_15278946 i\n",
    "WHERE\n",
    "    r.event_surveyInstanceToken = i.event_surveyInstanceToken\n",
    "    AND i.event_eventName ='impression'\n",
    "\"\"\" \n",
    "\n",
    "d_click = query_analytics_store( query, {})\n",
    "print(d_click.shape[0], len(set(d_click['event_surveyInstanceToken'])))"
   ]
  },
  {
   "cell_type": "markdown",
   "metadata": {
    "collapsed": true
   },
   "source": [
    "Each click has exactly one widget impression. One click without a matching rendered widget"
   ]
  },
  {
   "cell_type": "markdown",
   "metadata": {},
   "source": [
    "### Does each Google Survey Response have a registered click"
   ]
  },
  {
   "cell_type": "code",
   "execution_count": 16,
   "metadata": {
    "collapsed": false
   },
   "outputs": [],
   "source": [
    "d_survey = pd.read_csv('responses.tsv', sep = '\\t')\n",
    "st = 'This is you survey ID. Please do not modify.'\n",
    "ct = 'event_surveyInstanceToken'\n",
    "df_survey_click = d_survey.merge(d_click, how = 'inner', right_on = ct, left_on = st)"
   ]
  },
  {
   "cell_type": "code",
   "execution_count": 17,
   "metadata": {
    "collapsed": false
   },
   "outputs": [
    {
     "name": "stdout",
     "output_type": "stream",
     "text": [
      "59\n"
     ]
    }
   ],
   "source": [
    "print(df_survey_click.shape[0])"
   ]
  },
  {
   "cell_type": "code",
   "execution_count": 18,
   "metadata": {
    "collapsed": false
   },
   "outputs": [
    {
     "name": "stdout",
     "output_type": "stream",
     "text": [
      "81\n"
     ]
    }
   ],
   "source": [
    "print(d_survey.shape[0])"
   ]
  },
  {
   "cell_type": "markdown",
   "metadata": {},
   "source": [
    "Only 59 out of 81 survey responses have a matching click."
   ]
  },
  {
   "cell_type": "markdown",
   "metadata": {},
   "source": [
    "### Does each Google Survey Response have a registered impression?"
   ]
  },
  {
   "cell_type": "code",
   "execution_count": 19,
   "metadata": {
    "collapsed": false
   },
   "outputs": [],
   "source": [
    "query = \"\"\"\n",
    "SELECT\n",
    "    event_surveyInstanceToken\n",
    "FROM log.QuickSurveyInitiation_15278946\n",
    "WHERE\n",
    "    event_eventName ='impression'\n",
    "\"\"\"\n",
    "\n",
    "d_impression = query_analytics_store(query, {})\n",
    "df_survey_impression = d_survey.merge(d_impression, how = 'inner', right_on = 'event_surveyInstanceToken', left_on = st)"
   ]
  },
  {
   "cell_type": "code",
   "execution_count": 20,
   "metadata": {
    "collapsed": false
   },
   "outputs": [
    {
     "name": "stdout",
     "output_type": "stream",
     "text": [
      "61\n"
     ]
    }
   ],
   "source": [
    "print(df_survey_impression.shape[0])"
   ]
  },
  {
   "cell_type": "markdown",
   "metadata": {},
   "source": [
    "Only 61 out of 81 survey responses have a matching click."
   ]
  },
  {
   "cell_type": "markdown",
   "metadata": {},
   "source": [
    "### Summary"
   ]
  },
  {
   "cell_type": "code",
   "execution_count": 21,
   "metadata": {
    "collapsed": false
   },
   "outputs": [
    {
     "name": "stdout",
     "output_type": "stream",
     "text": [
      "Eligible Pageviews:  53373\n",
      "Widget Impressions:  41957\n",
      "Clicks:  463\n",
      "Yeses:  134\n",
      "Google Responses tracked in EL 59\n",
      "Google Responses 81\n"
     ]
    }
   ],
   "source": [
    "print('Eligible Pageviews: ', n_eligible)\n",
    "print('Widget Impressions: ', n_impressions)\n",
    "print('Clicks: ', n_responses)\n",
    "print('Yeses: ', n_yes)\n",
    "print('Google Responses tracked in EL', df_survey_click.shape[0])\n",
    "print('Google Responses', d_survey.shape[0])"
   ]
  },
  {
   "cell_type": "markdown",
   "metadata": {},
   "source": [
    "- Don't know how many users where in the sample\n",
    "- One in 300 pageviews results in a 'Yes'\n",
    "- 62% of 'Yes' events lead to a survery response\n",
    "- only 60% of survey responses are trackable in EL"
   ]
  },
  {
   "cell_type": "markdown",
   "metadata": {},
   "source": [
    "### Digging Into Missing Data"
   ]
  },
  {
   "cell_type": "code",
   "execution_count": 22,
   "metadata": {
    "collapsed": true
   },
   "outputs": [],
   "source": [
    "df_survey_click2 = d_survey.merge(d_click, how = 'left', right_on = ct, left_on = st)"
   ]
  },
  {
   "cell_type": "code",
   "execution_count": 23,
   "metadata": {
    "collapsed": false
   },
   "outputs": [],
   "source": [
    "df_survey_click2 = df_survey_click2[[st,'Timestamp', ct, 'timestamp']].sort('Timestamp')\n",
    "df_survey_click2.columns = ['Google Token', 'Google Timestamp', 'EL Token', 'EL Timestamp']"
   ]
  },
  {
   "cell_type": "code",
   "execution_count": 24,
   "metadata": {
    "collapsed": false
   },
   "outputs": [
    {
     "data": {
      "text/plain": [
       "16    81\n",
       "Name: Google Token, dtype: int64"
      ]
     },
     "execution_count": 24,
     "metadata": {},
     "output_type": "execute_result"
    }
   ],
   "source": [
    "df_survey_click2['Google Token'].apply(len).value_counts()"
   ]
  },
  {
   "cell_type": "markdown",
   "metadata": {},
   "source": [
    "No obvious pattern..."
   ]
  },
  {
   "cell_type": "markdown",
   "metadata": {},
   "source": [
    "### Are surveySessionToken tokens unique per IP"
   ]
  },
  {
   "cell_type": "code",
   "execution_count": 25,
   "metadata": {
    "collapsed": false
   },
   "outputs": [
    {
     "name": "stdout",
     "output_type": "stream",
     "text": [
      "17573\n"
     ]
    }
   ],
   "source": [
    "query = \"\"\"\n",
    "SELECT\n",
    "    COUNT(DISTINCT(clientIP)) as n\n",
    "FROM log.QuickSurveyInitiation_15278946\n",
    "\"\"\"\n",
    "nIPs = query_analytics_store( query, {}).iloc[0]['n']\n",
    "print(nIPs)"
   ]
  },
  {
   "cell_type": "code",
   "execution_count": 26,
   "metadata": {
    "collapsed": false
   },
   "outputs": [
    {
     "name": "stdout",
     "output_type": "stream",
     "text": [
      "18017\n"
     ]
    }
   ],
   "source": [
    "query = \"\"\"\n",
    "SELECT\n",
    "    COUNT(DISTINCT(CONCAT(clientIP, userAgent))) as n\n",
    "FROM log.QuickSurveyInitiation_15278946\n",
    "\"\"\"\n",
    "nIPUAs = query_analytics_store( query, {}).iloc[0]['n']\n",
    "print(nIPUAs)"
   ]
  },
  {
   "cell_type": "code",
   "execution_count": 27,
   "metadata": {
    "collapsed": false
   },
   "outputs": [
    {
     "name": "stdout",
     "output_type": "stream",
     "text": [
      "21338\n"
     ]
    }
   ],
   "source": [
    "query = \"\"\"\n",
    "SELECT\n",
    "    COUNT(DISTINCT(event_surveySessionToken)) as n\n",
    "FROM log.QuickSurveyInitiation_15278946\n",
    "\"\"\"\n",
    "sessiontokens = query_analytics_store( query, {}).iloc[0]['n']\n",
    "print(sessiontokens)"
   ]
  }
 ],
 "metadata": {
  "kernelspec": {
   "display_name": "Python 3",
   "language": "python",
   "name": "python3"
  },
  "language_info": {
   "codemirror_mode": {
    "name": "ipython",
    "version": 3
   },
   "file_extension": ".py",
   "mimetype": "text/x-python",
   "name": "python",
   "nbconvert_exporter": "python",
   "pygments_lexer": "ipython3",
   "version": "3.5.1"
  }
 },
 "nbformat": 4,
 "nbformat_minor": 0
}
