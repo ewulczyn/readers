{
 "cells": [
  {
   "cell_type": "code",
   "execution_count": 12,
   "metadata": {
    "collapsed": false
   },
   "outputs": [
    {
     "name": "stdout",
     "output_type": "stream",
     "text": [
      "The autoreload extension is already loaded. To reload it, use:\n",
      "  %reload_ext autoreload\n"
     ]
    }
   ],
   "source": [
    "%load_ext autoreload\n",
    "%autoreload 2\n",
    "%matplotlib inline\n",
    "import warnings\n",
    "warnings.filterwarnings('ignore')\n",
    "import pandas as pd\n",
    "from db_utils import query_analytics_store\n"
   ]
  },
  {
   "cell_type": "markdown",
   "metadata": {},
   "source": [
    "- [QuickSurveysResponses_15266417](https://meta.wikimedia.org/wiki/Schema:QuickSurveysResponses)\n",
    "- [QuickSurveyInitiation_15278946](https://meta.wikimedia.org/wiki/Schema:QuickSurveyInitiation)\n",
    "- [Survey](https://docs.google.com/spreadsheets/d/1JD8-knLmnFXVwXxJYx6w9RRmxZWasSLaSKvj85SgrzE/edit?ts=56c3ccd2#gid=1291145097)"
   ]
  },
  {
   "cell_type": "code",
   "execution_count": 13,
   "metadata": {
    "collapsed": true
   },
   "outputs": [],
   "source": [
    "response_table = 'log.QuickSurveysResponses_15266417'\n",
    "impression_table = 'log.QuickSurveyInitiation_15278946'\n",
    "host = 'analytics-store.eqiad.wmnet'"
   ]
  },
  {
   "cell_type": "markdown",
   "metadata": {},
   "source": [
    "### EL Summary Stats"
   ]
  },
  {
   "cell_type": "code",
   "execution_count": 14,
   "metadata": {
    "collapsed": false
   },
   "outputs": [
    {
     "name": "stdout",
     "output_type": "stream",
     "text": [
      "Eligible Pageviews:  44647\n",
      "Widget Impressions:  34904\n",
      "Clicks:  396\n",
      "Yeses:  114\n",
      "Nos:  282\n"
     ]
    }
   ],
   "source": [
    "query = \"\"\"\n",
    "SELECT\n",
    "    COUNT(*) as n\n",
    "FROM log.QuickSurveyInitiation_15278946\n",
    "WHERE\n",
    "    event_eventName ='eligible'\n",
    "\"\"\"\n",
    "\n",
    "n_eligible = query_analytics_store(query, {}).iloc[0]['n']\n",
    "\n",
    "query = \"\"\"\n",
    "SELECT\n",
    "    COUNT(*) as n\n",
    "FROM log.QuickSurveyInitiation_15278946\n",
    "WHERE\n",
    "    event_eventName ='impression'\n",
    "\"\"\"\n",
    "\n",
    "n_impressions = query_analytics_store(query, {}).iloc[0]['n']\n",
    "\n",
    "query = \"\"\"\n",
    "SELECT\n",
    "    COUNT(*) as n\n",
    "FROM log.QuickSurveysResponses_15266417\n",
    "\"\"\"\n",
    "n_responses = query_analytics_store(query, {}).iloc[0]['n']\n",
    "\n",
    "query = \"\"\"\n",
    "SELECT\n",
    "    COUNT(*) as n\n",
    "FROM log.QuickSurveysResponses_15266417\n",
    "WHERE\n",
    "    event_surveyResponseValue ='ext-quicksurveys-external-survey-yes-button'\n",
    "\"\"\"\n",
    "n_yes = query_analytics_store( query, {}).iloc[0]['n']\n",
    "\n",
    "query = \"\"\"\n",
    "SELECT\n",
    "    COUNT(*) as n\n",
    "FROM log.QuickSurveysResponses_15266417\n",
    "WHERE\n",
    "    event_surveyResponseValue ='ext-quicksurveys-external-survey-no-button'\n",
    "\"\"\"\n",
    "n_no = query_analytics_store( query, {}).iloc[0]['n']\n",
    "\n",
    "\n",
    "\n",
    "print('Eligible Pageviews: ', n_eligible)\n",
    "print('Widget Impressions: ', n_impressions)\n",
    "print('Clicks: ', n_responses)\n",
    "print('Yeses: ', n_yes)\n",
    "print('Nos: ', n_no)"
   ]
  },
  {
   "cell_type": "markdown",
   "metadata": {},
   "source": [
    "### Does each eligible pageview have a unique survey token?"
   ]
  },
  {
   "cell_type": "code",
   "execution_count": 15,
   "metadata": {
    "collapsed": false
   },
   "outputs": [
    {
     "name": "stdout",
     "output_type": "stream",
     "text": [
      "44641\n"
     ]
    }
   ],
   "source": [
    "query = \"\"\"\n",
    "SELECT COUNT(DISTINCT(event_surveyInstanceToken)) as n\n",
    "FROM log.QuickSurveyInitiation_15278946\n",
    "WHERE event_eventName ='eligible'\n",
    "\"\"\"\n",
    "print(query_analytics_store(query, {}).iloc[0]['n'])"
   ]
  },
  {
   "cell_type": "markdown",
   "metadata": {},
   "source": [
    "Pretty Close"
   ]
  },
  {
   "cell_type": "markdown",
   "metadata": {},
   "source": [
    "### Does each widget impression have a unique survey token?"
   ]
  },
  {
   "cell_type": "code",
   "execution_count": 16,
   "metadata": {
    "collapsed": false
   },
   "outputs": [
    {
     "name": "stdout",
     "output_type": "stream",
     "text": [
      "34890\n"
     ]
    }
   ],
   "source": [
    "query = \"\"\"\n",
    "SELECT COUNT(DISTINCT(event_surveyInstanceToken)) as n\n",
    "FROM log.QuickSurveyInitiation_15278946\n",
    "WHERE event_eventName ='impression'\n",
    "\"\"\"\n",
    "print(query_analytics_store(query, {}).iloc[0]['n'])"
   ]
  },
  {
   "cell_type": "markdown",
   "metadata": {},
   "source": [
    "Pretty Close."
   ]
  },
  {
   "cell_type": "markdown",
   "metadata": {},
   "source": [
    "### Does each Widget Impression have a matching Pageview?"
   ]
  },
  {
   "cell_type": "code",
   "execution_count": 17,
   "metadata": {
    "collapsed": false
   },
   "outputs": [
    {
     "name": "stdout",
     "output_type": "stream",
     "text": [
      "34831\n"
     ]
    }
   ],
   "source": [
    "query = \"\"\"\n",
    "SELECT\n",
    "    COUNT(DISTINCT(i.event_surveyInstanceToken)) as n\n",
    "FROM\n",
    "    (SELECT event_surveyInstanceToken\n",
    "    FROM log.QuickSurveyInitiation_15278946\n",
    "    WHERE\n",
    "    event_eventName ='impression') i\n",
    "JOIN\n",
    "    (SELECT event_surveyInstanceToken\n",
    "    FROM log.QuickSurveyInitiation_15278946\n",
    "    WHERE\n",
    "    event_eventName ='eligible') e\n",
    "ON\n",
    "    (i.event_surveyInstanceToken = e.event_surveyInstanceToken)\n",
    "\"\"\"\n",
    "\n",
    "df = query_analytics_store(query, {})\n",
    "print(df.iloc[0]['n'])"
   ]
  },
  {
   "cell_type": "markdown",
   "metadata": {},
   "source": [
    "Close. It seems there are a small number of impressions without a matching pageview."
   ]
  },
  {
   "cell_type": "markdown",
   "metadata": {},
   "source": [
    "### Does each click have a matching Widget Impression?"
   ]
  },
  {
   "cell_type": "code",
   "execution_count": 18,
   "metadata": {
    "collapsed": false
   },
   "outputs": [
    {
     "name": "stdout",
     "output_type": "stream",
     "text": [
      "393 393\n"
     ]
    }
   ],
   "source": [
    "query = \"\"\"\n",
    "SELECT *\n",
    "FROM\n",
    "    log.QuickSurveysResponses_15266417 r,\n",
    "    log.QuickSurveyInitiation_15278946 i\n",
    "WHERE\n",
    "    r.event_surveyInstanceToken = i.event_surveyInstanceToken\n",
    "    AND i.event_eventName ='impression'\n",
    "\"\"\" \n",
    "\n",
    "d_click = query_analytics_store( query, {})\n",
    "print(d_click.shape[0], len(set(d_click['event_surveyInstanceToken'])))"
   ]
  },
  {
   "cell_type": "markdown",
   "metadata": {
    "collapsed": true
   },
   "source": [
    "Each click has exactly one widget impression. One click without a matching rendered widget"
   ]
  },
  {
   "cell_type": "markdown",
   "metadata": {},
   "source": [
    "### Does each Google Survey Response have a registered click"
   ]
  },
  {
   "cell_type": "code",
   "execution_count": 20,
   "metadata": {
    "collapsed": false
   },
   "outputs": [],
   "source": [
    "d_survey = pd.read_csv('responses.tsv', sep = '\\t')\n",
    "st = 'This is you survey ID. Please do not modify.'\n",
    "ct = 'event_surveyInstanceToken'\n",
    "df_survey_click = d_survey.merge(d_click, how = 'inner', right_on = ct, left_on = st)"
   ]
  },
  {
   "cell_type": "code",
   "execution_count": 21,
   "metadata": {
    "collapsed": false
   },
   "outputs": [
    {
     "name": "stdout",
     "output_type": "stream",
     "text": [
      "59\n"
     ]
    }
   ],
   "source": [
    "print(df_survey_click.shape[0])"
   ]
  },
  {
   "cell_type": "code",
   "execution_count": 23,
   "metadata": {
    "collapsed": false
   },
   "outputs": [
    {
     "name": "stdout",
     "output_type": "stream",
     "text": [
      "81\n"
     ]
    }
   ],
   "source": [
    "print(d_survey.shape[0])"
   ]
  },
  {
   "cell_type": "markdown",
   "metadata": {},
   "source": [
    "Only 59 out of 81 survey responses have a matching click."
   ]
  },
  {
   "cell_type": "markdown",
   "metadata": {},
   "source": [
    "### Does each Google Survey Response have a registered impression?"
   ]
  },
  {
   "cell_type": "code",
   "execution_count": 24,
   "metadata": {
    "collapsed": false
   },
   "outputs": [],
   "source": [
    "query = \"\"\"\n",
    "SELECT\n",
    "    event_surveyInstanceToken\n",
    "FROM log.QuickSurveyInitiation_15278946\n",
    "WHERE\n",
    "    event_eventName ='impression'\n",
    "\"\"\"\n",
    "\n",
    "d_impression = query_analytics_store(query, {})\n",
    "df_survey_impression = d_survey.merge(d_impression, how = 'inner', right_on = 'event_surveyInstanceToken', left_on = st)"
   ]
  },
  {
   "cell_type": "code",
   "execution_count": 25,
   "metadata": {
    "collapsed": false
   },
   "outputs": [
    {
     "name": "stdout",
     "output_type": "stream",
     "text": [
      "61\n"
     ]
    }
   ],
   "source": [
    "print(df_survey_impression.shape[0])"
   ]
  },
  {
   "cell_type": "markdown",
   "metadata": {},
   "source": [
    "Only 61 out of 81 survey responses have a matching click."
   ]
  },
  {
   "cell_type": "markdown",
   "metadata": {},
   "source": [
    "### Summary"
   ]
  },
  {
   "cell_type": "code",
   "execution_count": 26,
   "metadata": {
    "collapsed": false
   },
   "outputs": [
    {
     "name": "stdout",
     "output_type": "stream",
     "text": [
      "Eligible Pageviews:  44647\n",
      "Widget Impressions:  34904\n",
      "Clicks:  396\n",
      "Yeses:  114\n",
      "Google Responses tracked in EL 59\n",
      "Google Responses 81\n"
     ]
    }
   ],
   "source": [
    "print('Eligible Pageviews: ', n_eligible)\n",
    "print('Widget Impressions: ', n_impressions)\n",
    "print('Clicks: ', n_responses)\n",
    "print('Yeses: ', n_yes)\n",
    "print('Google Responses tracked in EL', df_survey_click.shape[0])\n",
    "print('Google Responses', d_survey.shape[0])"
   ]
  },
  {
   "cell_type": "markdown",
   "metadata": {},
   "source": [
    "- Don't know how many users where in the sample\n",
    "- One in 300 pageviews results in a 'Yes'\n",
    "- 62% of 'Yes' events lead to a survery response\n",
    "- only 60% of survey responses are trackable in EL"
   ]
  },
  {
   "cell_type": "markdown",
   "metadata": {},
   "source": [
    "### Digging Into Missing Data"
   ]
  },
  {
   "cell_type": "code",
   "execution_count": 27,
   "metadata": {
    "collapsed": true
   },
   "outputs": [],
   "source": [
    "df_survey_click2 = d_survey.merge(d_click, how = 'left', right_on = ct, left_on = st)"
   ]
  },
  {
   "cell_type": "code",
   "execution_count": 28,
   "metadata": {
    "collapsed": false
   },
   "outputs": [
    {
     "data": {
      "text/plain": [
       "Index(['Timestamp', 'I am reading this article to',\n",
       "       'Prior to visiting this article', 'I am reading this article because',\n",
       "       'This is you survey ID. Please do not modify.'],\n",
       "      dtype='object')"
      ]
     },
     "execution_count": 28,
     "metadata": {},
     "output_type": "execute_result"
    }
   ],
   "source": [
    "d_survey.columns"
   ]
  },
  {
   "cell_type": "code",
   "execution_count": 29,
   "metadata": {
    "collapsed": false
   },
   "outputs": [
    {
     "data": {
      "text/html": [
       "<div>\n",
       "<table border=\"1\" class=\"dataframe\">\n",
       "  <thead>\n",
       "    <tr style=\"text-align: right;\">\n",
       "      <th></th>\n",
       "      <th>Google Token</th>\n",
       "      <th>Google Timestamp</th>\n",
       "      <th>EL Token</th>\n",
       "      <th>EL Timestamp</th>\n",
       "    </tr>\n",
       "  </thead>\n",
       "  <tbody>\n",
       "    <tr>\n",
       "      <th>0</th>\n",
       "      <td>80c690e7c9f8b978</td>\n",
       "      <td>2/16/2016 16:18:23</td>\n",
       "      <td>80c690e7c9f8b978</td>\n",
       "      <td>20160217001810</td>\n",
       "    </tr>\n",
       "    <tr>\n",
       "      <th>1</th>\n",
       "      <td>bde401cf1103db40</td>\n",
       "      <td>2/16/2016 17:38:51</td>\n",
       "      <td>bde401cf1103db40</td>\n",
       "      <td>20160217013758</td>\n",
       "    </tr>\n",
       "    <tr>\n",
       "      <th>2</th>\n",
       "      <td>afa0344c0ede6223</td>\n",
       "      <td>2/16/2016 18:36:57</td>\n",
       "      <td>NaN</td>\n",
       "      <td>NaN</td>\n",
       "    </tr>\n",
       "    <tr>\n",
       "      <th>3</th>\n",
       "      <td>9da0dde789db8849</td>\n",
       "      <td>2/16/2016 18:48:20</td>\n",
       "      <td>NaN</td>\n",
       "      <td>NaN</td>\n",
       "    </tr>\n",
       "    <tr>\n",
       "      <th>4</th>\n",
       "      <td>da4e80310a906a6b</td>\n",
       "      <td>2/16/2016 19:18:12</td>\n",
       "      <td>da4e80310a906a6b</td>\n",
       "      <td>20160217031757</td>\n",
       "    </tr>\n",
       "    <tr>\n",
       "      <th>5</th>\n",
       "      <td>9b28ed09b46edefd</td>\n",
       "      <td>2/16/2016 19:36:57</td>\n",
       "      <td>NaN</td>\n",
       "      <td>NaN</td>\n",
       "    </tr>\n",
       "    <tr>\n",
       "      <th>6</th>\n",
       "      <td>6a1a72ec4545391c</td>\n",
       "      <td>2/16/2016 20:45:31</td>\n",
       "      <td>NaN</td>\n",
       "      <td>NaN</td>\n",
       "    </tr>\n",
       "    <tr>\n",
       "      <th>7</th>\n",
       "      <td>d46936d2a424b39c</td>\n",
       "      <td>2/16/2016 21:38:41</td>\n",
       "      <td>NaN</td>\n",
       "      <td>NaN</td>\n",
       "    </tr>\n",
       "    <tr>\n",
       "      <th>8</th>\n",
       "      <td>f9c14b602f76c17c</td>\n",
       "      <td>2/16/2016 21:38:43</td>\n",
       "      <td>f9c14b602f76c17c</td>\n",
       "      <td>20160217053758</td>\n",
       "    </tr>\n",
       "    <tr>\n",
       "      <th>9</th>\n",
       "      <td>943a5aa00b6cc088</td>\n",
       "      <td>2/17/2016 0:23:09</td>\n",
       "      <td>943a5aa00b6cc088</td>\n",
       "      <td>20160217082213</td>\n",
       "    </tr>\n",
       "    <tr>\n",
       "      <th>15</th>\n",
       "      <td>63ed96796e2e689f</td>\n",
       "      <td>2/17/2016 10:14:17</td>\n",
       "      <td>63ed96796e2e689f</td>\n",
       "      <td>20160217181236</td>\n",
       "    </tr>\n",
       "    <tr>\n",
       "      <th>16</th>\n",
       "      <td>f0860b9c35fb3f83</td>\n",
       "      <td>2/17/2016 10:20:48</td>\n",
       "      <td>f0860b9c35fb3f83</td>\n",
       "      <td>20160217181751</td>\n",
       "    </tr>\n",
       "    <tr>\n",
       "      <th>17</th>\n",
       "      <td>5255e1e00e553454</td>\n",
       "      <td>2/17/2016 12:42:01</td>\n",
       "      <td>5255e1e00e553454</td>\n",
       "      <td>20160217204138</td>\n",
       "    </tr>\n",
       "    <tr>\n",
       "      <th>18</th>\n",
       "      <td>76864cd343363d18</td>\n",
       "      <td>2/17/2016 14:02:09</td>\n",
       "      <td>NaN</td>\n",
       "      <td>NaN</td>\n",
       "    </tr>\n",
       "    <tr>\n",
       "      <th>19</th>\n",
       "      <td>61ec276ec64d8650</td>\n",
       "      <td>2/17/2016 14:21:10</td>\n",
       "      <td>61ec276ec64d8650</td>\n",
       "      <td>20160217222026</td>\n",
       "    </tr>\n",
       "    <tr>\n",
       "      <th>20</th>\n",
       "      <td>afc2559d1fc7e9b3</td>\n",
       "      <td>2/17/2016 16:16:33</td>\n",
       "      <td>afc2559d1fc7e9b3</td>\n",
       "      <td>20160218001532</td>\n",
       "    </tr>\n",
       "    <tr>\n",
       "      <th>21</th>\n",
       "      <td>33880eba62945cbf</td>\n",
       "      <td>2/17/2016 16:22:06</td>\n",
       "      <td>33880eba62945cbf</td>\n",
       "      <td>20160218002034</td>\n",
       "    </tr>\n",
       "    <tr>\n",
       "      <th>22</th>\n",
       "      <td>378694425b3baa43</td>\n",
       "      <td>2/17/2016 16:46:54</td>\n",
       "      <td>NaN</td>\n",
       "      <td>NaN</td>\n",
       "    </tr>\n",
       "    <tr>\n",
       "      <th>23</th>\n",
       "      <td>8449b3492977ebcc</td>\n",
       "      <td>2/17/2016 17:08:56</td>\n",
       "      <td>NaN</td>\n",
       "      <td>NaN</td>\n",
       "    </tr>\n",
       "    <tr>\n",
       "      <th>24</th>\n",
       "      <td>9b9e7c6fcbbdcf3f</td>\n",
       "      <td>2/17/2016 17:30:04</td>\n",
       "      <td>9b9e7c6fcbbdcf3f</td>\n",
       "      <td>20160218012831</td>\n",
       "    </tr>\n",
       "    <tr>\n",
       "      <th>10</th>\n",
       "      <td>d2ffd71c2cc1ccba</td>\n",
       "      <td>2/17/2016 1:16:55</td>\n",
       "      <td>d2ffd71c2cc1ccba</td>\n",
       "      <td>20160217091629</td>\n",
       "    </tr>\n",
       "    <tr>\n",
       "      <th>11</th>\n",
       "      <td>ce8a289a4abfd6b7</td>\n",
       "      <td>2/17/2016 5:02:05</td>\n",
       "      <td>NaN</td>\n",
       "      <td>NaN</td>\n",
       "    </tr>\n",
       "    <tr>\n",
       "      <th>12</th>\n",
       "      <td>375d8bfd8a1d5077</td>\n",
       "      <td>2/17/2016 7:27:37</td>\n",
       "      <td>375d8bfd8a1d5077</td>\n",
       "      <td>20160217152654</td>\n",
       "    </tr>\n",
       "    <tr>\n",
       "      <th>13</th>\n",
       "      <td>05303cf06903e7eb</td>\n",
       "      <td>2/17/2016 7:45:56</td>\n",
       "      <td>05303cf06903e7eb</td>\n",
       "      <td>20160217154123</td>\n",
       "    </tr>\n",
       "    <tr>\n",
       "      <th>14</th>\n",
       "      <td>70c3fe770257ddbc</td>\n",
       "      <td>2/17/2016 9:11:32</td>\n",
       "      <td>70c3fe770257ddbc</td>\n",
       "      <td>20160217171025</td>\n",
       "    </tr>\n",
       "    <tr>\n",
       "      <th>25</th>\n",
       "      <td>b5217d360d9fbee0</td>\n",
       "      <td>2/18/2016 0:01:08</td>\n",
       "      <td>b5217d360d9fbee0</td>\n",
       "      <td>20160218080018</td>\n",
       "    </tr>\n",
       "    <tr>\n",
       "      <th>32</th>\n",
       "      <td>2f6f368624c3c5b2</td>\n",
       "      <td>2/18/2016 12:14:54</td>\n",
       "      <td>2f6f368624c3c5b2</td>\n",
       "      <td>20160218201432</td>\n",
       "    </tr>\n",
       "    <tr>\n",
       "      <th>33</th>\n",
       "      <td>c7ffad6dcdfcbd74</td>\n",
       "      <td>2/18/2016 14:06:09</td>\n",
       "      <td>c7ffad6dcdfcbd74</td>\n",
       "      <td>20160218220426</td>\n",
       "    </tr>\n",
       "    <tr>\n",
       "      <th>34</th>\n",
       "      <td>22ac6b177d60ef7b</td>\n",
       "      <td>2/18/2016 15:15:25</td>\n",
       "      <td>22ac6b177d60ef7b</td>\n",
       "      <td>20160218231406</td>\n",
       "    </tr>\n",
       "    <tr>\n",
       "      <th>35</th>\n",
       "      <td>e8b370a721e171b2</td>\n",
       "      <td>2/18/2016 15:32:46</td>\n",
       "      <td>NaN</td>\n",
       "      <td>NaN</td>\n",
       "    </tr>\n",
       "    <tr>\n",
       "      <th>...</th>\n",
       "      <td>...</td>\n",
       "      <td>...</td>\n",
       "      <td>...</td>\n",
       "      <td>...</td>\n",
       "    </tr>\n",
       "    <tr>\n",
       "      <th>46</th>\n",
       "      <td>280408f8b30ce033</td>\n",
       "      <td>2/19/2016 6:45:36</td>\n",
       "      <td>NaN</td>\n",
       "      <td>NaN</td>\n",
       "    </tr>\n",
       "    <tr>\n",
       "      <th>47</th>\n",
       "      <td>1fc20c00a41f3a7b</td>\n",
       "      <td>2/19/2016 8:28:10</td>\n",
       "      <td>NaN</td>\n",
       "      <td>NaN</td>\n",
       "    </tr>\n",
       "    <tr>\n",
       "      <th>48</th>\n",
       "      <td>35e2482998d6c26a</td>\n",
       "      <td>2/19/2016 9:29:31</td>\n",
       "      <td>35e2482998d6c26a</td>\n",
       "      <td>20160219172851</td>\n",
       "    </tr>\n",
       "    <tr>\n",
       "      <th>57</th>\n",
       "      <td>f43ea79da2bd7469</td>\n",
       "      <td>2/20/2016 10:33:20</td>\n",
       "      <td>f43ea79da2bd7469</td>\n",
       "      <td>20160220183037</td>\n",
       "    </tr>\n",
       "    <tr>\n",
       "      <th>58</th>\n",
       "      <td>4a44dd0e5a70894e</td>\n",
       "      <td>2/20/2016 10:58:00</td>\n",
       "      <td>4a44dd0e5a70894e</td>\n",
       "      <td>20160220185720</td>\n",
       "    </tr>\n",
       "    <tr>\n",
       "      <th>59</th>\n",
       "      <td>0fe17bd78feb1d77</td>\n",
       "      <td>2/20/2016 12:24:27</td>\n",
       "      <td>0fe17bd78feb1d77</td>\n",
       "      <td>20160220202342</td>\n",
       "    </tr>\n",
       "    <tr>\n",
       "      <th>60</th>\n",
       "      <td>7dfb25ff23ba4c11</td>\n",
       "      <td>2/20/2016 14:27:58</td>\n",
       "      <td>7dfb25ff23ba4c11</td>\n",
       "      <td>20160220222542</td>\n",
       "    </tr>\n",
       "    <tr>\n",
       "      <th>61</th>\n",
       "      <td>5d188dfcb62d4206</td>\n",
       "      <td>2/20/2016 15:53:31</td>\n",
       "      <td>5d188dfcb62d4206</td>\n",
       "      <td>20160220235220</td>\n",
       "    </tr>\n",
       "    <tr>\n",
       "      <th>62</th>\n",
       "      <td>396317a039d3801b</td>\n",
       "      <td>2/20/2016 16:39:44</td>\n",
       "      <td>396317a039d3801b</td>\n",
       "      <td>20160221003902</td>\n",
       "    </tr>\n",
       "    <tr>\n",
       "      <th>63</th>\n",
       "      <td>8bb12c5f53956053</td>\n",
       "      <td>2/20/2016 19:44:53</td>\n",
       "      <td>8bb12c5f53956053</td>\n",
       "      <td>20160221034414</td>\n",
       "    </tr>\n",
       "    <tr>\n",
       "      <th>54</th>\n",
       "      <td>3deee82030264538</td>\n",
       "      <td>2/20/2016 1:38:15</td>\n",
       "      <td>3deee82030264538</td>\n",
       "      <td>20160220093741</td>\n",
       "    </tr>\n",
       "    <tr>\n",
       "      <th>55</th>\n",
       "      <td>d083ca984d8636d8</td>\n",
       "      <td>2/20/2016 1:43:24</td>\n",
       "      <td>d083ca984d8636d8</td>\n",
       "      <td>20160220093930</td>\n",
       "    </tr>\n",
       "    <tr>\n",
       "      <th>64</th>\n",
       "      <td>23b9757d8fa2bbf3</td>\n",
       "      <td>2/20/2016 23:16:04</td>\n",
       "      <td>NaN</td>\n",
       "      <td>NaN</td>\n",
       "    </tr>\n",
       "    <tr>\n",
       "      <th>56</th>\n",
       "      <td>4ce87bcaf7107141</td>\n",
       "      <td>2/20/2016 8:05:58</td>\n",
       "      <td>4ce87bcaf7107141</td>\n",
       "      <td>20160220160437</td>\n",
       "    </tr>\n",
       "    <tr>\n",
       "      <th>65</th>\n",
       "      <td>101d7e7fa784067a</td>\n",
       "      <td>2/21/2016 0:52:52</td>\n",
       "      <td>101d7e7fa784067a</td>\n",
       "      <td>20160221085221</td>\n",
       "    </tr>\n",
       "    <tr>\n",
       "      <th>70</th>\n",
       "      <td>a1b3954cf39cc1b2</td>\n",
       "      <td>2/21/2016 11:25:54</td>\n",
       "      <td>NaN</td>\n",
       "      <td>NaN</td>\n",
       "    </tr>\n",
       "    <tr>\n",
       "      <th>71</th>\n",
       "      <td>1b5f6355babfc8bd</td>\n",
       "      <td>2/21/2016 12:20:47</td>\n",
       "      <td>NaN</td>\n",
       "      <td>NaN</td>\n",
       "    </tr>\n",
       "    <tr>\n",
       "      <th>72</th>\n",
       "      <td>d9c826295848fb8b</td>\n",
       "      <td>2/21/2016 13:51:27</td>\n",
       "      <td>d9c826295848fb8b</td>\n",
       "      <td>20160221214917</td>\n",
       "    </tr>\n",
       "    <tr>\n",
       "      <th>73</th>\n",
       "      <td>1b3f935582cceb29</td>\n",
       "      <td>2/21/2016 16:15:37</td>\n",
       "      <td>1b3f935582cceb29</td>\n",
       "      <td>20160222001441</td>\n",
       "    </tr>\n",
       "    <tr>\n",
       "      <th>74</th>\n",
       "      <td>ecccac7281607855</td>\n",
       "      <td>2/21/2016 17:10:59</td>\n",
       "      <td>ecccac7281607855</td>\n",
       "      <td>20160222011004</td>\n",
       "    </tr>\n",
       "    <tr>\n",
       "      <th>75</th>\n",
       "      <td>79d19a8e905d296d</td>\n",
       "      <td>2/21/2016 21:32:01</td>\n",
       "      <td>79d19a8e905d296d</td>\n",
       "      <td>20160222052926</td>\n",
       "    </tr>\n",
       "    <tr>\n",
       "      <th>76</th>\n",
       "      <td>b18a401a4f02ffae</td>\n",
       "      <td>2/21/2016 23:34:51</td>\n",
       "      <td>b18a401a4f02ffae</td>\n",
       "      <td>20160222073232</td>\n",
       "    </tr>\n",
       "    <tr>\n",
       "      <th>66</th>\n",
       "      <td>28ca596e8759f295</td>\n",
       "      <td>2/21/2016 3:57:47</td>\n",
       "      <td>28ca596e8759f295</td>\n",
       "      <td>20160221115727</td>\n",
       "    </tr>\n",
       "    <tr>\n",
       "      <th>67</th>\n",
       "      <td>33e0d900163bafce</td>\n",
       "      <td>2/21/2016 5:47:33</td>\n",
       "      <td>33e0d900163bafce</td>\n",
       "      <td>20160221134608</td>\n",
       "    </tr>\n",
       "    <tr>\n",
       "      <th>68</th>\n",
       "      <td>a3589bd89f4b5d78</td>\n",
       "      <td>2/21/2016 9:23:53</td>\n",
       "      <td>NaN</td>\n",
       "      <td>NaN</td>\n",
       "    </tr>\n",
       "    <tr>\n",
       "      <th>69</th>\n",
       "      <td>d152803d9684c945</td>\n",
       "      <td>2/21/2016 9:30:46</td>\n",
       "      <td>d152803d9684c945</td>\n",
       "      <td>20160221172951</td>\n",
       "    </tr>\n",
       "    <tr>\n",
       "      <th>77</th>\n",
       "      <td>77ec42fa6f7e6f27</td>\n",
       "      <td>2/22/2016 0:27:14</td>\n",
       "      <td>77ec42fa6f7e6f27</td>\n",
       "      <td>20160222082610</td>\n",
       "    </tr>\n",
       "    <tr>\n",
       "      <th>78</th>\n",
       "      <td>3864b75d1b1e2753</td>\n",
       "      <td>2/22/2016 0:59:27</td>\n",
       "      <td>3864b75d1b1e2753</td>\n",
       "      <td>20160222085829</td>\n",
       "    </tr>\n",
       "    <tr>\n",
       "      <th>79</th>\n",
       "      <td>786451d53a170fc1</td>\n",
       "      <td>2/22/2016 2:28:35</td>\n",
       "      <td>786451d53a170fc1</td>\n",
       "      <td>20160222102817</td>\n",
       "    </tr>\n",
       "    <tr>\n",
       "      <th>80</th>\n",
       "      <td>946ee411d507d767</td>\n",
       "      <td>2/22/2016 3:03:43</td>\n",
       "      <td>946ee411d507d767</td>\n",
       "      <td>20160222110135</td>\n",
       "    </tr>\n",
       "  </tbody>\n",
       "</table>\n",
       "<p>81 rows × 4 columns</p>\n",
       "</div>"
      ],
      "text/plain": [
       "        Google Token    Google Timestamp          EL Token    EL Timestamp\n",
       "0   80c690e7c9f8b978  2/16/2016 16:18:23  80c690e7c9f8b978  20160217001810\n",
       "1   bde401cf1103db40  2/16/2016 17:38:51  bde401cf1103db40  20160217013758\n",
       "2   afa0344c0ede6223  2/16/2016 18:36:57               NaN             NaN\n",
       "3   9da0dde789db8849  2/16/2016 18:48:20               NaN             NaN\n",
       "4   da4e80310a906a6b  2/16/2016 19:18:12  da4e80310a906a6b  20160217031757\n",
       "5   9b28ed09b46edefd  2/16/2016 19:36:57               NaN             NaN\n",
       "6   6a1a72ec4545391c  2/16/2016 20:45:31               NaN             NaN\n",
       "7   d46936d2a424b39c  2/16/2016 21:38:41               NaN             NaN\n",
       "8   f9c14b602f76c17c  2/16/2016 21:38:43  f9c14b602f76c17c  20160217053758\n",
       "9   943a5aa00b6cc088   2/17/2016 0:23:09  943a5aa00b6cc088  20160217082213\n",
       "15  63ed96796e2e689f  2/17/2016 10:14:17  63ed96796e2e689f  20160217181236\n",
       "16  f0860b9c35fb3f83  2/17/2016 10:20:48  f0860b9c35fb3f83  20160217181751\n",
       "17  5255e1e00e553454  2/17/2016 12:42:01  5255e1e00e553454  20160217204138\n",
       "18  76864cd343363d18  2/17/2016 14:02:09               NaN             NaN\n",
       "19  61ec276ec64d8650  2/17/2016 14:21:10  61ec276ec64d8650  20160217222026\n",
       "20  afc2559d1fc7e9b3  2/17/2016 16:16:33  afc2559d1fc7e9b3  20160218001532\n",
       "21  33880eba62945cbf  2/17/2016 16:22:06  33880eba62945cbf  20160218002034\n",
       "22  378694425b3baa43  2/17/2016 16:46:54               NaN             NaN\n",
       "23  8449b3492977ebcc  2/17/2016 17:08:56               NaN             NaN\n",
       "24  9b9e7c6fcbbdcf3f  2/17/2016 17:30:04  9b9e7c6fcbbdcf3f  20160218012831\n",
       "10  d2ffd71c2cc1ccba   2/17/2016 1:16:55  d2ffd71c2cc1ccba  20160217091629\n",
       "11  ce8a289a4abfd6b7   2/17/2016 5:02:05               NaN             NaN\n",
       "12  375d8bfd8a1d5077   2/17/2016 7:27:37  375d8bfd8a1d5077  20160217152654\n",
       "13  05303cf06903e7eb   2/17/2016 7:45:56  05303cf06903e7eb  20160217154123\n",
       "14  70c3fe770257ddbc   2/17/2016 9:11:32  70c3fe770257ddbc  20160217171025\n",
       "25  b5217d360d9fbee0   2/18/2016 0:01:08  b5217d360d9fbee0  20160218080018\n",
       "32  2f6f368624c3c5b2  2/18/2016 12:14:54  2f6f368624c3c5b2  20160218201432\n",
       "33  c7ffad6dcdfcbd74  2/18/2016 14:06:09  c7ffad6dcdfcbd74  20160218220426\n",
       "34  22ac6b177d60ef7b  2/18/2016 15:15:25  22ac6b177d60ef7b  20160218231406\n",
       "35  e8b370a721e171b2  2/18/2016 15:32:46               NaN             NaN\n",
       "..               ...                 ...               ...             ...\n",
       "46  280408f8b30ce033   2/19/2016 6:45:36               NaN             NaN\n",
       "47  1fc20c00a41f3a7b   2/19/2016 8:28:10               NaN             NaN\n",
       "48  35e2482998d6c26a   2/19/2016 9:29:31  35e2482998d6c26a  20160219172851\n",
       "57  f43ea79da2bd7469  2/20/2016 10:33:20  f43ea79da2bd7469  20160220183037\n",
       "58  4a44dd0e5a70894e  2/20/2016 10:58:00  4a44dd0e5a70894e  20160220185720\n",
       "59  0fe17bd78feb1d77  2/20/2016 12:24:27  0fe17bd78feb1d77  20160220202342\n",
       "60  7dfb25ff23ba4c11  2/20/2016 14:27:58  7dfb25ff23ba4c11  20160220222542\n",
       "61  5d188dfcb62d4206  2/20/2016 15:53:31  5d188dfcb62d4206  20160220235220\n",
       "62  396317a039d3801b  2/20/2016 16:39:44  396317a039d3801b  20160221003902\n",
       "63  8bb12c5f53956053  2/20/2016 19:44:53  8bb12c5f53956053  20160221034414\n",
       "54  3deee82030264538   2/20/2016 1:38:15  3deee82030264538  20160220093741\n",
       "55  d083ca984d8636d8   2/20/2016 1:43:24  d083ca984d8636d8  20160220093930\n",
       "64  23b9757d8fa2bbf3  2/20/2016 23:16:04               NaN             NaN\n",
       "56  4ce87bcaf7107141   2/20/2016 8:05:58  4ce87bcaf7107141  20160220160437\n",
       "65  101d7e7fa784067a   2/21/2016 0:52:52  101d7e7fa784067a  20160221085221\n",
       "70  a1b3954cf39cc1b2  2/21/2016 11:25:54               NaN             NaN\n",
       "71  1b5f6355babfc8bd  2/21/2016 12:20:47               NaN             NaN\n",
       "72  d9c826295848fb8b  2/21/2016 13:51:27  d9c826295848fb8b  20160221214917\n",
       "73  1b3f935582cceb29  2/21/2016 16:15:37  1b3f935582cceb29  20160222001441\n",
       "74  ecccac7281607855  2/21/2016 17:10:59  ecccac7281607855  20160222011004\n",
       "75  79d19a8e905d296d  2/21/2016 21:32:01  79d19a8e905d296d  20160222052926\n",
       "76  b18a401a4f02ffae  2/21/2016 23:34:51  b18a401a4f02ffae  20160222073232\n",
       "66  28ca596e8759f295   2/21/2016 3:57:47  28ca596e8759f295  20160221115727\n",
       "67  33e0d900163bafce   2/21/2016 5:47:33  33e0d900163bafce  20160221134608\n",
       "68  a3589bd89f4b5d78   2/21/2016 9:23:53               NaN             NaN\n",
       "69  d152803d9684c945   2/21/2016 9:30:46  d152803d9684c945  20160221172951\n",
       "77  77ec42fa6f7e6f27   2/22/2016 0:27:14  77ec42fa6f7e6f27  20160222082610\n",
       "78  3864b75d1b1e2753   2/22/2016 0:59:27  3864b75d1b1e2753  20160222085829\n",
       "79  786451d53a170fc1   2/22/2016 2:28:35  786451d53a170fc1  20160222102817\n",
       "80  946ee411d507d767   2/22/2016 3:03:43  946ee411d507d767  20160222110135\n",
       "\n",
       "[81 rows x 4 columns]"
      ]
     },
     "execution_count": 29,
     "metadata": {},
     "output_type": "execute_result"
    }
   ],
   "source": [
    "df_survey_click2 = df_survey_click2[[st,'Timestamp', ct, 'timestamp']].sort('Timestamp')\n",
    "df_survey_click2.columns = ['Google Token', 'Google Timestamp', 'EL Token', 'EL Timestamp']\n",
    "df_survey_click2"
   ]
  },
  {
   "cell_type": "code",
   "execution_count": 122,
   "metadata": {
    "collapsed": false
   },
   "outputs": [
    {
     "data": {
      "text/plain": [
       "0     16\n",
       "1     16\n",
       "2     16\n",
       "3     16\n",
       "4     16\n",
       "5     16\n",
       "6     16\n",
       "7     16\n",
       "8     16\n",
       "9     16\n",
       "15    16\n",
       "16    16\n",
       "17    16\n",
       "18    16\n",
       "19    16\n",
       "20    16\n",
       "21    16\n",
       "22    16\n",
       "23    16\n",
       "24    16\n",
       "10    16\n",
       "11    16\n",
       "12    16\n",
       "13    16\n",
       "14    16\n",
       "25    16\n",
       "32    16\n",
       "26    16\n",
       "27    16\n",
       "28    16\n",
       "29    16\n",
       "30    16\n",
       "31    16\n",
       "Name: Google Token, dtype: int64"
      ]
     },
     "execution_count": 122,
     "metadata": {},
     "output_type": "execute_result"
    }
   ],
   "source": [
    "df_survey_click2['Google Token'].apply(len)"
   ]
  },
  {
   "cell_type": "markdown",
   "metadata": {},
   "source": [
    "No obvious pattern..."
   ]
  },
  {
   "cell_type": "markdown",
   "metadata": {},
   "source": [
    "### Are surveySessionToken tokens unique per IP"
   ]
  },
  {
   "cell_type": "code",
   "execution_count": 30,
   "metadata": {
    "collapsed": false
   },
   "outputs": [
    {
     "name": "stdout",
     "output_type": "stream",
     "text": [
      "14850\n"
     ]
    }
   ],
   "source": [
    "query = \"\"\"\n",
    "SELECT\n",
    "    COUNT(DISTINCT(clientIP)) as n\n",
    "FROM log.QuickSurveyInitiation_15278946\n",
    "\"\"\"\n",
    "nIPs = query_analytics_store( query, {}).iloc[0]['n']\n",
    "print(nIPs)"
   ]
  },
  {
   "cell_type": "code",
   "execution_count": 31,
   "metadata": {
    "collapsed": false
   },
   "outputs": [
    {
     "name": "stdout",
     "output_type": "stream",
     "text": [
      "15132\n"
     ]
    }
   ],
   "source": [
    "query = \"\"\"\n",
    "SELECT\n",
    "    COUNT(DISTINCT(CONCAT(clientIP, userAgent))) as n\n",
    "FROM log.QuickSurveyInitiation_15278946\n",
    "\"\"\"\n",
    "nIPUAs = query_analytics_store( query, {}).iloc[0]['n']\n",
    "print(nIPUAs)"
   ]
  },
  {
   "cell_type": "code",
   "execution_count": 32,
   "metadata": {
    "collapsed": false
   },
   "outputs": [
    {
     "name": "stdout",
     "output_type": "stream",
     "text": [
      "17786\n"
     ]
    }
   ],
   "source": [
    "query = \"\"\"\n",
    "SELECT\n",
    "    COUNT(DISTINCT(event_surveySessionToken)) as n\n",
    "FROM log.QuickSurveyInitiation_15278946\n",
    "\"\"\"\n",
    "sessiontokens = query_analytics_store( query, {}).iloc[0]['n']\n",
    "print(sessiontokens)"
   ]
  },
  {
   "cell_type": "code",
   "execution_count": null,
   "metadata": {
    "collapsed": true
   },
   "outputs": [],
   "source": []
  }
 ],
 "metadata": {
  "kernelspec": {
   "display_name": "Python 3",
   "language": "python",
   "name": "python3"
  },
  "language_info": {
   "codemirror_mode": {
    "name": "ipython",
    "version": 3
   },
   "file_extension": ".py",
   "mimetype": "text/x-python",
   "name": "python",
   "nbconvert_exporter": "python",
   "pygments_lexer": "ipython3",
   "version": "3.5.1"
  }
 },
 "nbformat": 4,
 "nbformat_minor": 0
}
