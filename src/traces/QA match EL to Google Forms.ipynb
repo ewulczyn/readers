{
 "cells": [
  {
   "cell_type": "code",
   "execution_count": 75,
   "metadata": {
    "collapsed": false
   },
   "outputs": [
    {
     "name": "stdout",
     "output_type": "stream",
     "text": [
      "The autoreload extension is already loaded. To reload it, use:\n",
      "  %reload_ext autoreload\n"
     ]
    }
   ],
   "source": [
    "%load_ext autoreload\n",
    "%autoreload 2\n",
    "%matplotlib inline\n",
    "import warnings\n",
    "warnings.filterwarnings('ignore')\n",
    "import pandas as pd\n",
    "from db_utils import query_analytics_store,query_hive_ssh\n",
    "import dateutil"
   ]
  },
  {
   "cell_type": "markdown",
   "metadata": {},
   "source": [
    "- [QuickSurveysResponses_15266417](https://meta.wikimedia.org/wiki/Schema:QuickSurveysResponses)\n",
    "- [QuickSurveyInitiation_15278946](https://meta.wikimedia.org/wiki/Schema:QuickSurveyInitiation)\n",
    "- [Survey](https://docs.google.com/spreadsheets/d/1JD8-knLmnFXVwXxJYx6w9RRmxZWasSLaSKvj85SgrzE/edit?ts=56c3ccd2#gid=1291145097)"
   ]
  },
  {
   "cell_type": "code",
   "execution_count": 23,
   "metadata": {
    "collapsed": true
   },
   "outputs": [],
   "source": [
    "response_table = 'log.QuickSurveysResponses_15266417'\n",
    "impression_table = 'log.QuickSurveyInitiation_15278946'\n",
    "host = 'analytics-store.eqiad.wmnet'"
   ]
  },
  {
   "cell_type": "markdown",
   "metadata": {},
   "source": [
    "### EL Summary Stats"
   ]
  },
  {
   "cell_type": "code",
   "execution_count": 24,
   "metadata": {
    "collapsed": false
   },
   "outputs": [
    {
     "name": "stdout",
     "output_type": "stream",
     "text": [
      "Eligible Pageviews:  86493\n",
      "Widget Impressions:  68081\n",
      "Clicks:  843\n",
      "Yeses:  238\n",
      "Nos:  605\n"
     ]
    }
   ],
   "source": [
    "query = \"\"\"\n",
    "SELECT\n",
    "    COUNT(*) as n\n",
    "FROM log.QuickSurveyInitiation_15278946\n",
    "WHERE\n",
    "    event_eventName ='eligible'\n",
    "\"\"\"\n",
    "\n",
    "n_eligible = query_analytics_store(query, {}).iloc[0]['n']\n",
    "\n",
    "query = \"\"\"\n",
    "SELECT\n",
    "    COUNT(*) as n\n",
    "FROM log.QuickSurveyInitiation_15278946\n",
    "WHERE\n",
    "    event_eventName ='impression'\n",
    "\"\"\"\n",
    "\n",
    "n_impressions = query_analytics_store(query, {}).iloc[0]['n']\n",
    "\n",
    "query = \"\"\"\n",
    "SELECT\n",
    "    COUNT(*) as n\n",
    "FROM log.QuickSurveysResponses_15266417\n",
    "\"\"\"\n",
    "n_responses = query_analytics_store(query, {}).iloc[0]['n']\n",
    "\n",
    "query = \"\"\"\n",
    "SELECT\n",
    "    COUNT(*) as n\n",
    "FROM log.QuickSurveysResponses_15266417\n",
    "WHERE\n",
    "    event_surveyResponseValue ='ext-quicksurveys-external-survey-yes-button'\n",
    "\"\"\"\n",
    "n_yes = query_analytics_store( query, {}).iloc[0]['n']\n",
    "\n",
    "query = \"\"\"\n",
    "SELECT\n",
    "    COUNT(*) as n\n",
    "FROM log.QuickSurveysResponses_15266417\n",
    "WHERE\n",
    "    event_surveyResponseValue ='ext-quicksurveys-external-survey-no-button'\n",
    "\"\"\"\n",
    "n_no = query_analytics_store( query, {}).iloc[0]['n']\n",
    "\n",
    "\n",
    "\n",
    "print('Eligible Pageviews: ', n_eligible)\n",
    "print('Widget Impressions: ', n_impressions)\n",
    "print('Clicks: ', n_responses)\n",
    "print('Yeses: ', n_yes)\n",
    "print('Nos: ', n_no)"
   ]
  },
  {
   "cell_type": "markdown",
   "metadata": {},
   "source": [
    "### Does each eligible pageview have a unique survey token?"
   ]
  },
  {
   "cell_type": "code",
   "execution_count": 25,
   "metadata": {
    "collapsed": false
   },
   "outputs": [
    {
     "name": "stdout",
     "output_type": "stream",
     "text": [
      "86481\n"
     ]
    }
   ],
   "source": [
    "query = \"\"\"\n",
    "SELECT COUNT(DISTINCT(event_surveyInstanceToken)) as n\n",
    "FROM log.QuickSurveyInitiation_15278946\n",
    "WHERE event_eventName ='eligible'\n",
    "\"\"\"\n",
    "print(query_analytics_store(query, {}).iloc[0]['n'])"
   ]
  },
  {
   "cell_type": "markdown",
   "metadata": {},
   "source": [
    "Pretty Close"
   ]
  },
  {
   "cell_type": "markdown",
   "metadata": {},
   "source": [
    "### Does each widget impression have a unique survey token?"
   ]
  },
  {
   "cell_type": "code",
   "execution_count": 26,
   "metadata": {
    "collapsed": false
   },
   "outputs": [
    {
     "name": "stdout",
     "output_type": "stream",
     "text": [
      "68065\n"
     ]
    }
   ],
   "source": [
    "query = \"\"\"\n",
    "SELECT COUNT(DISTINCT(event_surveyInstanceToken)) as n\n",
    "FROM log.QuickSurveyInitiation_15278946\n",
    "WHERE event_eventName ='impression'\n",
    "\"\"\"\n",
    "print(query_analytics_store(query, {}).iloc[0]['n'])"
   ]
  },
  {
   "cell_type": "markdown",
   "metadata": {},
   "source": [
    "Pretty Close."
   ]
  },
  {
   "cell_type": "markdown",
   "metadata": {},
   "source": [
    "### Does each Widget Impression have a matching Pageview?"
   ]
  },
  {
   "cell_type": "code",
   "execution_count": 27,
   "metadata": {
    "collapsed": false
   },
   "outputs": [
    {
     "name": "stdout",
     "output_type": "stream",
     "text": [
      "68013\n"
     ]
    }
   ],
   "source": [
    "query = \"\"\"\n",
    "SELECT\n",
    "    COUNT(DISTINCT(i.event_surveyInstanceToken)) as n\n",
    "FROM\n",
    "    (SELECT event_surveyInstanceToken\n",
    "    FROM log.QuickSurveyInitiation_15278946\n",
    "    WHERE\n",
    "    event_eventName ='impression') i\n",
    "JOIN\n",
    "    (SELECT event_surveyInstanceToken\n",
    "    FROM log.QuickSurveyInitiation_15278946\n",
    "    WHERE\n",
    "    event_eventName ='eligible') e\n",
    "ON\n",
    "    (i.event_surveyInstanceToken = e.event_surveyInstanceToken)\n",
    "\"\"\"\n",
    "\n",
    "df = query_analytics_store(query, {})\n",
    "print(df.iloc[0]['n'])"
   ]
  },
  {
   "cell_type": "markdown",
   "metadata": {},
   "source": [
    "Close. It seems there are a small number of impressions without a matching pageview."
   ]
  },
  {
   "cell_type": "markdown",
   "metadata": {},
   "source": [
    "### Does each click have a matching Widget Impression?"
   ]
  },
  {
   "cell_type": "code",
   "execution_count": 28,
   "metadata": {
    "collapsed": false
   },
   "outputs": [
    {
     "name": "stdout",
     "output_type": "stream",
     "text": [
      "838 838\n"
     ]
    }
   ],
   "source": [
    "query = \"\"\"\n",
    "SELECT *\n",
    "FROM\n",
    "    log.QuickSurveysResponses_15266417 r,\n",
    "    log.QuickSurveyInitiation_15278946 i\n",
    "WHERE\n",
    "    r.event_surveyInstanceToken = i.event_surveyInstanceToken\n",
    "    AND i.event_eventName ='impression'\n",
    "\"\"\" \n",
    "\n",
    "d_click = query_analytics_store( query, {})\n",
    "print(d_click.shape[0], len(set(d_click['event_surveyInstanceToken'])))"
   ]
  },
  {
   "cell_type": "markdown",
   "metadata": {
    "collapsed": true
   },
   "source": [
    "Each click has exactly one widget impression. One click without a matching rendered widget"
   ]
  },
  {
   "cell_type": "markdown",
   "metadata": {},
   "source": [
    "### Does each Google Survey Response have a registered click"
   ]
  },
  {
   "cell_type": "code",
   "execution_count": 43,
   "metadata": {
    "collapsed": false
   },
   "outputs": [],
   "source": [
    "d_survey = pd.read_csv('responses.tsv', sep = '\\t')\n",
    "st = 'This is you survey ID. Please do not modify.'\n",
    "ct = 'event_surveyInstanceToken'\n",
    "df_survey_click = d_survey.merge(d_click, how = 'inner', right_on = ct, left_on = st)"
   ]
  },
  {
   "cell_type": "code",
   "execution_count": 44,
   "metadata": {
    "collapsed": false
   },
   "outputs": [
    {
     "name": "stdout",
     "output_type": "stream",
     "text": [
      "139\n"
     ]
    }
   ],
   "source": [
    "print(df_survey_click.shape[0])"
   ]
  },
  {
   "cell_type": "code",
   "execution_count": 45,
   "metadata": {
    "collapsed": false
   },
   "outputs": [
    {
     "name": "stdout",
     "output_type": "stream",
     "text": [
      "179\n"
     ]
    }
   ],
   "source": [
    "print(d_survey.shape[0])"
   ]
  },
  {
   "cell_type": "markdown",
   "metadata": {},
   "source": [
    "### Does each Google Survey Response have a registered click when Survey was not shown to DNT users"
   ]
  },
  {
   "cell_type": "code",
   "execution_count": 46,
   "metadata": {
    "collapsed": false
   },
   "outputs": [],
   "source": [
    "d_survey['Timestamp'] = d_survey['Timestamp'].apply(lambda x: dateutil.parser.parse(x))"
   ]
  },
  {
   "cell_type": "code",
   "execution_count": 54,
   "metadata": {
    "collapsed": false
   },
   "outputs": [],
   "source": [
    "df_survey_click['Timestamp'] = df_survey_click['Timestamp'].apply(lambda x: dateutil.parser.parse(x))"
   ]
  },
  {
   "cell_type": "code",
   "execution_count": 55,
   "metadata": {
    "collapsed": false
   },
   "outputs": [
    {
     "data": {
      "text/plain": [
       "(36, 5)"
      ]
     },
     "execution_count": 55,
     "metadata": {},
     "output_type": "execute_result"
    }
   ],
   "source": [
    "d_survey[d_survey['Timestamp'] > '2016-02-25 16:20'][d_survey['Timestamp'] < '2016-02-25 17:10'].shape #12:20 1:08"
   ]
  },
  {
   "cell_type": "code",
   "execution_count": 57,
   "metadata": {
    "collapsed": false
   },
   "outputs": [
    {
     "data": {
      "text/plain": [
       "(33, 38)"
      ]
     },
     "execution_count": 57,
     "metadata": {},
     "output_type": "execute_result"
    }
   ],
   "source": [
    "df_survey_click[df_survey_click['Timestamp'] > '2016-02-25 16:20'][df_survey_click['Timestamp'] < '2016-02-25 17:10'].shape #12:20 1:08"
   ]
  },
  {
   "cell_type": "markdown",
   "metadata": {},
   "source": [
    "### Does each Google Survey Response have a registered impression?"
   ]
  },
  {
   "cell_type": "code",
   "execution_count": 18,
   "metadata": {
    "collapsed": false
   },
   "outputs": [],
   "source": [
    "query = \"\"\"\n",
    "SELECT\n",
    "    event_surveyInstanceToken\n",
    "FROM log.QuickSurveyInitiation_15278946\n",
    "WHERE\n",
    "    event_eventName ='impression'\n",
    "\"\"\"\n",
    "\n",
    "d_impression = query_analytics_store(query, {})\n",
    "df_survey_impression = d_survey.merge(d_impression, how = 'inner', right_on = 'event_surveyInstanceToken', left_on = st)"
   ]
  },
  {
   "cell_type": "code",
   "execution_count": 19,
   "metadata": {
    "collapsed": false
   },
   "outputs": [
    {
     "name": "stdout",
     "output_type": "stream",
     "text": [
      "61\n"
     ]
    }
   ],
   "source": [
    "print(df_survey_impression.shape[0])"
   ]
  },
  {
   "cell_type": "markdown",
   "metadata": {},
   "source": [
    "Only 61 out of 81 survey responses have a matching click."
   ]
  },
  {
   "cell_type": "markdown",
   "metadata": {},
   "source": [
    "### Does each Google Survey Response have a registered pageview?"
   ]
  },
  {
   "cell_type": "code",
   "execution_count": 20,
   "metadata": {
    "collapsed": true
   },
   "outputs": [],
   "source": [
    "query = \"\"\"\n",
    "SELECT\n",
    "    event_surveyInstanceToken\n",
    "FROM log.QuickSurveyInitiation_15278946\n",
    "WHERE\n",
    "    event_eventName ='eligible'\n",
    "\"\"\"\n",
    "\n",
    "d_pageview = query_analytics_store(query, {})\n",
    "df_survey_pageview = d_survey.merge(d_pageview, how = 'inner', right_on = 'event_surveyInstanceToken', left_on = st)"
   ]
  },
  {
   "cell_type": "code",
   "execution_count": 21,
   "metadata": {
    "collapsed": false
   },
   "outputs": [
    {
     "name": "stdout",
     "output_type": "stream",
     "text": [
      "61\n"
     ]
    }
   ],
   "source": [
    "print(df_survey_pageview.shape[0])"
   ]
  },
  {
   "cell_type": "markdown",
   "metadata": {},
   "source": [
    "### Summary"
   ]
  },
  {
   "cell_type": "code",
   "execution_count": 21,
   "metadata": {
    "collapsed": false
   },
   "outputs": [
    {
     "name": "stdout",
     "output_type": "stream",
     "text": [
      "Eligible Pageviews:  53373\n",
      "Widget Impressions:  41957\n",
      "Clicks:  463\n",
      "Yeses:  134\n",
      "Google Responses tracked in EL 59\n",
      "Google Responses 81\n"
     ]
    }
   ],
   "source": [
    "print('Eligible Pageviews: ', n_eligible)\n",
    "print('Widget Impressions: ', n_impressions)\n",
    "print('Clicks: ', n_responses)\n",
    "print('Yeses: ', n_yes)\n",
    "print('Google Responses tracked in EL', df_survey_click.shape[0])\n",
    "print('Google Responses', d_survey.shape[0])"
   ]
  },
  {
   "cell_type": "markdown",
   "metadata": {},
   "source": [
    "- Don't know how many users where in the sample\n",
    "- One in 300 pageviews results in a 'Yes'\n",
    "- 62% of 'Yes' events lead to a survery response\n",
    "- only 60% of survey responses are trackable in EL"
   ]
  },
  {
   "cell_type": "markdown",
   "metadata": {},
   "source": [
    "### Digging Into Missing Data"
   ]
  },
  {
   "cell_type": "code",
   "execution_count": 22,
   "metadata": {
    "collapsed": true
   },
   "outputs": [],
   "source": [
    "df_survey_click2 = d_survey.merge(d_click, how = 'left', right_on = ct, left_on = st)"
   ]
  },
  {
   "cell_type": "code",
   "execution_count": 23,
   "metadata": {
    "collapsed": false
   },
   "outputs": [],
   "source": [
    "df_survey_click2 = df_survey_click2[[st,'Timestamp', ct, 'timestamp']].sort('Timestamp')\n",
    "df_survey_click2.columns = ['Google Token', 'Google Timestamp', 'EL Token', 'EL Timestamp']"
   ]
  },
  {
   "cell_type": "code",
   "execution_count": 24,
   "metadata": {
    "collapsed": false
   },
   "outputs": [
    {
     "data": {
      "text/plain": [
       "16    81\n",
       "Name: Google Token, dtype: int64"
      ]
     },
     "execution_count": 24,
     "metadata": {},
     "output_type": "execute_result"
    }
   ],
   "source": [
    "df_survey_click2['Google Token'].apply(len).value_counts()"
   ]
  },
  {
   "cell_type": "markdown",
   "metadata": {},
   "source": [
    "No obvious pattern..."
   ]
  },
  {
   "cell_type": "markdown",
   "metadata": {},
   "source": [
    "### Are surveySessionToken tokens unique per IP"
   ]
  },
  {
   "cell_type": "code",
   "execution_count": 25,
   "metadata": {
    "collapsed": false
   },
   "outputs": [
    {
     "name": "stdout",
     "output_type": "stream",
     "text": [
      "17573\n"
     ]
    }
   ],
   "source": [
    "query = \"\"\"\n",
    "SELECT\n",
    "    COUNT(DISTINCT(clientIP)) as n\n",
    "FROM log.QuickSurveyInitiation_15278946\n",
    "\"\"\"\n",
    "nIPs = query_analytics_store( query, {}).iloc[0]['n']\n",
    "print(nIPs)"
   ]
  },
  {
   "cell_type": "code",
   "execution_count": 26,
   "metadata": {
    "collapsed": false
   },
   "outputs": [
    {
     "name": "stdout",
     "output_type": "stream",
     "text": [
      "18017\n"
     ]
    }
   ],
   "source": [
    "query = \"\"\"\n",
    "SELECT\n",
    "    COUNT(DISTINCT(CONCAT(clientIP, userAgent))) as n\n",
    "FROM log.QuickSurveyInitiation_15278946\n",
    "\"\"\"\n",
    "nIPUAs = query_analytics_store( query, {}).iloc[0]['n']\n",
    "print(nIPUAs)"
   ]
  },
  {
   "cell_type": "code",
   "execution_count": 27,
   "metadata": {
    "collapsed": false
   },
   "outputs": [
    {
     "name": "stdout",
     "output_type": "stream",
     "text": [
      "21338\n"
     ]
    }
   ],
   "source": [
    "query = \"\"\"\n",
    "SELECT\n",
    "    COUNT(DISTINCT(event_surveySessionToken)) as n\n",
    "FROM log.QuickSurveyInitiation_15278946\n",
    "\"\"\"\n",
    "sessiontokens = query_analytics_store( query, {}).iloc[0]['n']\n",
    "print(sessiontokens)"
   ]
  },
  {
   "cell_type": "markdown",
   "metadata": {},
   "source": [
    "### Check User agent Distribution"
   ]
  },
  {
   "cell_type": "code",
   "execution_count": 109,
   "metadata": {
    "collapsed": false
   },
   "outputs": [],
   "source": [
    "query = \"\"\"\n",
    "SELECT COUNT(*) as n, userAgent\n",
    "FROM log.QuickSurveyInitiation_15278946\n",
    "WHERE event_eventName ='eligible'\n",
    "GROUP BY userAgent\n",
    "\"\"\"\n",
    "el_ua_df = query_analytics_store( query, {})\n",
    "el_ua_df['proportion'] = el_ua_df['n'] / el_ua_df['n'].sum()\n",
    "el_ua_df['userAgent'] = el_ua_df['userAgent'].apply(lambda x: x[1:-1])"
   ]
  },
  {
   "cell_type": "code",
   "execution_count": 110,
   "metadata": {
    "collapsed": false
   },
   "outputs": [],
   "source": [
    "query = \"\"\"\n",
    "SELECT SUM(n) as n FROM ellery.ua_counts\n",
    "\"\"\"\n",
    "dn = query_hive_ssh( query, 'temp.txt')\n",
    "\n",
    "query = \"\"\"\n",
    "SELECT n, user_agent \n",
    "FROM ellery.ua_counts\n",
    "ORDER BY n DESC\n",
    "LIMIT 1000\n",
    "\"\"\"\n",
    "webrequest_ua_df = query_hive_ssh( query, 'temp.txt')\n",
    "webrequest_ua_df['proportion'] = webrequest_ua_df['n'] / dn.iloc[0]['n']"
   ]
  },
  {
   "cell_type": "code",
   "execution_count": 111,
   "metadata": {
    "collapsed": false
   },
   "outputs": [],
   "source": [
    "ua_merge = webrequest_ua_df.merge(el_ua_df, how ='left', left_on = 'user_agent', right_on = 'userAgent' )\n",
    "ua_merge.fillna(0, inplace = True)\n",
    "ua_merge['delta'] = ua_merge['proportion_x'] -  ua_merge['proportion_y']\n",
    "ua_merge.sort('delta', inplace = True, ascending = False)"
   ]
  },
  {
   "cell_type": "code",
   "execution_count": 116,
   "metadata": {
    "collapsed": false
   },
   "outputs": [
    {
     "name": "stdout",
     "output_type": "stream",
     "text": [
      "NativeHost 0.0244573181121145\n",
      "Mozilla/5.0 (Windows NT 6.1) AppleWebKit/537.36 (KHTML, like Gecko) Chrome/48.0.2564.116 Safari/537.36 0.01253092194677231\n",
      "Mozilla/5.0 (Windows NT 6.1; Trident/7.0; rv:11.0) like Gecko 0.009188252840339143\n",
      "Mozilla/5.0 (X11; Linux x86_64; rv:10.0) Gecko/20150101 Firefox/20.0 (Chrome) 0.004675413187936616\n",
      "Mozilla/5.0 (Windows NT 6.3; WOW64) AppleWebKit/537.36 (KHTML, like Gecko) Chrome/48.0.2564.116 Safari/537.36 0.004011174647886456\n",
      "Mozilla/4.5 (compatible; HTTrack 3.0x; Windows 98) 0.003908672686999489\n",
      "Mozilla/5.0 (Windows NT 6.1; WOW64) AppleWebKit/537.36 (KHTML, like Gecko) Chrome/48.0.2564.116 Safari/537.36 0.0037288223318179617\n",
      "Mozilla/5.0 (Windows NT 10.0; WOW64; rv:44.0) Gecko/20100101 Firefox/44.0 0.0034854385468370093\n",
      "Mozilla/5.0 (compatible; MSIE 9.0; Windows NT 6.1) 0.0031351167149429203\n",
      "Mozilla/4.0 (compatible; MSIE 4.01; Windows CE; PPC) 0.0029805168254509054\n",
      "Blackboard Safeassign 0.002484239223036292\n",
      "WikipediaApp/4.1.7.171 (iPhone OS 9.2.1; Phone) 0.002456977338558528\n",
      "Mozilla/5.0 (Macintosh; Intel Mac OS X 10_10_1) AppleWebKit/600.1.25 (KHTML, like Gecko) Version/8.0 Safari/600.1.25 0.002025239383686236\n",
      "Mozilla/5.0 (Windows NT 6.3; WOW64; rv:44.0) Gecko/20100101 Firefox/44.0 0.0019839397215352227\n",
      "Mozilla/5.0 (Windows NT 10.0; WOW64) AppleWebKit/537.36 (KHTML, like Gecko) Chrome/48.0.2564.116 Safari/537.36 0.0018660161794041286\n",
      "Mozilla/5.0 (compatible; MSIE 9.0; Windows NT 6.1; Trident/5.0) 0.0014473865842308479\n",
      "WikipediaApp/2.1.141-r-2016-02-10 (Android 5.1.1; Phone) Google Play 0.0014244334639631965\n",
      "Mozilla/5.0 (Windows NT 6.1) AppleWebKit/537.36 (KHTML, like Gecko) Chrome/41.0.2228.0 Safari/537.36 0.0012574544215368888\n",
      "Mozilla/5.0 (Windows NT 5.1) AppleWebKit/537.36 (KHTML, like Gecko) Chrome/48.0.2564.116 Safari/537.36 0.0012418936309361393\n",
      "Mozilla/5.0 (Windows NT 10.0; WOW64) AppleWebKit/537.36 (KHTML, like Gecko) Chrome/47.0.2526.80 Safari/537.36 0.0011633597673001421\n",
      "Mozilla/5.0 (Windows NT 6.3; WOW64; Trident/7.0; rv:11.0) like Gecko 0.001154960516022807\n",
      "Mozilla/4.0 (compatible; Google Desktop) 0.00114499914806611\n",
      "Mozilla/5.0 (X11; Linux x86_64; rv:10.0) Gecko/20100101 Firefox/10.0 (Chrome) 0.0010802521724314193\n",
      "Mozilla/5.0 (Windows NT 10.0; WOW64; Trident/7.0; rv:11.0) like Gecko 0.0009943697753306059\n",
      "Mozilla/5.0 (iPhone; CPU iPhone OS 7_1_2 like Mac OS X) AppleWebKit/537.51.2 (KHTML, like Gecko) Version/7.0 Mobile/11D257 Safari/9537.53 0.000960850508479967\n"
     ]
    }
   ],
   "source": [
    "for i, r in ua_merge[['user_agent', 'delta']].head(25).iterrows():\n",
    "    print(r['user_agent'], r['delta'])"
   ]
  },
  {
   "cell_type": "code",
   "execution_count": null,
   "metadata": {
    "collapsed": true
   },
   "outputs": [],
   "source": []
  }
 ],
 "metadata": {
  "kernelspec": {
   "display_name": "Python 3",
   "language": "python",
   "name": "python3"
  },
  "language_info": {
   "codemirror_mode": {
    "name": "ipython",
    "version": 3
   },
   "file_extension": ".py",
   "mimetype": "text/x-python",
   "name": "python",
   "nbconvert_exporter": "python",
   "pygments_lexer": "ipython3",
   "version": "3.5.1"
  }
 },
 "nbformat": 4,
 "nbformat_minor": 0
}
