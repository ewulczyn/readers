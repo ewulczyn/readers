{
 "cells": [
  {
   "cell_type": "code",
   "execution_count": 1,
   "metadata": {
    "collapsed": false
   },
   "outputs": [],
   "source": [
    "%load_ext autoreload\n",
    "%autoreload 2\n",
    "%matplotlib inline\n",
    "\n",
    "from trace_utils import *"
   ]
  },
  {
   "cell_type": "code",
   "execution_count": 2,
   "metadata": {
    "collapsed": false
   },
   "outputs": [
    {
     "name": "stdout",
     "output_type": "stream",
     "text": [
      "Num Survey Responses: 35948\n",
      "Num Survey Responses in EL: 32792\n"
     ]
    }
   ],
   "source": [
    "d_survey, d_survey_in_el = load_survey_dfs()\n",
    "print('Num Survey Responses:', d_survey.shape[0])\n",
    "print('Num Survey Responses in EL:', d_survey_in_el.shape[0])"
   ]
  },
  {
   "cell_type": "code",
   "execution_count": 3,
   "metadata": {
    "collapsed": false
   },
   "outputs": [
    {
     "name": "stdout",
     "output_type": "stream",
     "text": [
      "Num Click Traces: 49591\n"
     ]
    }
   ],
   "source": [
    "d_click_traces = load_click_trace_data('rs3v3')\n",
    "print('Num Click Traces:', d_click_traces.shape[0])"
   ]
  },
  {
   "cell_type": "code",
   "execution_count": 4,
   "metadata": {
    "collapsed": false
   },
   "outputs": [
    {
     "name": "stdout",
     "output_type": "stream",
     "text": [
      "Num Responses with a trace 29816\n"
     ]
    }
   ],
   "source": [
    "# merge traces and survey data\n",
    "df = d_survey_in_el.merge(d_click_traces, how = 'inner', right_on = 'survey_token', left_on = 'token')\n",
    "print('Num Responses with a trace', df.shape[0])"
   ]
  },
  {
   "cell_type": "code",
   "execution_count": 5,
   "metadata": {
    "collapsed": true
   },
   "outputs": [],
   "source": [
    "# clean up odds and ends\n",
    "df['click_dt_utc'] = df['click_data'].apply(lambda x: x['timestamp'])\n",
    "df['click_title'] = df['click_data'].apply(lambda x: x['title'])\n",
    "del df['click_data']\n",
    "del df['token']\n",
    "\n",
    "df.rename(columns={  'submit_timestamp': 'survey_submit_dt',\n",
    "                     'key': 'client_token',\n",
    "                     'requests': 'trace_data',\n",
    "                    }, inplace=True)"
   ]
  },
  {
   "cell_type": "code",
   "execution_count": 6,
   "metadata": {
    "collapsed": false
   },
   "outputs": [],
   "source": [
    "# parse all dates\n",
    "df['click_dt_utc'] = df['click_dt_utc'].apply(lambda x: datetime.datetime.strptime(x, '%Y-%m-%d %H:%M:%S'))\n",
    "df['survey_submit_dt'] = df['survey_submit_dt'].apply(lambda x: datetime.datetime.strptime(x, '%Y-%m-%d %H:%M:%S'))\n",
    "df['trace_data'] = df['trace_data'].apply(parse_trace_ts)\n",
    "df = df[df['trace_data'].apply(len)>0]"
   ]
  },
  {
   "cell_type": "code",
   "execution_count": 7,
   "metadata": {
    "collapsed": true
   },
   "outputs": [],
   "source": [
    "# split trace into sessions\n",
    "df['sessions'] = df['trace_data'].apply(sessionize)"
   ]
  },
  {
   "cell_type": "code",
   "execution_count": 8,
   "metadata": {
    "collapsed": true
   },
   "outputs": [],
   "source": [
    "# find session with the click\n",
    "df = df.apply(get_click_session, axis=1)"
   ]
  },
  {
   "cell_type": "code",
   "execution_count": 9,
   "metadata": {
    "collapsed": false
   },
   "outputs": [],
   "source": [
    "df['trace_data'] = df['trace_data'].apply(trace_ts_to_str)"
   ]
  },
  {
   "cell_type": "code",
   "execution_count": 10,
   "metadata": {
    "collapsed": false
   },
   "outputs": [],
   "source": [
    "df.to_csv('../../data/responses_with_traces.tsv', sep = '\\t', index = False, date_format = '%Y-%m-%d %H:%M:%S')"
   ]
  },
  {
   "cell_type": "code",
   "execution_count": 11,
   "metadata": {
    "collapsed": true
   },
   "outputs": [],
   "source": [
    "df2 =  load_responses_with_traces()"
   ]
  },
  {
   "cell_type": "code",
   "execution_count": 12,
   "metadata": {
    "collapsed": false
   },
   "outputs": [
    {
     "data": {
      "text/html": [
       "<div>\n",
       "<table border=\"1\" class=\"dataframe\">\n",
       "  <thead>\n",
       "    <tr style=\"text-align: right;\">\n",
       "      <th></th>\n",
       "      <th>survey_submit_dt</th>\n",
       "      <th>raw_information_depth</th>\n",
       "      <th>raw_prior_knowledge</th>\n",
       "      <th>raw_motivation</th>\n",
       "      <th>information depth</th>\n",
       "      <th>prior knowledge</th>\n",
       "      <th>motivation</th>\n",
       "      <th>host</th>\n",
       "      <th>geo_data</th>\n",
       "      <th>client_token</th>\n",
       "      <th>trace_data</th>\n",
       "      <th>ua_data</th>\n",
       "      <th>survey_token</th>\n",
       "      <th>click_dt_utc</th>\n",
       "      <th>click_title</th>\n",
       "      <th>sessions</th>\n",
       "      <th>click_session</th>\n",
       "    </tr>\n",
       "  </thead>\n",
       "  <tbody>\n",
       "    <tr>\n",
       "      <th>0</th>\n",
       "      <td>2016-02-29 16:17:07</td>\n",
       "      <td>look up a specific fact or to get a quick answer.</td>\n",
       "      <td>I was already familiar with the topic.</td>\n",
       "      <td>the topic came up in a conversation.</td>\n",
       "      <td>fact</td>\n",
       "      <td>familiar</td>\n",
       "      <td>conversation</td>\n",
       "      <td>mobile</td>\n",
       "      <td>{'city': 'São Paulo', 'latitude': '-23.5475', ...</td>\n",
       "      <td>102c3643440ee9685fd7c80c530f263ab2437550Mozill...</td>\n",
       "      <td>[{'ts': 2016-03-01 00:14:59, 'lang': 'en', 'pr...</td>\n",
       "      <td>{'os_major': '5', 'os_family': 'Android', 'bro...</td>\n",
       "      <td>0707bbe2a7e3ecbb</td>\n",
       "      <td>2016-03-01 00:15:45</td>\n",
       "      <td>Leonardo_DiCaprio</td>\n",
       "      <td>[[{'ts': '2016-03-01 00:14:59', 'referer_class...</td>\n",
       "      <td>[{'ts': '2016-03-01 00:14:59', 'referer_class'...</td>\n",
       "    </tr>\n",
       "    <tr>\n",
       "      <th>1</th>\n",
       "      <td>2016-02-29 16:17:46</td>\n",
       "      <td>look up a specific fact or to get a quick answer.</td>\n",
       "      <td>I was not familiar with the topic and I am lea...</td>\n",
       "      <td>Writing story and need a specific fact</td>\n",
       "      <td>fact</td>\n",
       "      <td>unfamiliar</td>\n",
       "      <td>other</td>\n",
       "      <td>mobile</td>\n",
       "      <td>{'city': 'Newport', 'latitude': '34.7766', 'co...</td>\n",
       "      <td>b7a409892837396f45d85fe51f53ab1a5a150bf3Mozill...</td>\n",
       "      <td>[{'ts': 2016-03-01 00:15:13, 'lang': 'en', 'pr...</td>\n",
       "      <td>{'os_major': '9', 'os_family': 'iOS', 'browser...</td>\n",
       "      <td>c662db883c7d389c</td>\n",
       "      <td>2016-03-01 00:15:21</td>\n",
       "      <td>Methoni,_Messenia</td>\n",
       "      <td>[[{'ts': '2016-03-01 00:15:13', 'referer_class...</td>\n",
       "      <td>[{'ts': '2016-03-01 00:15:13', 'referer_class'...</td>\n",
       "    </tr>\n",
       "    <tr>\n",
       "      <th>2</th>\n",
       "      <td>2016-02-29 16:17:48</td>\n",
       "      <td>get an overview of the topic.</td>\n",
       "      <td>I was already familiar with the topic.</td>\n",
       "      <td>I am bored or randomly exploring Wikipedia for...</td>\n",
       "      <td>overview</td>\n",
       "      <td>familiar</td>\n",
       "      <td>bored/random</td>\n",
       "      <td>mobile</td>\n",
       "      <td>{'city': 'Point Pleasant Beach', 'latitude': '...</td>\n",
       "      <td>8f12b97665f452ba83dc14b774d17dfd2f35207cMozill...</td>\n",
       "      <td>[{'ts': 2016-03-01 00:00:47, 'lang': 'en', 'pr...</td>\n",
       "      <td>{'os_major': '9', 'os_family': 'iOS', 'browser...</td>\n",
       "      <td>0e7f539e27dcf10f</td>\n",
       "      <td>2016-03-01 00:16:55</td>\n",
       "      <td>Micropenis</td>\n",
       "      <td>[[{'ts': '2016-03-01 00:00:47', 'referer_class...</td>\n",
       "      <td>[{'ts': '2016-03-01 00:00:47', 'referer_class'...</td>\n",
       "    </tr>\n",
       "    <tr>\n",
       "      <th>3</th>\n",
       "      <td>2016-02-29 16:17:58</td>\n",
       "      <td>look up a specific fact or to get a quick answer.</td>\n",
       "      <td>I was not familiar with the topic and I am lea...</td>\n",
       "      <td>I am bored or randomly exploring Wikipedia for...</td>\n",
       "      <td>fact</td>\n",
       "      <td>unfamiliar</td>\n",
       "      <td>bored/random</td>\n",
       "      <td>desktop</td>\n",
       "      <td>{'city': 'Woburn', 'latitude': '42.4897', 'cou...</td>\n",
       "      <td>c83237a436c2c62a8fab26d7b0bac7a5b48817f3Mozill...</td>\n",
       "      <td>[{'ts': 2016-03-01 00:17:23, 'lang': 'en', 'pr...</td>\n",
       "      <td>{'os_major': '-', 'os_family': 'Windows 8.1', ...</td>\n",
       "      <td>8cb0d465ee08e2c6</td>\n",
       "      <td>2016-03-01 00:17:30</td>\n",
       "      <td>Moons_of_Uranus</td>\n",
       "      <td>[[{'ts': '2016-03-01 00:17:23', 'referer_class...</td>\n",
       "      <td>[{'ts': '2016-03-01 00:17:23', 'referer_class'...</td>\n",
       "    </tr>\n",
       "    <tr>\n",
       "      <th>4</th>\n",
       "      <td>2016-02-29 16:18:04</td>\n",
       "      <td>get an in-depth understanding of the topic.</td>\n",
       "      <td>I was already familiar with the topic.</td>\n",
       "      <td>I want to know more about a current event (e.g...</td>\n",
       "      <td>in-depth</td>\n",
       "      <td>familiar</td>\n",
       "      <td>current event|intrinsic learning</td>\n",
       "      <td>mobile</td>\n",
       "      <td>{'city': 'Unknown', 'latitude': '53.55', 'coun...</td>\n",
       "      <td>733934449598ce695e955fcfd050f5d5c610ed12Mozill...</td>\n",
       "      <td>[{'ts': 2016-03-01 00:16:18, 'lang': 'en', 'pr...</td>\n",
       "      <td>{'os_major': '8', 'os_family': 'iOS', 'browser...</td>\n",
       "      <td>42be8c727b522606</td>\n",
       "      <td>2016-03-01 00:16:33</td>\n",
       "      <td>Patrick_Maroon</td>\n",
       "      <td>[[{'ts': '2016-03-01 00:16:18', 'referer_class...</td>\n",
       "      <td>[{'ts': '2016-03-01 00:16:18', 'referer_class'...</td>\n",
       "    </tr>\n",
       "  </tbody>\n",
       "</table>\n",
       "</div>"
      ],
      "text/plain": [
       "     survey_submit_dt                              raw_information_depth  \\\n",
       "0 2016-02-29 16:17:07  look up a specific fact or to get a quick answer.   \n",
       "1 2016-02-29 16:17:46  look up a specific fact or to get a quick answer.   \n",
       "2 2016-02-29 16:17:48                      get an overview of the topic.   \n",
       "3 2016-02-29 16:17:58  look up a specific fact or to get a quick answer.   \n",
       "4 2016-02-29 16:18:04        get an in-depth understanding of the topic.   \n",
       "\n",
       "                                 raw_prior_knowledge  \\\n",
       "0             I was already familiar with the topic.   \n",
       "1  I was not familiar with the topic and I am lea...   \n",
       "2             I was already familiar with the topic.   \n",
       "3  I was not familiar with the topic and I am lea...   \n",
       "4             I was already familiar with the topic.   \n",
       "\n",
       "                                      raw_motivation information depth  \\\n",
       "0               the topic came up in a conversation.              fact   \n",
       "1             Writing story and need a specific fact              fact   \n",
       "2  I am bored or randomly exploring Wikipedia for...          overview   \n",
       "3  I am bored or randomly exploring Wikipedia for...              fact   \n",
       "4  I want to know more about a current event (e.g...          in-depth   \n",
       "\n",
       "  prior knowledge                        motivation     host  \\\n",
       "0        familiar                      conversation   mobile   \n",
       "1      unfamiliar                             other   mobile   \n",
       "2        familiar                      bored/random   mobile   \n",
       "3      unfamiliar                      bored/random  desktop   \n",
       "4        familiar  current event|intrinsic learning   mobile   \n",
       "\n",
       "                                            geo_data  \\\n",
       "0  {'city': 'São Paulo', 'latitude': '-23.5475', ...   \n",
       "1  {'city': 'Newport', 'latitude': '34.7766', 'co...   \n",
       "2  {'city': 'Point Pleasant Beach', 'latitude': '...   \n",
       "3  {'city': 'Woburn', 'latitude': '42.4897', 'cou...   \n",
       "4  {'city': 'Unknown', 'latitude': '53.55', 'coun...   \n",
       "\n",
       "                                        client_token  \\\n",
       "0  102c3643440ee9685fd7c80c530f263ab2437550Mozill...   \n",
       "1  b7a409892837396f45d85fe51f53ab1a5a150bf3Mozill...   \n",
       "2  8f12b97665f452ba83dc14b774d17dfd2f35207cMozill...   \n",
       "3  c83237a436c2c62a8fab26d7b0bac7a5b48817f3Mozill...   \n",
       "4  733934449598ce695e955fcfd050f5d5c610ed12Mozill...   \n",
       "\n",
       "                                          trace_data  \\\n",
       "0  [{'ts': 2016-03-01 00:14:59, 'lang': 'en', 'pr...   \n",
       "1  [{'ts': 2016-03-01 00:15:13, 'lang': 'en', 'pr...   \n",
       "2  [{'ts': 2016-03-01 00:00:47, 'lang': 'en', 'pr...   \n",
       "3  [{'ts': 2016-03-01 00:17:23, 'lang': 'en', 'pr...   \n",
       "4  [{'ts': 2016-03-01 00:16:18, 'lang': 'en', 'pr...   \n",
       "\n",
       "                                             ua_data      survey_token  \\\n",
       "0  {'os_major': '5', 'os_family': 'Android', 'bro...  0707bbe2a7e3ecbb   \n",
       "1  {'os_major': '9', 'os_family': 'iOS', 'browser...  c662db883c7d389c   \n",
       "2  {'os_major': '9', 'os_family': 'iOS', 'browser...  0e7f539e27dcf10f   \n",
       "3  {'os_major': '-', 'os_family': 'Windows 8.1', ...  8cb0d465ee08e2c6   \n",
       "4  {'os_major': '8', 'os_family': 'iOS', 'browser...  42be8c727b522606   \n",
       "\n",
       "         click_dt_utc        click_title  \\\n",
       "0 2016-03-01 00:15:45  Leonardo_DiCaprio   \n",
       "1 2016-03-01 00:15:21  Methoni,_Messenia   \n",
       "2 2016-03-01 00:16:55         Micropenis   \n",
       "3 2016-03-01 00:17:30    Moons_of_Uranus   \n",
       "4 2016-03-01 00:16:33     Patrick_Maroon   \n",
       "\n",
       "                                            sessions  \\\n",
       "0  [[{'ts': '2016-03-01 00:14:59', 'referer_class...   \n",
       "1  [[{'ts': '2016-03-01 00:15:13', 'referer_class...   \n",
       "2  [[{'ts': '2016-03-01 00:00:47', 'referer_class...   \n",
       "3  [[{'ts': '2016-03-01 00:17:23', 'referer_class...   \n",
       "4  [[{'ts': '2016-03-01 00:16:18', 'referer_class...   \n",
       "\n",
       "                                       click_session  \n",
       "0  [{'ts': '2016-03-01 00:14:59', 'referer_class'...  \n",
       "1  [{'ts': '2016-03-01 00:15:13', 'referer_class'...  \n",
       "2  [{'ts': '2016-03-01 00:00:47', 'referer_class'...  \n",
       "3  [{'ts': '2016-03-01 00:17:23', 'referer_class'...  \n",
       "4  [{'ts': '2016-03-01 00:16:18', 'referer_class'...  "
      ]
     },
     "execution_count": 12,
     "metadata": {},
     "output_type": "execute_result"
    }
   ],
   "source": [
    "df2.head()"
   ]
  },
  {
   "cell_type": "code",
   "execution_count": null,
   "metadata": {
    "collapsed": true
   },
   "outputs": [],
   "source": []
  }
 ],
 "metadata": {
  "kernelspec": {
   "display_name": "Python 3",
   "language": "python",
   "name": "python3"
  },
  "language_info": {
   "codemirror_mode": {
    "name": "ipython",
    "version": 3
   },
   "file_extension": ".py",
   "mimetype": "text/x-python",
   "name": "python",
   "nbconvert_exporter": "python",
   "pygments_lexer": "ipython3",
   "version": "3.5.1"
  }
 },
 "nbformat": 4,
 "nbformat_minor": 0
}
