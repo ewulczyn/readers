{
 "cells": [
  {
   "cell_type": "code",
   "execution_count": 1,
   "metadata": {
    "collapsed": false
   },
   "outputs": [],
   "source": [
    "%load_ext autoreload\n",
    "%autoreload 2\n",
    "%matplotlib inline\n",
    "\n",
    "from join_traces_and_survey import *"
   ]
  },
  {
   "cell_type": "code",
   "execution_count": 2,
   "metadata": {
    "collapsed": false
   },
   "outputs": [
    {
     "name": "stdout",
     "output_type": "stream",
     "text": [
      "Num Survey Responses: 35948\n",
      "Num Survey Responses in EL: 32792\n"
     ]
    }
   ],
   "source": [
    "d_survey, d_survey_in_el = load_survey_dfs()\n",
    "print('Num Survey Responses:', d_survey.shape[0])\n",
    "print('Num Survey Responses in EL:', d_survey_in_el.shape[0])"
   ]
  },
  {
   "cell_type": "code",
   "execution_count": 3,
   "metadata": {
    "collapsed": false
   },
   "outputs": [
    {
     "name": "stdout",
     "output_type": "stream",
     "text": [
      "Num Click Traces: 58290\n"
     ]
    }
   ],
   "source": [
    "d_click_traces = pd.DataFrame(json.load(open('../../data/click_traces/rs3v3/join_data.json')))\n",
    "print('Num Click Traces:', d_click_traces.shape[0])"
   ]
  },
  {
   "cell_type": "code",
   "execution_count": 4,
   "metadata": {
    "collapsed": false
   },
   "outputs": [
    {
     "name": "stdout",
     "output_type": "stream",
     "text": [
      "Join Size:  34795\n",
      "Has click_request:  34795\n",
      "Num Responses with a trace 29493\n"
     ]
    }
   ],
   "source": [
    "# merge traces and survey data\n",
    "df = join_survey_and_traces(d_survey_in_el, d_click_traces)\n",
    "print('Num Responses with a trace', df.shape[0])"
   ]
  },
  {
   "cell_type": "code",
   "execution_count": 5,
   "metadata": {
    "collapsed": true
   },
   "outputs": [],
   "source": [
    "df.to_csv('../../data/responses_with_traces.tsv', sep = '\\t', index = False, date_format = '%Y-%m-%d %H:%M:%S')"
   ]
  },
  {
   "cell_type": "code",
   "execution_count": 6,
   "metadata": {
    "collapsed": false
   },
   "outputs": [
    {
     "name": "stdout",
     "output_type": "stream",
     "text": [
      "(29493, 17)\n"
     ]
    }
   ],
   "source": [
    "print(df.shape)"
   ]
  },
  {
   "cell_type": "code",
   "execution_count": 12,
   "metadata": {
    "collapsed": false
   },
   "outputs": [
    {
     "data": {
      "text/plain": [
       "(29484, 17)"
      ]
     },
     "execution_count": 12,
     "metadata": {},
     "output_type": "execute_result"
    }
   ],
   "source": [
    "pd.read_csv('../../data/responses_with_traces.tsv', sep = '\\t').shape"
   ]
  },
  {
   "cell_type": "code",
   "execution_count": null,
   "metadata": {
    "collapsed": true
   },
   "outputs": [],
   "source": []
  },
  {
   "cell_type": "code",
   "execution_count": null,
   "metadata": {
    "collapsed": true
   },
   "outputs": [],
   "source": []
  },
  {
   "cell_type": "code",
   "execution_count": 4,
   "metadata": {
    "collapsed": false
   },
   "outputs": [],
   "source": []
  },
  {
   "cell_type": "code",
   "execution_count": 5,
   "metadata": {
    "collapsed": true
   },
   "outputs": [],
   "source": []
  },
  {
   "cell_type": "code",
   "execution_count": 6,
   "metadata": {
    "collapsed": false
   },
   "outputs": [
    {
     "data": {
      "text/plain": [
       "(58290, 5)"
      ]
     },
     "execution_count": 6,
     "metadata": {},
     "output_type": "execute_result"
    }
   ],
   "source": [
    "df.shape"
   ]
  },
  {
   "cell_type": "code",
   "execution_count": 7,
   "metadata": {
    "collapsed": false
   },
   "outputs": [
    {
     "data": {
      "text/html": [
       "<div>\n",
       "<table border=\"1\" class=\"dataframe\">\n",
       "  <thead>\n",
       "    <tr style=\"text-align: right;\">\n",
       "      <th></th>\n",
       "      <th>click_data</th>\n",
       "      <th>geo_data</th>\n",
       "      <th>key</th>\n",
       "      <th>requests</th>\n",
       "      <th>ua_data</th>\n",
       "    </tr>\n",
       "  </thead>\n",
       "  <tbody>\n",
       "    <tr>\n",
       "      <th>0</th>\n",
       "      <td>{'timestamp': '2016-03-03 09:27:04', 'title': ...</td>\n",
       "      <td>{'country_code': 'RU', 'country': 'Russia', 's...</td>\n",
       "      <td>001537b0d0ca14c4e46fce80d0ea2dca370b5ae4Mozill...</td>\n",
       "      <td>[{'project': 'wikipedia', 'is_pageview': 'true...</td>\n",
       "      <td>{'browser_major': '48', 'os_family': 'Windows ...</td>\n",
       "    </tr>\n",
       "    <tr>\n",
       "      <th>1</th>\n",
       "      <td>{'timestamp': '2016-03-05 23:39:17', 'title': ...</td>\n",
       "      <td>{'country_code': 'US', 'country': 'United Stat...</td>\n",
       "      <td>011fbdd0556fd87dd70a1d2323c9f4811a75e501Mozill...</td>\n",
       "      <td>[{'project': 'wikipedia', 'is_pageview': 'true...</td>\n",
       "      <td>{'browser_major': '48', 'os_family': 'Android'...</td>\n",
       "    </tr>\n",
       "    <tr>\n",
       "      <th>2</th>\n",
       "      <td>{'timestamp': '2016-03-05 00:56:59', 'title': ...</td>\n",
       "      <td>{'country_code': 'US', 'country': 'United Stat...</td>\n",
       "      <td>02e75ef0f117ca56e52dc56ceecbd31856bea6dfMozill...</td>\n",
       "      <td>[{'project': 'wikipedia', 'is_pageview': 'true...</td>\n",
       "      <td>{'browser_major': '48', 'os_family': 'Android'...</td>\n",
       "    </tr>\n",
       "    <tr>\n",
       "      <th>3</th>\n",
       "      <td>{'timestamp': '2016-03-08 09:11:47', 'title': ...</td>\n",
       "      <td>{'country_code': 'IN', 'country': 'India', 'su...</td>\n",
       "      <td>03e1a1512c8ef6e881d5bfb6de586ef3c6c1aa70Mozill...</td>\n",
       "      <td>[{'project': 'wikipedia', 'is_pageview': 'true...</td>\n",
       "      <td>{'browser_major': '48', 'os_family': 'Windows ...</td>\n",
       "    </tr>\n",
       "    <tr>\n",
       "      <th>4</th>\n",
       "      <td>{'timestamp': '2016-03-04 16:29:02', 'title': ...</td>\n",
       "      <td>{'country_code': 'US', 'country': 'United Stat...</td>\n",
       "      <td>03eab6023d9b4bc09dc45923c1c5ab8c2adc39f5Mozill...</td>\n",
       "      <td>[{'project': 'wikipedia', 'is_pageview': 'true...</td>\n",
       "      <td>{'browser_major': '47', 'os_family': 'Chrome O...</td>\n",
       "    </tr>\n",
       "  </tbody>\n",
       "</table>\n",
       "</div>"
      ],
      "text/plain": [
       "                                          click_data  \\\n",
       "0  {'timestamp': '2016-03-03 09:27:04', 'title': ...   \n",
       "1  {'timestamp': '2016-03-05 23:39:17', 'title': ...   \n",
       "2  {'timestamp': '2016-03-05 00:56:59', 'title': ...   \n",
       "3  {'timestamp': '2016-03-08 09:11:47', 'title': ...   \n",
       "4  {'timestamp': '2016-03-04 16:29:02', 'title': ...   \n",
       "\n",
       "                                            geo_data  \\\n",
       "0  {'country_code': 'RU', 'country': 'Russia', 's...   \n",
       "1  {'country_code': 'US', 'country': 'United Stat...   \n",
       "2  {'country_code': 'US', 'country': 'United Stat...   \n",
       "3  {'country_code': 'IN', 'country': 'India', 'su...   \n",
       "4  {'country_code': 'US', 'country': 'United Stat...   \n",
       "\n",
       "                                                 key  \\\n",
       "0  001537b0d0ca14c4e46fce80d0ea2dca370b5ae4Mozill...   \n",
       "1  011fbdd0556fd87dd70a1d2323c9f4811a75e501Mozill...   \n",
       "2  02e75ef0f117ca56e52dc56ceecbd31856bea6dfMozill...   \n",
       "3  03e1a1512c8ef6e881d5bfb6de586ef3c6c1aa70Mozill...   \n",
       "4  03eab6023d9b4bc09dc45923c1c5ab8c2adc39f5Mozill...   \n",
       "\n",
       "                                            requests  \\\n",
       "0  [{'project': 'wikipedia', 'is_pageview': 'true...   \n",
       "1  [{'project': 'wikipedia', 'is_pageview': 'true...   \n",
       "2  [{'project': 'wikipedia', 'is_pageview': 'true...   \n",
       "3  [{'project': 'wikipedia', 'is_pageview': 'true...   \n",
       "4  [{'project': 'wikipedia', 'is_pageview': 'true...   \n",
       "\n",
       "                                             ua_data  \n",
       "0  {'browser_major': '48', 'os_family': 'Windows ...  \n",
       "1  {'browser_major': '48', 'os_family': 'Android'...  \n",
       "2  {'browser_major': '48', 'os_family': 'Android'...  \n",
       "3  {'browser_major': '48', 'os_family': 'Windows ...  \n",
       "4  {'browser_major': '47', 'os_family': 'Chrome O...  "
      ]
     },
     "execution_count": 7,
     "metadata": {},
     "output_type": "execute_result"
    }
   ],
   "source": [
    "df.head()"
   ]
  },
  {
   "cell_type": "code",
   "execution_count": null,
   "metadata": {
    "collapsed": true
   },
   "outputs": [],
   "source": []
  }
 ],
 "metadata": {
  "kernelspec": {
   "display_name": "Python 3",
   "language": "python",
   "name": "python3"
  },
  "language_info": {
   "codemirror_mode": {
    "name": "ipython",
    "version": 3
   },
   "file_extension": ".py",
   "mimetype": "text/x-python",
   "name": "python",
   "nbconvert_exporter": "python",
   "pygments_lexer": "ipython3",
   "version": "3.5.1"
  }
 },
 "nbformat": 4,
 "nbformat_minor": 0
}
