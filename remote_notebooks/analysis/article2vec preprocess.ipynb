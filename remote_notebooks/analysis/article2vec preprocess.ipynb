{
 "cells": [
  {
   "cell_type": "code",
   "execution_count": 22,
   "metadata": {
    "collapsed": false
   },
   "outputs": [
    {
     "name": "stdout",
     "output_type": "stream",
     "text": [
      "The autoreload extension is already loaded. To reload it, use:\n",
      "  %reload_ext autoreload\n"
     ]
    }
   ],
   "source": [
    "%load_ext autoreload\n",
    "%autoreload 2\n",
    "import dateutil\n",
    "import json\n",
    "from pyspark.sql import SQLContext, Row\n",
    "from pyspark.mllib.feature import Word2Vec\n",
    "\n",
    "import os\n",
    "import sys\n",
    "import inspect\n",
    "import random\n",
    "import datetime\n",
    "from spark_util import save_rdd\n",
    "\n",
    "currentdir = os.path.dirname(\n",
    "    os.path.abspath(inspect.getfile(inspect.currentframe()))\n",
    ")\n",
    "parentdir = os.path.dirname(currentdir)\n",
    "gpparentdir = os.path.dirname(parentdir)\n",
    "sys.path.insert(0, gpparentdir)\n",
    "\n",
    "#from src.traces.trace_utils import *"
   ]
  },
  {
   "cell_type": "code",
   "execution_count": 23,
   "metadata": {
    "collapsed": false
   },
   "outputs": [],
   "source": [
    "input_dir = '/user/ellery/readers/data/hashed_traces/rs3v2/year=2016/month=3/day=*/host=en.wikipedia.org'"
   ]
  },
  {
   "cell_type": "code",
   "execution_count": 24,
   "metadata": {
    "collapsed": true
   },
   "outputs": [],
   "source": [
    "def parse_dates(requests):\n",
    "    clean = []\n",
    "    for r in requests:\n",
    "        try:\n",
    "            r['t'] = datetime.datetime.strptime(r['t'], '%Y-%m-%d %H:%M:%S')\n",
    "            clean.append(r)\n",
    "        except:\n",
    "            pass\n",
    "    return clean"
   ]
  },
  {
   "cell_type": "code",
   "execution_count": 25,
   "metadata": {
    "collapsed": false
   },
   "outputs": [],
   "source": [
    "def sessionize(requests):\n",
    "\n",
    "    sessions = []\n",
    "    session = [requests[0]]\n",
    "    for r in requests[1:]:\n",
    "        d = r['t'] -  session[-1]['t']\n",
    "        if d > datetime.timedelta(minutes=30):\n",
    "            sessions.append(session)\n",
    "            session = [r,]\n",
    "        else:\n",
    "            session.append(r)\n",
    "\n",
    "    sessions.append(session)\n",
    "    return sessions "
   ]
  },
  {
   "cell_type": "code",
   "execution_count": 26,
   "metadata": {
    "collapsed": false
   },
   "outputs": [],
   "source": [
    "def distill_sequence(rs):\n",
    "    seen = set(['Main_Page'])\n",
    "    pages = []\n",
    "    for r in rs:\n",
    "        p = r['p'] \n",
    "        if p not in seen:\n",
    "            pages.append(p)\n",
    "            seen.add(p)\n",
    "    return pages "
   ]
  },
  {
   "cell_type": "code",
   "execution_count": 27,
   "metadata": {
    "collapsed": true
   },
   "outputs": [],
   "source": [
    "def filter_colon(ps):\n",
    "    return [p for p in ps if ':' not in p]   "
   ]
  },
  {
   "cell_type": "code",
   "execution_count": 28,
   "metadata": {
    "collapsed": false
   },
   "outputs": [],
   "source": [
    "#requests.unpersist()"
   ]
  },
  {
   "cell_type": "code",
   "execution_count": 29,
   "metadata": {
    "collapsed": false
   },
   "outputs": [],
   "source": [
    "requests  = sc.textFile(input_dir) \\\n",
    ".map(lambda x: json.loads(x)['requests']) \\\n",
    ".map(parse_dates) \\\n",
    ".filter(lambda x: len(x) > 1) \\\n",
    ".flatMap(sessionize) \\\n",
    ".map(distill_sequence) \\\n",
    ".map(filter_colon) \\\n",
    ".filter(lambda x: len(x) > 1) \\\n",
    ".filter(lambda x: len(x) < 30) \n",
    "\n",
    "#requests.persist()\n",
    "#requests.count()"
   ]
  },
  {
   "cell_type": "code",
   "execution_count": 30,
   "metadata": {
    "collapsed": false
   },
   "outputs": [
    {
     "name": "stdout",
     "output_type": "stream",
     "text": [
      "256\n",
      "256\n",
      "256\n",
      "256\n",
      "0\n",
      "0\n",
      "0\n",
      "0\n"
     ]
    }
   ],
   "source": [
    "save_rdd(requests.map(lambda x: '\\t'.join(x)), '/home/ellery/readers/data' , '/user/ellery/readers/data', 'desktop_sessions')"
   ]
  }
 ],
 "metadata": {
  "kernelspec": {
   "display_name": "Python 2",
   "language": "python",
   "name": "python2"
  },
  "language_info": {
   "codemirror_mode": {
    "name": "ipython",
    "version": 2
   },
   "file_extension": ".py",
   "mimetype": "text/x-python",
   "name": "python",
   "nbconvert_exporter": "python",
   "pygments_lexer": "ipython2",
   "version": "2.7.11"
  }
 },
 "nbformat": 4,
 "nbformat_minor": 0
}
