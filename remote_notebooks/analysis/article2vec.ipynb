{
 "cells": [
  {
   "cell_type": "code",
   "execution_count": 1,
   "metadata": {
    "collapsed": false
   },
   "outputs": [],
   "source": [
    "import gensim\n",
    "import scipy\n",
    "import multiprocessing as mp\n",
    "import time"
   ]
  },
  {
   "cell_type": "markdown",
   "metadata": {},
   "source": [
    "# Model Training"
   ]
  },
  {
   "cell_type": "code",
   "execution_count": 6,
   "metadata": {
    "collapsed": true
   },
   "outputs": [],
   "source": [
    "# 114M desktop sessions from March 1-8\n",
    "data = '/home/ellery/readers/data/desktop_sessions'"
   ]
  },
  {
   "cell_type": "code",
   "execution_count": 7,
   "metadata": {
    "collapsed": true
   },
   "outputs": [],
   "source": [
    "class MySentences(object):\n",
    "    def __init__(self, fname):\n",
    "        self.fname = fname\n",
    "    def __iter__(self):\n",
    "        for line in open(self.fname):\n",
    "            yield line.strip().split('\\t')"
   ]
  },
  {
   "cell_type": "code",
   "execution_count": 8,
   "metadata": {
    "collapsed": true
   },
   "outputs": [],
   "source": [
    "sentences = MySentences(data)"
   ]
  },
  {
   "cell_type": "code",
   "execution_count": 9,
   "metadata": {
    "collapsed": false
   },
   "outputs": [],
   "source": [
    "t1= time.time()\n",
    "\n",
    "model = gensim.models.Word2Vec( \\\n",
    "        sentences, \\\n",
    "        workers=10, \\\n",
    "        min_count=10 \\\n",
    "        )\n",
    "t2= time.time()\n",
    "print(t2-t1)"
   ]
  },
  {
   "cell_type": "markdown",
   "metadata": {
    "collapsed": false
   },
   "source": [
    "# Model Visualization\n",
    "\n",
    "Showing nearest neighbours for some selected articles"
   ]
  },
  {
   "cell_type": "code",
   "execution_count": 15,
   "metadata": {
    "collapsed": false
   },
   "outputs": [
    {
     "data": {
      "text/plain": [
       "[('Iowa_Brown_and_Black_Forum', 0.8782486915588379),\n",
       " ('Yale_Review_of_Law_and_Social_Action', 0.8693762421607971),\n",
       " ('Arkansas_Attorney_General', 0.8580405116081238),\n",
       " ('Electoral_history_of_Hillary_Clinton', 0.8544828295707703),\n",
       " ('Barack_Obama', 0.8514754176139832),\n",
       " ('Hillar', 0.8502122759819031),\n",
       " ('Bill_Clinton', 0.8479112386703491),\n",
       " ('Sanders', 0.8358368873596191),\n",
       " ('Clinton_Foundation', 0.8356104493141174),\n",
       " (\"Hillary_Rodham_Clinton's_tenure_as_Secretary_of_State\", 0.8331012725830078)]"
      ]
     },
     "execution_count": 15,
     "metadata": {},
     "output_type": "execute_result"
    }
   ],
   "source": [
    "model.most_similar(positive=['Hillary_Clinton'])"
   ]
  },
  {
   "cell_type": "code",
   "execution_count": 17,
   "metadata": {
    "collapsed": false
   },
   "outputs": [
    {
     "data": {
      "text/plain": [
       "[('Hillary_Clinton_presidential_campaign,_2016', 0.8778544664382935),\n",
       " ('Political_positions_of_Hillary_Clinton', 0.8767287135124207),\n",
       " ('Bernie_Sanders_presidential_campaign,_2016', 0.86034095287323),\n",
       " ('Hillar', 0.8505578637123108),\n",
       " ('University_of_Chicago_sit-ins', 0.8461411595344543),\n",
       " ('Political_positions_of_Bernie_Sanders', 0.8457858562469482),\n",
       " ('Ted_Cruz', 0.8451305627822876),\n",
       " ('Exploratory_committee', 0.8393709659576416),\n",
       " ('Liberty_Union_Party', 0.8388909101486206),\n",
       " ('Deborah_Dash_Moore', 0.8372821807861328)]"
      ]
     },
     "execution_count": 17,
     "metadata": {},
     "output_type": "execute_result"
    }
   ],
   "source": [
    "model.most_similar(positive=['Bernie_Sanders'])"
   ]
  },
  {
   "cell_type": "code",
   "execution_count": 11,
   "metadata": {
    "collapsed": false
   },
   "outputs": [
    {
     "data": {
      "text/plain": [
       "[('The_Trump_Organization', 0.8916497230529785),\n",
       " ('Eric_Trump', 0.8914116024971008),\n",
       " ('Sheena_Monnin', 0.8833520412445068),\n",
       " ('Neil_Papiano', 0.8812316656112671),\n",
       " ('Trump_University', 0.8798811435699463),\n",
       " ('Donald_Trump,_Jr.', 0.8763264417648315),\n",
       " ('Ivana_Trump', 0.8761260509490967),\n",
       " ('Ivanka_Trump', 0.8726767301559448),\n",
       " ('Fred_Trump', 0.8709776997566223),\n",
       " ('Melania_Trump', 0.8707207441329956)]"
      ]
     },
     "execution_count": 11,
     "metadata": {},
     "output_type": "execute_result"
    }
   ],
   "source": [
    "model.most_similar(positive=['Donald_Trump'])"
   ]
  },
  {
   "cell_type": "code",
   "execution_count": 12,
   "metadata": {
    "collapsed": false
   },
   "outputs": [
    {
     "data": {
      "text/plain": [
       "[('Natural_selection', 0.9325886368751526),\n",
       " ('Evolutionary_biology', 0.9209023714065552),\n",
       " ('Modern_evolutionary_synthesis', 0.9205528497695923),\n",
       " ('History_of_evolutionary_thought', 0.906503438949585),\n",
       " ('Introduction_to_evolution', 0.9029444456100464),\n",
       " ('Evolution_as_fact_and_theory', 0.9027808308601379),\n",
       " ('Darwinism', 0.8978862762451172),\n",
       " ('Transmutation_of_species', 0.8963320851325989),\n",
       " ('Macroevolution', 0.8913694024085999),\n",
       " ('Punctuated_equilibrium', 0.890508770942688)]"
      ]
     },
     "execution_count": 12,
     "metadata": {},
     "output_type": "execute_result"
    }
   ],
   "source": [
    "model.most_similar(positive=['Evolution'])"
   ]
  },
  {
   "cell_type": "code",
   "execution_count": 13,
   "metadata": {
    "collapsed": false
   },
   "outputs": [
    {
     "data": {
      "text/plain": [
       "[('Base_pair', 0.9509055614471436),\n",
       " ('Central_dogma_of_molecular_biology', 0.9430505037307739),\n",
       " ('Nucleotide', 0.9419915676116943),\n",
       " ('DNA_replication', 0.9367133975028992),\n",
       " ('Nucleic_acid_structure', 0.9345824122428894),\n",
       " ('Directionality_(molecular_biology)', 0.9341717958450317),\n",
       " ('Genetic_code', 0.9315392971038818),\n",
       " ('DNA', 0.9302135705947876),\n",
       " ('Ribozyme', 0.9252339005470276),\n",
       " ('Messenger_RNA', 0.9248993396759033)]"
      ]
     },
     "execution_count": 13,
     "metadata": {},
     "output_type": "execute_result"
    }
   ],
   "source": [
    "model.most_similar(positive=['RNA'])"
   ]
  },
  {
   "cell_type": "code",
   "execution_count": 19,
   "metadata": {
    "collapsed": false
   },
   "outputs": [
    {
     "data": {
      "text/plain": [
       "[('Tf\\xe2\\x80\\x93idf', 0.8843090534210205),\n",
       " ('Brown_clustering', 0.8749439716339111),\n",
       " ('Semantic_similarity', 0.8564387559890747),\n",
       " ('Information_retrieval', 0.8535803556442261),\n",
       " ('Vector_space_model', 0.8527559041976929),\n",
       " ('Language_model', 0.8499871492385864),\n",
       " ('Standard_Boolean_model', 0.8412074446678162),\n",
       " ('Probabilistic_relevance_model', 0.8400912284851074),\n",
       " ('Automatic_summarization', 0.8396162986755371),\n",
       " ('Information_extraction', 0.8359880447387695)]"
      ]
     },
     "execution_count": 19,
     "metadata": {},
     "output_type": "execute_result"
    }
   ],
   "source": [
    "model.most_similar(positive=['Word2vec'])"
   ]
  },
  {
   "cell_type": "code",
   "execution_count": 20,
   "metadata": {
    "collapsed": false
   },
   "outputs": [
    {
     "data": {
      "text/plain": [
       "[('Greater_Swiss_Mountain_Dog', 0.9344344735145569),\n",
       " ('Leonberger', 0.9229980707168579),\n",
       " ('Guard_dog', 0.9189308881759644),\n",
       " ('Newfoundland_(dog)', 0.9188593029975891),\n",
       " ('St._Bernard_(dog)', 0.918179452419281),\n",
       " ('Great_Dane', 0.9135888814926147),\n",
       " ('Rottweiler', 0.9129557609558105),\n",
       " ('Molosser', 0.9117367267608643),\n",
       " ('Poodle', 0.9058513641357422),\n",
       " ('Alpine_Spaniel', 0.9052913188934326)]"
      ]
     },
     "execution_count": 20,
     "metadata": {},
     "output_type": "execute_result"
    }
   ],
   "source": [
    "model.most_similar(positive=['Bernese_Mountain_Dog'])"
   ]
  },
  {
   "cell_type": "code",
   "execution_count": null,
   "metadata": {
    "collapsed": true
   },
   "outputs": [],
   "source": []
  }
 ],
 "metadata": {
  "kernelspec": {
   "display_name": "Python 2",
   "language": "python",
   "name": "python2"
  },
  "language_info": {
   "codemirror_mode": {
    "name": "ipython",
    "version": 2
   },
   "file_extension": ".py",
   "mimetype": "text/x-python",
   "name": "python",
   "nbconvert_exporter": "python",
   "pygments_lexer": "ipython2",
   "version": "2.7.11"
  }
 },
 "nbformat": 4,
 "nbformat_minor": 0
}
