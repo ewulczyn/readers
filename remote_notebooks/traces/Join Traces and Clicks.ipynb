{
 "cells": [
  {
   "cell_type": "code",
   "execution_count": 1,
   "metadata": {
    "collapsed": false
   },
   "outputs": [],
   "source": [
    "%load_ext autoreload\n",
    "%autoreload 2\n",
    "import dateutil\n",
    "import json\n",
    "from pyspark.sql import SQLContext, Row"
   ]
  },
  {
   "cell_type": "code",
   "execution_count": 2,
   "metadata": {
    "collapsed": false
   },
   "outputs": [],
   "source": [
    "import os\n",
    "import sys\n",
    "import inspect\n",
    "\n",
    "currentdir = os.path.dirname(\n",
    "    os.path.abspath(inspect.getfile(inspect.currentframe()))\n",
    ")\n",
    "parentdir = os.path.dirname(currentdir)\n",
    "gpparentdir = os.path.dirname(parentdir)\n",
    "sys.path.insert(0, gpparentdir)\n",
    "\n",
    "from src.traces.trace_utils import *"
   ]
  },
  {
   "cell_type": "code",
   "execution_count": 5,
   "metadata": {
    "collapsed": false
   },
   "outputs": [],
   "source": [
    "sqlContext = SQLContext(sc)\n",
    "table = 'test'\n",
    "input_dir = '/user/ellery/readers/data/hashed_traces/rs3'\n",
    "output_dir = '/home/ellery/readers/data/click_traces/rs3'"
   ]
  },
  {
   "cell_type": "code",
   "execution_count": 6,
   "metadata": {
    "collapsed": true
   },
   "outputs": [],
   "source": [
    "day = '2016-03-03'\n",
    "host = 'en.wikipedia.org'"
   ]
  },
  {
   "cell_type": "code",
   "execution_count": 7,
   "metadata": {
    "collapsed": false
   },
   "outputs": [],
   "source": [
    "partition = get_partition_name(day, host)\n",
    "input_partition = os.path.join(input_dir, partition)\n",
    "output_partition = os.path.join(output_dir, partition)"
   ]
  },
  {
   "cell_type": "code",
   "execution_count": 10,
   "metadata": {
    "collapsed": false
   },
   "outputs": [],
   "source": [
    "d_all_clicks = get_all_clicks()"
   ]
  },
  {
   "cell_type": "code",
   "execution_count": 23,
   "metadata": {
    "collapsed": false
   },
   "outputs": [],
   "source": [
    "trace_rdd = sc.textFile(input_partition) \\\n",
    "                .map(lambda x: json.loads(x)) \\\n",
    "                .filter(lambda x: len(x) == 4) \\\n",
    "                .map(lambda x: Row(key=x['ip'] + x['ua'], requests=x['requests'], geo_data=x['geo_data']))\n",
    "            \n",
    "\n",
    "traceDF = sqlContext.createDataFrame(trace_rdd)\n",
    "traceDF.registerTempTable(\"traceDF\")"
   ]
  },
  {
   "cell_type": "code",
   "execution_count": 24,
   "metadata": {
    "collapsed": false
   },
   "outputs": [
    {
     "data": {
      "text/plain": [
       "[Row(geo_data='city\\x03Brisbane\\x02country_code\\x03AU\\x02longitude\\x03153.0281\\x02subdivision\\x03Queensland\\x02timezone\\x03Australia/Brisbane\\x02postal_code\\x034000\\x02continent\\x03Oceania\\x02latitude\\x03-27.4679\\x02country\\x03Australia', key='60bda35cc9c591ed68c046a193b8ef8599346b45Mozilla/5.0 (Windows NT 6.1) AppleWebKit/537.36 (KHTML, like Gecko) Chrome/48.0.2564.116 Safari/537.36', requests=[{'r': 'https://www.google.com.au/', 't': '2016-03-03 11:39:44', 'p': '/wiki/Christianity_in_Australia'}, {'r': 'https://www.google.com.au/', 't': '2016-03-03 11:52:02', 'p': '/wiki/Christianity_in_Australia'}])]"
      ]
     },
     "execution_count": 24,
     "metadata": {},
     "output_type": "execute_result"
    }
   ],
   "source": [
    "trace_rdd.take(1)"
   ]
  },
  {
   "cell_type": "code",
   "execution_count": 28,
   "metadata": {
    "collapsed": false
   },
   "outputs": [],
   "source": [
    "clickDF = get_click_df(sc,sqlContext, d_all_clicks, day,host, 'clickDF')"
   ]
  },
  {
   "cell_type": "code",
   "execution_count": 30,
   "metadata": {
    "collapsed": true
   },
   "outputs": [],
   "source": [
    "query = \"\"\"\n",
    "SELECT *\n",
    "FROM \n",
    "    traceDF JOIN clickDF\n",
    "WHERE clickDF.key = traceDF.key\n",
    "\"\"\"\n",
    "\n",
    "res = sqlContext.sql(query).collect()"
   ]
  },
  {
   "cell_type": "code",
   "execution_count": 29,
   "metadata": {
    "collapsed": false
   },
   "outputs": [
    {
     "data": {
      "text/plain": [
       "[Row(_c0=3826)]"
      ]
     },
     "execution_count": 29,
     "metadata": {},
     "output_type": "execute_result"
    }
   ],
   "source": [
    "sqlContext.sql(\"SELECT COUNT(*) FROM clickDF \").collect()"
   ]
  },
  {
   "cell_type": "code",
   "execution_count": 31,
   "metadata": {
    "collapsed": false
   },
   "outputs": [
    {
     "data": {
      "text/plain": [
       "4421"
      ]
     },
     "execution_count": 31,
     "metadata": {},
     "output_type": "execute_result"
    }
   ],
   "source": [
    "len(res)"
   ]
  },
  {
   "cell_type": "code",
   "execution_count": 32,
   "metadata": {
    "collapsed": false
   },
   "outputs": [
    {
     "data": {
      "text/plain": [
       "Row(geo_data=\"city\\x03Nerekhta\\x02country_code\\x03RU\\x02longitude\\x0340.5661\\x02subdivision\\x03Kostromskaya Oblast'\\x02timezone\\x03Europe/Moscow\\x02postal_code\\x03157800\\x02continent\\x03Europe\\x02latitude\\x0357.4553\\x02country\\x03Russia\", key='001537b0d0ca14c4e46fce80d0ea2dca370b5ae4Mozilla/5.0 (Windows NT 6.1; WOW64) AppleWebKit/537.36 (KHTML, like Gecko) Chrome/48.0.2564.116 Safari/537.36', requests=[{'r': 'http://yandex.ru/clck/jsredir?from=yandex.ru%3Bsearch%2F%3Bweb%3B%3B&text=&etext=982.QiH6c3Sto_ax8wG7_c7_BJDEt5r3GNGHFvYMVJC9XMjui82Q2QriJ-x-x_9KdcJK.bcd19b5a5ce9b058ac7ed31acdd5dd657228fb1f&uuid=&state=PEtFfuTeVD5kpHnK9lio9bb4iM1VPfe4W5x0C0-qwflIRTTifi6VAA&data=UlNrNmk5WktYejY4cHFySjRXSWhXSGxvZUlpX00ycGJLT2o3eThmZHI2bHdTdTFrenVrSGZueVZvSmRRaDktTEJxNFlTZzUtS2RLNHVVc0JGcHhPTFQycGVkMGRGUXRDT2w4bUY5TXg4X3dqZ3U2REptQWhMUzQyTjJBQzE3eGJKNDYzQmotLWYzb3dsS0ZtSWhTZzREalRQR3VOblhMQQ&b64e=2&sign=bc943589bbe2c971c8c899d12745ce92&keyno=0&cst=AiuY0DBWFJ5eVd_Onia6xqeWXok_Ow4AsF2UGZl_IvirXbU0iLWJ0nL7GUL5fSV2S5bswqSFF5t0fFRiviz-sYPGAuA1n6Sa5AibBjR11IvzyrwNOuv4fDhb9tzHHAFl0eIcxFMojHHOZB56Bg53dES6_mP8l-zxhMcIDkE4jobdNnm3AmZZCDeAbhrX7AXD5h6Wrg0Ndgcq1EbT_0J1lvzLPUdsHq2KgmG84LqdcbOmtNmuw_Xq2VpG5Ggs9J-7&ref=orjY4mGPRjk5boDnW0uvlrrd71vZw9kp_WG74dv641SQgVWqsIlqVh9cNEbTja_TQpr3SsAoFKGsaq7cVdmvTst6cRScCO9HCT7aXqs28S8WGRze47H-rcJuaUVHDtCr&l10n=ru&cts=1456979232988&mc=3.4713544870139303', 't': '2016-03-03 09:26:56', 'p': '/wiki/Beyond_Good_%26_Evil_(video_game)'}], click_data={'event_surveyInstanceToken': '39fa7c47377fcd5a', 'timestamp': '20160303092704', 'event_pageId': '633739', 'event_pageTitle': 'Beyond_Good_&_Evil_(video_game)'}, key='001537b0d0ca14c4e46fce80d0ea2dca370b5ae4Mozilla/5.0 (Windows NT 6.1; WOW64) AppleWebKit/537.36 (KHTML, like Gecko) Chrome/48.0.2564.116 Safari/537.36')"
      ]
     },
     "execution_count": 32,
     "metadata": {},
     "output_type": "execute_result"
    }
   ],
   "source": [
    "res[0]"
   ]
  },
  {
   "cell_type": "code",
   "execution_count": 60,
   "metadata": {
    "collapsed": false
   },
   "outputs": [
    {
     "data": {
      "text/plain": [
       "list"
      ]
     },
     "execution_count": 60,
     "metadata": {},
     "output_type": "execute_result"
    }
   ],
   "source": [
    "type(res)"
   ]
  },
  {
   "cell_type": "code",
   "execution_count": 67,
   "metadata": {
    "collapsed": false
   },
   "outputs": [],
   "source": [
    "click_traces = []\n",
    "for row in res:\n",
    "    d = {'key': row.key, 'requests': row.requests, 'click_data':row.click_data, 'geo_data': row.geo_data}\n",
    "    click_traces.append(d)"
   ]
  },
  {
   "cell_type": "code",
   "execution_count": 71,
   "metadata": {
    "collapsed": false
   },
   "outputs": [],
   "source": [
    "path = os.path.join(out_dir, fname)\n",
    "outfile = os.path.join(path, 'data.json')\n",
    "os.makedirs( path )\n",
    "json.dump(click_traces, open(outfile, 'w'))"
   ]
  }
 ],
 "metadata": {
  "kernelspec": {
   "display_name": "Python 3",
   "language": "python",
   "name": "python3"
  },
  "language_info": {
   "codemirror_mode": {
    "name": "ipython",
    "version": 3
   },
   "file_extension": ".py",
   "mimetype": "text/x-python",
   "name": "python",
   "nbconvert_exporter": "python",
   "pygments_lexer": "ipython3",
   "version": "3.4.3"
  }
 },
 "nbformat": 4,
 "nbformat_minor": 0
}
