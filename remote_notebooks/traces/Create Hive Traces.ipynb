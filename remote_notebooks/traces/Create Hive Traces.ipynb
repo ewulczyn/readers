{
 "cells": [
  {
   "cell_type": "code",
   "execution_count": 1,
   "metadata": {
    "collapsed": true
   },
   "outputs": [],
   "source": [
    "%load_ext autoreload\n",
    "%autoreload 2\n",
    "%matplotlib inline\n",
    "import warnings\n",
    "warnings.filterwarnings('ignore')\n",
    "import pandas as pd\n"
   ]
  },
  {
   "cell_type": "code",
   "execution_count": 5,
   "metadata": {
    "collapsed": false
   },
   "outputs": [],
   "source": [
    "import os\n",
    "import sys\n",
    "import inspect\n",
    "\n",
    "currentdir = os.path.dirname(\n",
    "    os.path.abspath(inspect.getfile(inspect.currentframe()))\n",
    ")\n",
    "parentdir = os.path.dirname(currentdir)\n",
    "gpparentdir = os.path.dirname(parentdir)\n",
    "sys.path.insert(0, gpparentdir)\n",
    "\n",
    "from src.traces.trace_utils import *"
   ]
  },
  {
   "cell_type": "code",
   "execution_count": 8,
   "metadata": {
    "collapsed": false
   },
   "outputs": [],
   "source": [
    "create_hive_trace_table('traces', 'test2', local = False)"
   ]
  },
  {
   "cell_type": "code",
   "execution_count": 13,
   "metadata": {
    "collapsed": false
   },
   "outputs": [],
   "source": [
    "start = '2016-02-17' \n",
    "stop  = '2016-02-19'\n",
    "days = [str(day) for day in pd.date_range(start,stop)] "
   ]
  },
  {
   "cell_type": "code",
   "execution_count": 14,
   "metadata": {
    "collapsed": false
   },
   "outputs": [
    {
     "name": "stdout",
     "output_type": "stream",
     "text": [
      "Adding Traces From:  2016-02-17 00:00:00\n",
      "Adding Traces From:  2016-02-18 00:00:00\n",
      "Adding Traces From:  2016-02-19 00:00:00\n"
     ]
    }
   ],
   "source": [
    "for day in days:\n",
    "    print('Adding Traces From: ', day)\n",
    "    add_day_to_hive_trace_table('traces', 'test2', day, local = False)"
   ]
  },
  {
   "cell_type": "code",
   "execution_count": null,
   "metadata": {
    "collapsed": true
   },
   "outputs": [],
   "source": []
  }
 ],
 "metadata": {
  "kernelspec": {
   "display_name": "Python 3",
   "language": "python",
   "name": "python3"
  },
  "language_info": {
   "codemirror_mode": {
    "name": "ipython",
    "version": 3
   },
   "file_extension": ".py",
   "mimetype": "text/x-python",
   "name": "python",
   "nbconvert_exporter": "python",
   "pygments_lexer": "ipython3",
   "version": "3.4.3"
  }
 },
 "nbformat": 4,
 "nbformat_minor": 0
}
