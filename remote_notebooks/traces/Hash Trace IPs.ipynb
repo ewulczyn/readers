{
 "cells": [
  {
   "cell_type": "code",
   "execution_count": 24,
   "metadata": {
    "collapsed": false
   },
   "outputs": [
    {
     "name": "stdout",
     "output_type": "stream",
     "text": [
      "The autoreload extension is already loaded. To reload it, use:\n",
      "  %reload_ext autoreload\n"
     ]
    }
   ],
   "source": [
    "%load_ext autoreload\n",
    "%autoreload 2\n",
    "import dateutil\n",
    "import json\n",
    "from pyspark.sql import SQLContext, Row\n",
    "sqlContext = SQLContext(sc)"
   ]
  },
  {
   "cell_type": "code",
   "execution_count": 4,
   "metadata": {
    "collapsed": true
   },
   "outputs": [],
   "source": [
    "import os\n",
    "import sys\n",
    "import inspect\n",
    "\n",
    "currentdir = os.path.dirname(\n",
    "    os.path.abspath(inspect.getfile(inspect.currentframe()))\n",
    ")\n",
    "parentdir = os.path.dirname(currentdir)\n",
    "gpparentdir = os.path.dirname(parentdir)\n",
    "sys.path.insert(0, gpparentdir)\n",
    "\n",
    "from src.traces.trace_utils import *"
   ]
  },
  {
   "cell_type": "code",
   "execution_count": 13,
   "metadata": {
    "collapsed": true
   },
   "outputs": [],
   "source": [
    "def get_hash_function():\n",
    "    key = name = input(\"Key \")\n",
    "    clear_output()\n",
    "    def hash_function(s):\n",
    "        code = hmac.new(key.encode('utf-8'), s.encode('utf-8'), hashlib.sha1)\n",
    "        s = code.hexdigest()\n",
    "        return s\n",
    "    return hash_function\n",
    "\n",
    "\n",
    "def parse_row(line):\n",
    "    row = line.strip().split('\\t')\n",
    "    if len(row) !=4:\n",
    "        return None\n",
    "    \n",
    "    d = {'ip': row[0],\n",
    "         'ua': row[1],\n",
    "         'requests' : parse_requests(row[3])\n",
    "        }\n",
    "    return d\n",
    "\n",
    "def parse_requests(requests):\n",
    "    ret = []\n",
    "    for r in requests.split('||'):\n",
    "        t = r.split('|')\n",
    "        if len(t) != 3:\n",
    "            continue\n",
    "        ret.append({'t': t[0], 'r': t[1], 'p': t[2]})\n",
    "    ret.sort(key = lambda x: x['t']) # sort by time\n",
    "    return ret"
   ]
  },
  {
   "cell_type": "code",
   "execution_count": 14,
   "metadata": {
    "collapsed": false
   },
   "outputs": [],
   "source": [
    "db = 'traces'\n",
    "table = 'test'\n",
    "hive_dir = '/user/hive/warehouse/%s.db' % db\n",
    "output_dir = '/user/ellery/readers'"
   ]
  },
  {
   "cell_type": "code",
   "execution_count": 15,
   "metadata": {
    "collapsed": false
   },
   "outputs": [],
   "source": [
    "hash_function = get_hash_function()\n",
    "\n",
    "def hash_ip(x):\n",
    "    x['ip'] = hash_function(x['ip'])\n",
    "    return x"
   ]
  },
  {
   "cell_type": "code",
   "execution_count": 16,
   "metadata": {
    "collapsed": true
   },
   "outputs": [],
   "source": [
    "day = '2016-02-17'\n",
    "host = 'en.wikipedia.org'"
   ]
  },
  {
   "cell_type": "code",
   "execution_count": 17,
   "metadata": {
    "collapsed": false
   },
   "outputs": [],
   "source": [
    "fname = get_file_name(day, host, table)"
   ]
  },
  {
   "cell_type": "code",
   "execution_count": 18,
   "metadata": {
    "collapsed": false
   },
   "outputs": [],
   "source": [
    "hive_table = os.path.join(hive_dir, fname)\n",
    "output_table = os.path.join(output_dir, fname )"
   ]
  },
  {
   "cell_type": "code",
   "execution_count": 27,
   "metadata": {
    "collapsed": false
   },
   "outputs": [],
   "source": [
    "trace_rdd = sc.textFile(hive_table) \\\n",
    "                .map(parse_row) \\\n",
    "                .filter(lambda x: x is not None) \\\n",
    "                .map(hash_ip) \\\n",
    "                .map(lambda x: json.dumps(x))         \n",
    "os.system('hadoop fs -rm -r ' + output_table)\n",
    "trace_rdd.saveAsTextFile(output_table)"
   ]
  }
 ],
 "metadata": {
  "kernelspec": {
   "display_name": "Python 3",
   "language": "python",
   "name": "python3"
  },
  "language_info": {
   "codemirror_mode": {
    "name": "ipython",
    "version": 3
   },
   "file_extension": ".py",
   "mimetype": "text/x-python",
   "name": "python",
   "nbconvert_exporter": "python",
   "pygments_lexer": "ipython3",
   "version": "3.4.3"
  }
 },
 "nbformat": 4,
 "nbformat_minor": 0
}
